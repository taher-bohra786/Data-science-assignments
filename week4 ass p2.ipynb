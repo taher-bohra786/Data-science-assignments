{
 "cells": [
  {
   "cell_type": "markdown",
   "id": "bc40a762-cb34-4c30-9680-9155febe75b2",
   "metadata": {},
   "source": [
    "(1) Class: In object-oriented programming, a class is a blueprint or a template for creating objects. It defines a set of attributes and methods that will be present in the objects created from the class. A class provides a way to encapsulate data and behavior into a single unit, making it easier to manage and organize code.\n",
    "A class describes the common characteristics and behaviors that its objects will possess. It's like a blueprint that defines the structure and behavior of the objects.\n",
    "\n",
    "Object: An object is an instance of a class. It is a concrete entity that can hold data and execute methods defined in the class. Each object created from a class has its own set of data, but they all share the same methods defined by the class.\n",
    "Think of a class as a blueprint for a house, and an object as an actual house built according to that blueprint. The class defines what the house will look like and what rooms it will have, while the object is the physical representation of that house."
   ]
  },
  {
   "cell_type": "code",
   "execution_count": 1,
   "id": "d32f47f3-35b8-43fa-a651-c6d0b134d73e",
   "metadata": {},
   "outputs": [],
   "source": [
    "#example\n",
    "class pwskills:\n",
    "    def syallabus_price(self, price):\n",
    "        print(\"The price of the syallabus is\", price)"
   ]
  },
  {
   "cell_type": "code",
   "execution_count": 2,
   "id": "552d962a-7af8-4176-8d46-9af035d9a801",
   "metadata": {},
   "outputs": [],
   "source": [
    "pw = pwskills()"
   ]
  },
  {
   "cell_type": "code",
   "execution_count": 3,
   "id": "a1bf20e8-e978-4e5f-8837-3770f4784ae2",
   "metadata": {},
   "outputs": [
    {
     "name": "stdout",
     "output_type": "stream",
     "text": [
      "The price of the syallabus is 4000\n"
     ]
    }
   ],
   "source": [
    "pw.syallabus_price(4000)"
   ]
  },
  {
   "cell_type": "markdown",
   "id": "ecd2d3e2-e7e4-4fcb-961b-5e2647d93f83",
   "metadata": {},
   "source": []
  },
  {
   "cell_type": "markdown",
   "id": "c8c5610f-14b2-44a9-a71a-fd68ca0c8a4e",
   "metadata": {},
   "source": [
    "(2) Four pillar of OOPS are Encapsulation , Abstraction, Inheritance , Polymorphism."
   ]
  },
  {
   "cell_type": "markdown",
   "id": "9d5dad82-47d6-4d78-ae0e-f60d0493e49d",
   "metadata": {},
   "source": []
  },
  {
   "cell_type": "markdown",
   "id": "646a321c-11f3-48e5-a131-fbc8b0127c01",
   "metadata": {},
   "source": [
    "(3) The __init__() function is a special method, often referred to as a constructor, that is used to initialize the attributes of an object when an instance of a class is created. It is automatically called when you create a new object from a class. The __init__ function allows you to set initial values for the attributes of the object, effectively providing a way to customize the object's state during its creation."
   ]
  },
  {
   "cell_type": "code",
   "execution_count": 4,
   "id": "2580ad06-65c4-4277-b9f7-2b4189a85318",
   "metadata": {},
   "outputs": [],
   "source": [
    "#example\n",
    "class Student:\n",
    "    def __init__(self , name , age):\n",
    "        self.name = name\n",
    "        self.age = age\n",
    "        \n",
    "    def student_details(self):\n",
    "        return self.name , self.age\n",
    "    "
   ]
  },
  {
   "cell_type": "code",
   "execution_count": 5,
   "id": "bfff5e59-2add-46e1-afaf-3009a715c2fa",
   "metadata": {},
   "outputs": [],
   "source": [
    "student_info = Student(\"Taher\" , 19)"
   ]
  },
  {
   "cell_type": "code",
   "execution_count": 6,
   "id": "87195366-78ff-4a4c-b41a-1c5f337b6812",
   "metadata": {},
   "outputs": [
    {
     "data": {
      "text/plain": [
       "('Taher', 19)"
      ]
     },
     "execution_count": 6,
     "metadata": {},
     "output_type": "execute_result"
    }
   ],
   "source": [
    "student_info.student_details()"
   ]
  },
  {
   "cell_type": "markdown",
   "id": "2f37a25f-6a29-4673-862c-d24d81b7209f",
   "metadata": {
    "tags": []
   },
   "source": [
    "(4) self is a reference to the instance of the class that a method is being called on. It is a convention in Python which use the name self as the first parameter of instance methods in a class. The use of self is essential for proper access to instance attributes and methods within a class."
   ]
  },
  {
   "cell_type": "markdown",
   "id": "dfec4507-4b07-43f5-b5a4-599b6c3feebd",
   "metadata": {},
   "source": [
    "(5) Inheritance is a fundamental concept that allows a new class to inherit attributes and methods from an existing class. The existing class is referred to as the parent class while the new class is called the child class."
   ]
  },
  {
   "cell_type": "markdown",
   "id": "c7e63ec6-4e84-4aad-97cf-f7ca0a8341ec",
   "metadata": {},
   "source": [
    "MULTILABEL INHERITANCE "
   ]
  },
  {
   "cell_type": "code",
   "execution_count": 12,
   "id": "9006dee4-f8bb-4bd1-b0de-5574daec65a5",
   "metadata": {},
   "outputs": [],
   "source": [
    "class first:\n",
    "    def class1(self):\n",
    "        print(\"This is First class\")"
   ]
  },
  {
   "cell_type": "code",
   "execution_count": 13,
   "id": "3dc6a513-e662-4b5b-b28c-874990224d2e",
   "metadata": {},
   "outputs": [],
   "source": [
    "class second(first):\n",
    "    def class2(self):\n",
    "        print(\"This is second class\")"
   ]
  },
  {
   "cell_type": "code",
   "execution_count": 14,
   "id": "88878913-e301-4b95-90b3-bcefe4cf6e28",
   "metadata": {},
   "outputs": [],
   "source": [
    "class third(second):\n",
    "    def class3(self):\n",
    "        pass"
   ]
  },
  {
   "cell_type": "code",
   "execution_count": 15,
   "id": "5868e835-8f0e-4ad7-9bf8-ac78372b0f56",
   "metadata": {},
   "outputs": [],
   "source": [
    "Class_object = third()"
   ]
  },
  {
   "cell_type": "code",
   "execution_count": 18,
   "id": "ba82400f-4380-4255-b34b-b5da5b3a42ce",
   "metadata": {},
   "outputs": [
    {
     "name": "stdout",
     "output_type": "stream",
     "text": [
      "This is second class\n"
     ]
    }
   ],
   "source": [
    "Class_object.class2()"
   ]
  },
  {
   "cell_type": "code",
   "execution_count": 19,
   "id": "3f6cf38d-7139-4408-98e8-53f65aebf68d",
   "metadata": {},
   "outputs": [
    {
     "name": "stdout",
     "output_type": "stream",
     "text": [
      "This is First class\n"
     ]
    }
   ],
   "source": [
    "Class_object.class1()"
   ]
  },
  {
   "cell_type": "markdown",
   "id": "7ceedb94-4f59-4e6e-aee1-18942842bcf5",
   "metadata": {},
   "source": [
    "MULTIPLE CLASS INHERITANCE"
   ]
  },
  {
   "cell_type": "code",
   "execution_count": 21,
   "id": "24de2c39-f2d8-4ca4-9906-7c5163f585c2",
   "metadata": {},
   "outputs": [],
   "source": [
    "class first:\n",
    "    def class1(self):\n",
    "        return \"this is my first class\"\n",
    "    \n",
    "class second:\n",
    "    def class2(self):\n",
    "        return \"this is my second class\"\n",
    "    \n",
    "class third(first , second):\n",
    "    def third(self):\n",
    "        pass\n"
   ]
  },
  {
   "cell_type": "code",
   "execution_count": 22,
   "id": "a42ce94a-3590-48f9-b9d4-9aed0b8e548a",
   "metadata": {},
   "outputs": [],
   "source": [
    "class_ob = third()"
   ]
  },
  {
   "cell_type": "code",
   "execution_count": 23,
   "id": "f8ff8614-43e7-4a20-bcf4-9d553da0a1d4",
   "metadata": {},
   "outputs": [
    {
     "data": {
      "text/plain": [
       "'this is my second class'"
      ]
     },
     "execution_count": 23,
     "metadata": {},
     "output_type": "execute_result"
    }
   ],
   "source": [
    "class_ob.class2()"
   ]
  },
  {
   "cell_type": "code",
   "execution_count": 24,
   "id": "0301c42a-0e14-4352-abd9-90356462740f",
   "metadata": {},
   "outputs": [
    {
     "data": {
      "text/plain": [
       "'this is my first class'"
      ]
     },
     "execution_count": 24,
     "metadata": {},
     "output_type": "execute_result"
    }
   ],
   "source": [
    "class_ob.class1()"
   ]
  }
 ],
 "metadata": {
  "kernelspec": {
   "display_name": "Python 3 (ipykernel)",
   "language": "python",
   "name": "python3"
  },
  "language_info": {
   "codemirror_mode": {
    "name": "ipython",
    "version": 3
   },
   "file_extension": ".py",
   "mimetype": "text/x-python",
   "name": "python",
   "nbconvert_exporter": "python",
   "pygments_lexer": "ipython3",
   "version": "3.10.8"
  }
 },
 "nbformat": 4,
 "nbformat_minor": 5
}
