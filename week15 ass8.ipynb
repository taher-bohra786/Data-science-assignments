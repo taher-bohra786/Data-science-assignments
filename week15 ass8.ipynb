{
 "cells": [
  {
   "cell_type": "markdown",
   "metadata": {},
   "source": [
    "**Q1.**  \n",
    "Grid Search CV finds the best hyperparameters for a model by exhaustively searching over a specified parameter grid using cross-validation.  \n",
    "\n",
    "**Q2.**  \n",
    "Grid Search CV searches all possible parameter combinations, while Randomized Search CV selects a subset randomly. Use Grid Search for small grids and Randomized Search for large, complex spaces.  \n",
    "\n",
    "**Q3.**  \n",
    "Data leakage occurs when training data includes information from the test set, leading to overly optimistic performance. Example: Using future stock prices as features in a predictive model.  \n",
    "\n",
    "**Q4.**  \n",
    "Prevent data leakage by splitting data **before** preprocessing, using **pipeline-based transformations**, and ensuring features don't contain target information.  \n",
    "\n",
    "**Q5.**  \n",
    "A confusion matrix shows **True Positives (TP), False Positives (FP), True Negatives (TN), and False Negatives (FN)**, helping assess classification model performance.  \n",
    "\n",
    "**Q6.**  \n",
    "- **Precision** = TP / (TP + FP) → Focuses on minimizing false positives.  \n",
    "- **Recall** = TP / (TP + FN) → Focuses on minimizing false negatives.  \n",
    "\n",
    "**Q7.**  \n",
    "By analyzing FP and FN values, you can determine whether your model is biased towards false positives (over-predicting) or false negatives (under-predicting).  \n",
    "\n",
    "**Q8.**  \n",
    "- **Accuracy** = (TP + TN) / Total  \n",
    "- **Precision** = TP / (TP + FP)  \n",
    "- **Recall (Sensitivity)** = TP / (TP + FN)  \n",
    "- **F1-score** = 2 × (Precision × Recall) / (Precision + Recall)  \n",
    "\n",
    "**Q9.**  \n",
    "Accuracy depends on TP and TN but can be misleading if the dataset is imbalanced, making precision and recall more reliable in such cases.  \n",
    "\n",
    "**Q10.**  \n",
    "A confusion matrix can reveal bias if FP or FN rates are significantly higher for certain classes, indicating potential class imbalance or biased training data."
   ]
  }
 ],
 "metadata": {
  "language_info": {
   "name": "python"
  }
 },
 "nbformat": 4,
 "nbformat_minor": 2
}
