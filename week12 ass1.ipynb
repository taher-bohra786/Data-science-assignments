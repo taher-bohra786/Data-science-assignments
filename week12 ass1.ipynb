{
 "cells": [
  {
   "cell_type": "markdown",
   "metadata": {},
   "source": [
    "**1.**"
   ]
  },
  {
   "cell_type": "markdown",
   "metadata": {},
   "source": [
    "A **t-test** is used when the population standard deviation is unknown and/or the sample size is small, while a **z-test** is used when the population standard deviation is known and the sample size is large. \n",
    "\n",
    "- **t-test example**: Comparing the mean test scores of two small student groups.  \n",
    "- **z-test example**: Testing if the average height of 100 men differs from 175 cm when the population standard deviation is known."
   ]
  },
  {
   "cell_type": "markdown",
   "metadata": {},
   "source": [
    "**2.**"
   ]
  },
  {
   "cell_type": "markdown",
   "metadata": {},
   "source": [
    "A **one-tailed test** checks for an effect in a specific direction (e.g., greater than or less than a value). A **two-tailed test** checks for an effect in either direction (e.g., different from a value).\n",
    "\n",
    "- **One-tailed example**: Testing if a new drug increases recovery rate compared to the old one.  \n",
    "- **Two-tailed example**: Testing if a new teaching method affects test scores (could increase or decrease)."
   ]
  },
  {
   "cell_type": "markdown",
   "metadata": {},
   "source": [
    "**3.**"
   ]
  },
  {
   "cell_type": "markdown",
   "metadata": {},
   "source": [
    "- **Type 1 Error**: Rejecting a true null hypothesis (false positive).  \n",
    "  **Example**: Concluding a drug works when it actually doesn’t.  \n",
    "\n",
    "- **Type 2 Error**: Failing to reject a false null hypothesis (false negative).  \n",
    "  **Example**: Concluding a drug doesn’t work when it actually does.  "
   ]
  },
  {
   "cell_type": "markdown",
   "metadata": {},
   "source": [
    "**4.**"
   ]
  },
  {
   "cell_type": "markdown",
   "metadata": {},
   "source": [
    "**Bayes's Theorem** describes the probability of an event (A) given prior knowledge of another event (B):  \n",
    "\\[\n",
    "P(A|B) = P(B|A).P(A)/P(B)\n",
    "\\]  \n",
    "\n",
    "**Example**: A medical test is 95% accurate, and 1% of the population has a disease. If you test positive, Bayes's theorem helps calculate the probability you actually have the disease, accounting for false positives and the disease's rarity."
   ]
  },
  {
   "cell_type": "markdown",
   "metadata": {},
   "source": [
    "**5.**"
   ]
  },
  {
   "cell_type": "markdown",
   "metadata": {},
   "source": [
    "### What is a Confidence Interval? How to Calculate it?\n",
    "\n",
    "A **confidence interval (CI)** is a range of values that likely contains the true population parameter with a specified confidence level (e.g., 95%).\n",
    "\n",
    "#### Steps to Calculate:\n",
    "1. Find the sample mean (\\(\\bar{x}\\)).\n",
    "2. Calculate the margin of error:\n",
    "   - \\(ME = z^* \\. \\frac{σ}{\\sqrt{n}}\\) (if σ is known), or  \n",
    "   - \\(ME = t^* \\. \\frac{s}{\\sqrt{n}}\\) (if σ is unknown).\n",
    "3. Compute the confidence interval:  \n",
    "   \\[\n",
    "   CI = \\bar{x} \\pm ME\n",
    "   \\]\n",
    "\n",
    "#### Example:\n",
    "A sample of 50 students has an average score of 80 with a standard deviation of 10. For a 95% confidence level:  \n",
    "\\[\n",
    "CI = 80 \\pm (1.96 \\. \\frac{10}{\\sqrt{50}})\n",
    "\\]\n",
    "\\[\n",
    "CI = 80 \\pm 2.77\n",
    "\\]\n",
    "\\[\n",
    "CI = [77.23, 82.77]\n",
    "\\]\n",
    "\n",
    "Thus, the true mean score is likely between 77.23 and 82.77 with 95% confidence.\n"
   ]
  },
  {
   "cell_type": "markdown",
   "metadata": {},
   "source": [
    "**6.**"
   ]
  },
  {
   "cell_type": "markdown",
   "metadata": {},
   "source": [
    "**Bayes' Theorem** calculates the probability of an event \\( A \\) given new evidence \\( B \\):  \n",
    "\\[\n",
    "P(A|B) = \\frac{P(B|A) . P(A)}{P(B)}\n",
    "\\]\n",
    "\n",
    "### Sample Problem:\n",
    "A disease affects 1% of a population. A test for the disease is 95% accurate (true positive rate), but 5% of healthy people test positive (false positive rate). If a person tests positive, what is the probability they have the disease?\n",
    "\n",
    "### Solution:\n",
    "- \\( P(Disease) = 0.01 \\), \\( P(NoDisease) = 0.99 \\)  \n",
    "- \\( P(Positive|Disease) = 0.95 \\), \\( P(Positive|NoDisease) = 0.05 \\)  \n",
    "- \\( P(Positive) = P(Positive|Disease) . P(Disease) + P(Positive|NoDisease) . P(NoDisease) \\)\n",
    "\n",
    "\\[\n",
    "P(Positive) = (0.95 \\. 0.01) + (0.05 \\. 0.99) = 0.0095 + 0.0495 = 0.059\n",
    "\\]\n",
    "\n",
    "\\[\n",
    "P(Disease|Positive) = \\frac{P(Positive|Disease) \\. P(Disease)}{P(Positive)} = \\frac{0.95 \\. 0.01}{0.059} \\approx 0.161\n",
    "\\]\n",
    "\n",
    "**Result**: If a person tests positive, there’s a 16.1% chance they have the disease."
   ]
  },
  {
   "cell_type": "markdown",
   "metadata": {},
   "source": [
    "**7.**"
   ]
  },
  {
   "cell_type": "markdown",
   "metadata": {},
   "source": [
    "### Calculate the 95% Confidence Interval\n",
    "\n",
    "**Given**:  \n",
    "- Mean (\\(\\bar{x}\\)) = 50  \n",
    "- Standard deviation (\\(s\\)) = 5  \n",
    "- Sample size (\\(n\\)) = 30  \n",
    "- Confidence level = 95% (\\(z^* = 1.96\\))  \n",
    "\n",
    "#### Step 1: Calculate the Margin of Error (ME)  \n",
    "\\[\n",
    "ME = z^* \\. \\frac{s}{\\sqrt{n}} = 1.96 \\. \\frac{5}{\\sqrt{30}} \\approx 1.79\n",
    "\\]\n",
    "\n",
    "#### Step 2: Compute the Confidence Interval (CI)  \n",
    "\\[\n",
    "CI = \\bar{x} \\pm ME = 50 \\pm 1.79 = [48.21, 51.79]\n",
    "\\]\n",
    "\n",
    "#### Interpretation:\n",
    "We are 95% confident that the true population mean lies between **48.21** and **51.79**.\n"
   ]
  },
  {
   "cell_type": "markdown",
   "metadata": {},
   "source": [
    "**8.**"
   ]
  },
  {
   "cell_type": "markdown",
   "metadata": {},
   "source": [
    "The margin of error is the range within which the true population parameter is likely to lie, given a certain level of confidence. It is affected by the sample size: as the sample size increases, the margin of error decreases, making the estimate more precise.\n",
    "\n",
    "Example:\n",
    "A larger sample size leads to a smaller margin of error. For instance, if a survey with 100 participants reports an average income with a margin of error of 5%, increasing the sample size to 1,000 participants might reduce the margin of error to +-2%.\n"
   ]
  },
  {
   "cell_type": "markdown",
   "metadata": {},
   "source": [
    "**9.**"
   ]
  },
  {
   "cell_type": "markdown",
   "metadata": {},
   "source": [
    "The z-score measures how many standard deviations a data point is from the population mean. A z-score of 1.0 indicates that the data point is 1 standard deviation above the mean.\n",
    "\n",
    "### Z-Score Calculation and Interpretation\n",
    "\n",
    "**Given:**\n",
    "- Data point (\\(X\\)) = 75\n",
    "- Population mean (\\(μ\\)) = 70\n",
    "- Population standard deviation (\\(σ\\)) = 5\n",
    "\n",
    "**Calculation:**\n",
    "The z-score is calculated as:\n",
    "\n",
    "\\[\n",
    "z = \\frac{X - μ}{σ} = \\frac{75 - 70}{5} = 1.0\n",
    "\\]\n",
    "\n",
    "**Interpretation:**\n",
    "A z-score of 1.0 means the data point is 1 standard deviation above the mean. In a standard normal distribution, approximately 68% of data points lie within 1 standard deviation of the mean. Therefore, a z-score of 1.0 places the data point in the top 16% of the distribution.\n"
   ]
  },
  {
   "cell_type": "markdown",
   "metadata": {},
   "source": [
    "**10.**"
   ]
  },
  {
   "cell_type": "markdown",
   "metadata": {},
   "source": [
    "### Hypothesis Test for Weight Loss Drug Effectiveness\n",
    "\n",
    "**Given:**\n",
    "- Sample mean (\\(\\bar{x}\\)) = 6 pounds\n",
    "- Population mean (\\(μ\\)) = 0 pounds (assuming no weight loss)\n",
    "- Sample standard deviation (\\(s\\)) = 2.5 pounds\n",
    "- Sample size (\\(n\\)) = 50\n",
    "- Significance level (\\(α\\)) = 0.05\n",
    "\n",
    "**Calculation:**\n",
    "\n",
    "1. **Compute the standard error (SE):**\n",
    "   \\[\n",
    "   SE = \\frac{s}{\\sqrt{n}} = \\frac{2.5}{\\sqrt{50}} \\approx 0.3536\n",
    "   \\]\n",
    "\n",
    "2. **Calculate the t-statistic:**\n",
    "   \\[\n",
    "   t = \\frac{\\bar{x} - μ}{SE} = \\frac{6 - 0}{0.3536} \\approx 16.97\n",
    "   \\]\n",
    "\n",
    "3. **Determine the degrees of freedom (df):**\n",
    "   \\[\n",
    "   df = n - 1 = 50 - 1 = 49\n",
    "   \\]\n",
    "\n",
    "4. **Find the critical t-value (\\(t_{α/2}\\)) for a 95% confidence level and 49 degrees of freedom:**\n",
    "   Using a t-distribution table or calculator, \\(t_{α/2} \\approx 2.0096\\)\n",
    "\n",
    "5. **Compare the calculated t-statistic to the critical t-value:**\n",
    "   Since \\(16.97 > 2.0096\\), we reject the null hypothesis.\n",
    "\n",
    "**Conclusion:**\n",
    "\n",
    "At a 95% confidence level, the data provides sufficient evidence to conclude that the new weight loss drug is significantly effective.\n"
   ]
  },
  {
   "cell_type": "markdown",
   "metadata": {},
   "source": [
    "**11.**"
   ]
  },
  {
   "cell_type": "markdown",
   "metadata": {},
   "source": [
    "### 95% Confidence Interval for Job Satisfaction Proportion\n",
    "\n",
    "**Given:**\n",
    "- Sample proportion (\\(\\hat{p}\\)) = 0.65\n",
    "- Sample size (\\(n\\)) = 500\n",
    "- Z-value for 95% confidence (\\(z^*\\)) ≈ 1.96\n",
    "\n",
    "**Calculation:**\n",
    "\n",
    "1. **Compute the standard error (SE):**\n",
    "   \\[\n",
    "   SE = \\sqrt{\\frac{\\hat{p}(1 - \\hat{p})}{n}} = \\sqrt{\\frac{0.65 \\times 0.35}{500}} \\approx 0.0216\n",
    "   \\]\n",
    "\n",
    "2. **Calculate the margin of error (ME):**\n",
    "   \\[\n",
    "   ME = z^* \\times SE = 1.96 \\times 0.0216 \\approx 0.0424\n",
    "   \\]\n",
    "\n",
    "3. **Determine the confidence interval:**\n",
    "   \\[\n",
    "   CI = \\hat{p} \\pm ME = 0.65 \\pm 0.0424\n",
    "   \\]\n",
    "\n",
    "   This results in:\n",
    "\n",
    "   \\[\n",
    "   CI = [0.6076, 0.6924]\n",
    "   \\]\n",
    "\n",
    "**Interpretation:**\n",
    "\n",
    "We are 95% confident that the true proportion of people satisfied with their job lies between 60.76% and 69.24%.\n"
   ]
  },
  {
   "cell_type": "markdown",
   "metadata": {},
   "source": [
    "**12.**"
   ]
  },
  {
   "cell_type": "markdown",
   "metadata": {},
   "source": [
    "### Two-Sample t-Test for Teaching Methods\n",
    "\n",
    "**Given:**\n",
    "- Sample A: Mean (\\(\\bar{X}_A\\)) = 85, Standard deviation (\\(s_A\\)) = 6, Sample size (\\(n_A\\)) = 30\n",
    "- Sample B: Mean (\\(\\bar{X}_B\\)) = 82, Standard deviation (\\(s_B\\)) = 5, Sample size (\\(n_B\\)) = 30\n",
    "- Significance level (\\(α\\)) = 0.01\n",
    "\n",
    "**Calculation:**\n",
    "\n",
    "1. **Compute the standard error (SE):**\n",
    "   \\[\n",
    "   SE = \\sqrt{\\frac{s_A^2}{n_A} + \\frac{s_B^2}{n_B}} = \\sqrt{\\frac{6^2}{30} + \\frac{5^2}{30}} \\approx 1.414\n",
    "   \\]\n",
    "\n",
    "2. **Calculate the t-statistic:**\n",
    "   \\[\n",
    "   t = \\frac{\\bar{X}_A - \\bar{X}_B}{SE} = \\frac{85 - 82}{1.414} \\approx 2.12\n",
    "   \\]\n",
    "\n",
    "3. **Determine the degrees of freedom (df):**\n",
    "   \\[\n",
    "   df = \\frac{\\left(\\frac{s_A^2}{n_A} + \\frac{s_B^2}{n_B}\\right)^2}{\\frac{\\left(\\frac{s_A^2}{n_A}\\right)^2}{n_A - 1} + \\frac{\\left(\\frac{s_B^2}{n_B}\\right)^2}{n_B - 1}} \\approx 56.5\n",
    "   \\]\n",
    "\n",
    "4. **Find the critical t-value (\\(t_{α/2}\\)) for a 99% confidence level and 56.5 degrees of freedom:**\n",
    "   Using a t-distribution table or calculator, \\(t_{α/2} \\approx 2.672\\)\n",
    "\n",
    "5. **Compare the calculated t-statistic to the critical t-value:**\n",
    "   Since \\(2.12 < 2.672\\), we fail to reject the null hypothesis.\n",
    "\n",
    "**Conclusion:**\n",
    "\n",
    "At a 99% confidence level, there is insufficient evidence to conclude that the two teaching methods result in significantly different student performance.\n"
   ]
  },
  {
   "cell_type": "markdown",
   "metadata": {},
   "source": [
    "**13.**"
   ]
  },
  {
   "cell_type": "markdown",
   "metadata": {},
   "source": [
    "### 90% Confidence Interval for Population Mean\n",
    "\n",
    "**Given:**\n",
    "- Sample mean (\\(\\bar{X}\\)) = 65\n",
    "- Population standard deviation (\\(σ\\)) = 8\n",
    "- Sample size (\\(n\\)) = 50\n",
    "- Z-value for 90% confidence (\\(z^*\\)) ≈ 1.645\n",
    "\n",
    "**Calculation:**\n",
    "\n",
    "1. **Compute the standard error (SE):**\n",
    "   \\[\n",
    "   SE = \\frac{σ}{\\sqrt{n}} = \\frac{8}{\\sqrt{50}} \\approx 1.131\n",
    "   \\]\n",
    "\n",
    "2. **Calculate the margin of error (ME):**\n",
    "   \\[\n",
    "   ME = z^* \\times SE = 1.645 \\times 1.131 \\approx 1.858\n",
    "   \\]\n",
    "\n",
    "3. **Determine the confidence interval:**\n",
    "   \\[\n",
    "   CI = \\bar{X} \\pm ME = 65 \\pm 1.858\n",
    "   \\]\n",
    "\n",
    "   This results in:\n",
    "\n",
    "   \\[\n",
    "   CI = [63.142, 66.858]\n",
    "   \\]\n",
    "\n",
    "**Interpretation:**\n",
    "\n",
    "We are 90% confident that the true population mean lies between 63.142 and 66.858.\n"
   ]
  },
  {
   "cell_type": "markdown",
   "metadata": {},
   "source": [
    "**14.**"
   ]
  },
  {
   "cell_type": "markdown",
   "metadata": {},
   "source": [
    "### One-Sample t-Test for Caffeine's Effect on Reaction Time\n",
    "\n",
    "**Given:**\n",
    "- Sample mean (\\(\\bar{X}\\)) = 0.25 seconds\n",
    "- Population mean (\\(μ\\)) = 0.30 seconds (assuming the null hypothesis that caffeine has no effect)\n",
    "- Sample standard deviation (\\(s\\)) = 0.05 seconds\n",
    "- Sample size (\\(n\\)) = 30\n",
    "- Significance level (\\(α\\)) = 0.10\n",
    "\n",
    "**Calculation:**\n",
    "\n",
    "1. **Compute the standard error (SE):**\n",
    "   \\[\n",
    "   SE = \\frac{s}{\\sqrt{n}} = \\frac{0.05}{\\sqrt{30}} \\approx 0.0091\n",
    "   \\]\n",
    "\n",
    "2. **Calculate the t-statistic:**\n",
    "   \\[\n",
    "   t = \\frac{\\bar{X} - μ}{SE} = \\frac{0.25 - 0.30}{0.0091} \\approx -5.49\n",
    "   \\]\n",
    "\n",
    "3. **Determine the degrees of freedom (df):**\n",
    "   \\[\n",
    "   df = n - 1 = 30 - 1 = 29\n",
    "   \\]\n",
    "\n",
    "4. **Find the critical t-value (\\(t_{α/2}\\)) for a 90% confidence level and 29 degrees of freedom:**\n",
    "   Using a t-distribution table or calculator, \\(t_{α/2} \\approx 1.699\\)\n",
    "\n",
    "5. **Compare the calculated t-statistic to the critical t-value:**\n",
    "   Since \\(-5.49 < -1.699\\), we reject the null hypothesis.\n",
    "\n",
    "**Conclusion:**\n",
    "\n",
    "At a 90% confidence level, there is sufficient evidence to conclude that caffeine significantly reduces reaction time.\n"
   ]
  },
  {
   "cell_type": "markdown",
   "metadata": {},
   "source": []
  }
 ],
 "metadata": {
  "kernelspec": {
   "display_name": "Python 3",
   "language": "python",
   "name": "python3"
  },
  "language_info": {
   "codemirror_mode": {
    "name": "ipython",
    "version": 3
   },
   "file_extension": ".py",
   "mimetype": "text/x-python",
   "name": "python",
   "nbconvert_exporter": "python",
   "pygments_lexer": "ipython3",
   "version": "3.11.9"
  }
 },
 "nbformat": 4,
 "nbformat_minor": 2
}
