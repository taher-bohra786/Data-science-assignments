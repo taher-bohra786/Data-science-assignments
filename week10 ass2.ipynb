{
 "cells": [
  {
   "cell_type": "markdown",
   "metadata": {},
   "source": [
    "1."
   ]
  },
  {
   "cell_type": "markdown",
   "metadata": {},
   "source": [
    "Three measures of central tendency are :-\n",
    "**Mean**\n",
    "**Median**\n",
    "**Mode**"
   ]
  },
  {
   "cell_type": "markdown",
   "metadata": {},
   "source": [
    "2."
   ]
  },
  {
   "cell_type": "markdown",
   "metadata": {},
   "source": [
    "The **Mean** is the average of all values, useful for evenly distributed data but sensitive to outliers.\n",
    "\n",
    "The **Median** is the middle value , ideal for skewed data or when outliers are present.\n",
    "\n",
    "The **Mode** is the most frequent value , useful for identifying common patterns , especially in categorical data. "
   ]
  },
  {
   "cell_type": "markdown",
   "metadata": {},
   "source": [
    "3.\n"
   ]
  },
  {
   "cell_type": "markdown",
   "metadata": {},
   "source": [
    "Given , \n",
    "\n",
    "[178,177,176,177,178.2,178,175,179,180,175,178.9,176.2,177,172.5,178,176.5]\n",
    "\n",
    "**Mean** :- \n",
    "\n",
    "Add all the values together \n",
    "\n",
    "Sum=178+177+176+177+178.2+178+175+179+180+175+178.9+176.2+177+172.5+178+176.5 = 2832.3\n",
    "\n",
    "Divide the sum by number of values , i.e. , 16\n",
    "\n",
    "Mean = Sum / n     \n",
    "\n",
    "**Mean** = 2832.3 / 16 = 177.02"
   ]
  },
  {
   "cell_type": "code",
   "execution_count": 1,
   "metadata": {},
   "outputs": [
    {
     "data": {
      "text/plain": [
       "np.float64(177.01875)"
      ]
     },
     "execution_count": 1,
     "metadata": {},
     "output_type": "execute_result"
    }
   ],
   "source": [
    "import numpy as np\n",
    "s = [178,177,176,177,178.2,178,175,179,180,175,178.9,176.2,177,172.5,178,176.5]\n",
    "np.mean(s)"
   ]
  },
  {
   "cell_type": "markdown",
   "metadata": {},
   "source": [
    "**Median** :-\n",
    "\n",
    "Arrange the data in ascending order \n",
    "\n",
    "172.5,175,175,176,176.2,176.5,177,177,177,177,178,178,178,178.2,178.9,179,180\n",
    "\n",
    "Since n = 16 (even), so the median is the average of 8th and 9th value\n",
    "\n",
    "**Median** = 177 + 177 / 2 = 177"
   ]
  },
  {
   "cell_type": "code",
   "execution_count": 2,
   "metadata": {},
   "outputs": [
    {
     "data": {
      "text/plain": [
       "np.float64(177.0)"
      ]
     },
     "execution_count": 2,
     "metadata": {},
     "output_type": "execute_result"
    }
   ],
   "source": [
    "np.median(s)"
   ]
  },
  {
   "cell_type": "markdown",
   "metadata": {},
   "source": [
    "**Mode** :-\n",
    " Answer is 177 because it occurs most frequently."
   ]
  },
  {
   "cell_type": "code",
   "execution_count": 3,
   "metadata": {},
   "outputs": [
    {
     "data": {
      "text/plain": [
       "np.float64(177.01875)"
      ]
     },
     "execution_count": 3,
     "metadata": {},
     "output_type": "execute_result"
    }
   ],
   "source": [
    "np.mean(s)"
   ]
  },
  {
   "cell_type": "markdown",
   "metadata": {},
   "source": [
    "4."
   ]
  },
  {
   "cell_type": "code",
   "execution_count": 4,
   "metadata": {},
   "outputs": [
    {
     "data": {
      "text/plain": [
       "np.float64(1.7885814036548633)"
      ]
     },
     "execution_count": 4,
     "metadata": {},
     "output_type": "execute_result"
    }
   ],
   "source": [
    "#To find standard deviation\n",
    "import numpy as np\n",
    "s = [178,177,176,177,178.2,178,175,179,180,175,178.9,176.2,177,172.5,178,176.5]\n",
    "np.std(s)\n"
   ]
  },
  {
   "cell_type": "markdown",
   "metadata": {},
   "source": [
    "5."
   ]
  },
  {
   "cell_type": "markdown",
   "metadata": {},
   "source": [
    "Measures of dispersion describe the spread of data:  \n",
    "\n",
    "- **Range**: The difference between the maximum and minimum values, showing total spread (e.g., if data is \\[5, 10, 15\\], range = \\(15 - 5 = 10\\)). \n",
    "\n",
    "- **Variance**: The average squared deviation from the mean, indicating overall variability (e.g., variance = 29.84 for \\[5, 7, 10, 15, 20\\]).  \n",
    "\n",
    "- **Standard Deviation**: The square root of variance, showing average deviation in the same unit as the data (e.g., \\( \\sqrt{29.84} \\approx 5.46\\)).  \n"
   ]
  },
  {
   "cell_type": "markdown",
   "metadata": {},
   "source": [
    "6."
   ]
  },
  {
   "cell_type": "markdown",
   "metadata": {},
   "source": [
    "A **Venn diagram** is a visual representation of sets using overlapping circles to show relationships. The overlapping areas represent common elements between sets, while non-overlapping areas show unique elements. It's used to illustrate similarities, differences, and set operations like union and intersection.\n"
   ]
  },
  {
   "cell_type": "markdown",
   "metadata": {},
   "source": [
    "7."
   ]
  },
  {
   "cell_type": "markdown",
   "metadata": {},
   "source": [
    "Given sets:  \n",
    "\\( A = \\{2, 3, 4, 5, 6, 7\\} \\)  \n",
    "\\( B = \\{0, 2, 6, 8, 10\\} \\)\n",
    "\n",
    "### (i) **A ∩ B** (Intersection of A and B)  \n",
    "The intersection consists of elements that are common to both sets:  \n",
    "\\( A ∩ B = \\{2, 6\\} \\)\n",
    "\n",
    "### (ii) **A ∪ B** (Union of A and B)  \n",
    "The union consists of all elements from both sets, without repetition:  \n",
    "\\( A ∪ B = \\{0, 2, 3, 4, 5, 6, 7, 8, 10\\} \\)"
   ]
  },
  {
   "cell_type": "markdown",
   "metadata": {},
   "source": [
    "8."
   ]
  },
  {
   "cell_type": "markdown",
   "metadata": {},
   "source": [
    "**Skewness** refers to the asymmetry or lack of symmetry in the distribution of data. It indicates whether the data is skewed to the left (negative skew) or to the right (positive skew):\n",
    "\n",
    "- **Positive skew**: The right tail is longer, and most values are concentrated on the left.\n",
    "- **Negative skew**: The left tail is longer, and most values are concentrated on the right.\n",
    "\n",
    "A skewness of 0 indicates a perfectly symmetrical distribution."
   ]
  },
  {
   "cell_type": "markdown",
   "metadata": {},
   "source": [
    "9."
   ]
  },
  {
   "cell_type": "markdown",
   "metadata": {},
   "source": [
    "In a **right-skewed** distribution, the **mean** will be greater than the **median**.  \n",
    "\n",
    "This is because the long right tail pulls the mean to the right, while the median, being the middle value, is less affected by extreme values."
   ]
  },
  {
   "cell_type": "markdown",
   "metadata": {},
   "source": [
    "10."
   ]
  },
  {
   "cell_type": "markdown",
   "metadata": {},
   "source": [
    "**Covariance** measures the direction of the relationship between two variables (positive or negative) but is affected by the scale of data.  \n",
    "**Correlation** standardizes covariance, giving a value between -1 and 1 that indicates both the strength and direction of the linear relationship, making it easier to interpret and compare.  \n",
    "\n",
    "In statistical analysis, **correlation** is more commonly used due to its standardized nature."
   ]
  },
  {
   "cell_type": "markdown",
   "metadata": {},
   "source": [
    "11."
   ]
  },
  {
   "cell_type": "code",
   "execution_count": 5,
   "metadata": {},
   "outputs": [
    {
     "data": {
      "text/plain": [
       "np.float64(8.0)"
      ]
     },
     "execution_count": 5,
     "metadata": {},
     "output_type": "execute_result"
    }
   ],
   "source": [
    "import numpy as np\n",
    "\n",
    "# Dataset\n",
    "data = [4, 6, 8, 10, 12]\n",
    "\n",
    "# Calculate the sample mean\n",
    "mean = np.mean(data)\n",
    "\n",
    "# Display the result\n",
    "mean\n"
   ]
  },
  {
   "cell_type": "markdown",
   "metadata": {},
   "source": [
    "12."
   ]
  },
  {
   "cell_type": "markdown",
   "metadata": {},
   "source": [
    "In a **normal distribution**, the **mean**, **median**, and **mode** are **equal** and located at the center of the distribution. This is because the data is perfectly symmetrical around the central peak."
   ]
  },
  {
   "cell_type": "markdown",
   "metadata": {},
   "source": [
    "13."
   ]
  },
  {
   "cell_type": "markdown",
   "metadata": {},
   "source": [
    "**Covariance** measures the direction of the relationship between two variables but depends on their units.  \n",
    "**Correlation** standardizes covariance, providing a unit-free value between -1 and 1 that shows the strength and direction of the relationship."
   ]
  },
  {
   "cell_type": "markdown",
   "metadata": {},
   "source": [
    "14."
   ]
  },
  {
   "cell_type": "markdown",
   "metadata": {},
   "source": [
    "**Outliers** can significantly affect measures of central tendency and dispersion:  \n",
    "\n",
    "- **Mean**: Highly sensitive; shifts towards the outlier.  \n",
    "- **Median**: Less affected; remains robust.  \n",
    "- **Mode**: Usually unaffected.  \n",
    "- **Range, Variance, Standard Deviation**: Increase significantly as outliers widen the spread.  \n",
    "\n",
    "### Example:  \n",
    "Data: \\[10, 12, 14, 16, 100\\] (outlier: 100)  \n",
    "- Mean: Increases to \\(30.4\\) (without outlier: \\(13\\)).  \n",
    "- Median: Remains \\(14\\).  \n",
    "- Range: Increases to \\(90\\) (without outlier: \\(6\\)).  "
   ]
  },
  {
   "cell_type": "markdown",
   "metadata": {},
   "source": []
  }
 ],
 "metadata": {
  "kernelspec": {
   "display_name": "Python 3",
   "language": "python",
   "name": "python3"
  },
  "language_info": {
   "codemirror_mode": {
    "name": "ipython",
    "version": 3
   },
   "file_extension": ".py",
   "mimetype": "text/x-python",
   "name": "python",
   "nbconvert_exporter": "python",
   "pygments_lexer": "ipython3",
   "version": "3.11.9"
  }
 },
 "nbformat": 4,
 "nbformat_minor": 2
}
