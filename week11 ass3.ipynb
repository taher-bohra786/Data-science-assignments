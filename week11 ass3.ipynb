{
 "cells": [
  {
   "cell_type": "markdown",
   "metadata": {},
   "source": [
    "**1.**"
   ]
  },
  {
   "cell_type": "markdown",
   "metadata": {},
   "source": [
    "### **Estimation Statistics**:\n",
    "**Estimation statistics** involves using sample data to estimate population parameters, such as the population mean or population proportion. The goal is to provide an estimate of a characteristic of a population based on sample data.\n",
    "\n",
    "There are two main types of estimates:\n",
    "1. **Point Estimate**\n",
    "2. **Interval Estimate**\n",
    "\n",
    "---\n",
    "\n",
    "### **Point Estimate**:\n",
    "- A **point estimate** is a single value (or point) used to estimate a population parameter.\n",
    "- It is obtained by using a statistic from the sample (like the sample mean \\(\\bar{x}\\)) to estimate a population parameter (like the population mean \\(\\mu\\)).\n",
    "  \n",
    "  **Example**: If a sample mean of 45 is calculated from a sample of test scores, the point estimate for the population mean is 45.\n",
    "\n",
    "---\n",
    "\n",
    "### **Interval Estimate**:\n",
    "- An **interval estimate** provides a range of values within which the population parameter is expected to lie.\n",
    "- This range is accompanied by a level of confidence, such as 95% confidence interval, indicating that the true population parameter has a high probability of falling within the interval.\n",
    "\n",
    "  **Example**: A 95% confidence interval for the population mean might be \\( [43, 47] \\), meaning we are 95% confident that the true population mean lies between 43 and 47."
   ]
  },
  {
   "cell_type": "markdown",
   "metadata": {},
   "source": [
    "**2.**"
   ]
  },
  {
   "cell_type": "code",
   "execution_count": null,
   "metadata": {},
   "outputs": [],
   "source": [
    "import scipy.stats as stats\n",
    "import math\n",
    "\n",
    "def estimate_population_mean(sample_mean, sample_std_dev, sample_size, confidence_level=0.95):\n",
    "    # Calculate the standard error\n",
    "    standard_error = sample_std_dev / math.sqrt(sample_size)\n",
    "    \n",
    "    # Get the z-score for the given confidence level\n",
    "    z_score = stats.norm.ppf(1 - (1 - confidence_level) / 2)\n",
    "    \n",
    "    # Calculate the margin of error\n",
    "    margin_of_error = z_score * standard_error\n",
    "    \n",
    "    # Estimate the population mean as the sample mean\n",
    "    population_mean_lower = sample_mean - margin_of_error\n",
    "    population_mean_upper = sample_mean + margin_of_error\n",
    "    \n",
    "    return population_mean_lower, population_mean_upper\n",
    "\n",
    "# Example usage:\n",
    "sample_mean = 50\n",
    "sample_std_dev = 10\n",
    "sample_size = 100\n",
    "\n",
    "confidence_interval = estimate_population_mean(sample_mean, sample_std_dev, sample_size)\n",
    "print(f\"The estimated population mean is between {confidence_interval[0]:.2f} and {confidence_interval[1]:.2f}\")"
   ]
  },
  {
   "cell_type": "markdown",
   "metadata": {},
   "source": [
    "**3.**"
   ]
  },
  {
   "cell_type": "markdown",
   "metadata": {},
   "source": [
    "### **Hypothesis Testing**:\n",
    "**Hypothesis testing** is a statistical method used to make inferences or decisions about a population based on sample data. It involves testing an assumption (hypothesis) about a population parameter, such as the mean or proportion.\n",
    "\n",
    "### **Why is it used?**:\n",
    "- It is used to determine whether there is enough evidence in a sample to support or reject a hypothesis about a population.\n",
    "- Common applications include testing the effectiveness of a treatment, the difference between groups, or the relationship between variables.\n",
    "\n",
    "### **Importance of Hypothesis Testing**:\n",
    "1. **Decision Making**: Helps in making data-driven decisions.\n",
    "2. **Evidence-based Conclusions**: Provides a formal framework to evaluate claims and make conclusions based on statistical evidence.\n",
    "3. **Testing Assumptions**: Assists in testing assumptions and theories to validate research findings.\n",
    "4. **Minimizing Errors**: Controls for the possibility of errors (type I and type II) when making conclusions."
   ]
  },
  {
   "cell_type": "markdown",
   "metadata": {},
   "source": [
    "**4.**"
   ]
  },
  {
   "cell_type": "markdown",
   "metadata": {},
   "source": [
    "### **Hypothesis Statement**:\n",
    "\n",
    "Let:\n",
    "- \\( μm ) be the average weight of male college students.\n",
    "- \\( μf) be the average weight of female college students.\n",
    "\n",
    "We want to test whether the average weight of male college students is greater than that of female college students.\n",
    "\n",
    "### **Null Hypothesis (H₀)**:\n",
    "The null hypothesis assumes that there is no difference between the average weights of male and female students.\n",
    "\\[\n",
    "H₀: μm = μf\n",
    "\\]\n",
    "This means that the average weight of male college students is equal to that of female college students.\n",
    "\n",
    "### **Alternative Hypothesis (H₁)**:\n",
    "The alternative hypothesis assumes that the average weight of male students is greater than that of female students.\n",
    "\\[\n",
    "H₁: μm > μf\n",
    "\\]\n",
    "This suggests that the average weight of male college students is greater than that of female college students."
   ]
  },
  {
   "cell_type": "markdown",
   "metadata": {},
   "source": [
    "**5.**"
   ]
  },
  {
   "cell_type": "code",
   "execution_count": 4,
   "metadata": {},
   "outputs": [
    {
     "name": "stdout",
     "output_type": "stream",
     "text": [
      "T-statistic: 1.9965\n",
      "P-value: 0.0764\n",
      "Fail to reject the null hypothesis: There is no significant difference between the means.\n"
     ]
    }
   ],
   "source": [
    "import scipy.stats as stats\n",
    "\n",
    "def hypothesis_test_two_means(sample1, sample2, alpha=0.05):\n",
    "    # Perform an independent two-sample t-test\n",
    "    t_stat, p_value = stats.ttest_ind(sample1, sample2, equal_var=False)  # Welch's t-test\n",
    "    \n",
    "    # Output the results\n",
    "    print(f\"T-statistic: {t_stat:.4f}\")\n",
    "    print(f\"P-value: {p_value:.4f}\")\n",
    "    \n",
    "    if p_value < alpha:\n",
    "        return \"Reject the null hypothesis: There is a significant difference between the means.\"\n",
    "    else:\n",
    "        return \"Fail to reject the null hypothesis: There is no significant difference between the means.\"\n",
    "\n",
    "# Example usage:\n",
    "sample1 = [68, 75, 80, 71, 73, 77]  # Sample data from population 1\n",
    "sample2 = [65, 70, 72, 69, 68, 74]  # Sample data from population 2\n",
    "\n",
    "result = hypothesis_test_two_means(sample1, sample2)\n",
    "print(result)\n"
   ]
  },
  {
   "cell_type": "markdown",
   "metadata": {},
   "source": [
    "**6.**"
   ]
  },
  {
   "cell_type": "markdown",
   "metadata": {},
   "source": [
    "### **Null Hypothesis (H₀)**:\n",
    "- A statement of no effect, no difference, or no relationship.\n",
    "- Example: The mean test score is 75 (\\(H₀: μ = 75\\)).\n",
    "\n",
    "### **Alternative Hypothesis (H₁)**:\n",
    "- A statement contradicting \\(H₀\\), claiming an effect, difference, or relationship.\n",
    "- Example: The mean test score is not 75 (\\(H₁: μ != 75\\))."
   ]
  },
  {
   "cell_type": "markdown",
   "metadata": {},
   "source": [
    "**7.**"
   ]
  },
  {
   "cell_type": "markdown",
   "metadata": {},
   "source": [
    "### **Steps in Hypothesis Testing**:\n",
    "1. **State the Hypotheses**: Formulate the null hypothesis (\\(H₀)) and alternative hypothesis (\\(H₁)).  \n",
    "2. **Set the Significance Level (\\(α\\))**: Common values are 0.05 or 0.01.  \n",
    "3. **Select the Test**: Choose an appropriate statistical test (e.g., t-test, z-test).  \n",
    "4. **Compute the Test Statistic**: Calculate the statistic using sample data.  \n",
    "5. **Find the p-value**: Determine the probability of observing the test statistic under \\(H₀).  \n",
    "6. **Decision**: Compare p-value with \\(α\\):\n",
    "   - If \\(p ≤ α\\): Reject \\(H₀).  \n",
    "   - If \\(p > α\\): Fail to reject \\(H₀).  \n",
    "7. **Conclusion**: Interpret the results in the context of the problem."
   ]
  },
  {
   "cell_type": "markdown",
   "metadata": {},
   "source": [
    "**8.**"
   ]
  },
  {
   "cell_type": "markdown",
   "metadata": {},
   "source": [
    "The **p-value** is the probability of observing the test statistic or something more extreme, assuming the null hypothesis (\\(H₀\\)) is true.\n",
    "\n",
    "### **Significance in Hypothesis Testing**:\n",
    "- **Small p-value (\\(p ≤ α\\))**: Strong evidence to reject \\(H₀\\).\n",
    "- **Large p-value (\\(p > α\\))**: Insufficient evidence to reject \\(H₀\\).\n",
    "\n",
    "It helps determine whether the observed result is statistically significant."
   ]
  },
  {
   "cell_type": "markdown",
   "metadata": {},
   "source": [
    "**9.**"
   ]
  },
  {
   "cell_type": "code",
   "execution_count": 5,
   "metadata": {},
   "outputs": [
    {
     "data": {
      "image/png": "[encoded data removed]",
      "text/plain": [
       "<Figure size 640x480 with 1 Axes>"
      ]
     },
     "metadata": {},
     "output_type": "display_data"
    }
   ],
   "source": [
    "import numpy as np\n",
    "import matplotlib.pyplot as plt\n",
    "import scipy.stats as stats\n",
    "\n",
    "# Degrees of freedom\n",
    "df = 10\n",
    "\n",
    "# Generate x values\n",
    "x = np.linspace(-4, 4, 500)\n",
    "\n",
    "# Compute the t-distribution PDF\n",
    "y = stats.t.pdf(x, df)\n",
    "\n",
    "# Plot the distribution\n",
    "plt.plot(x, y, label=f\"t-distribution (df={df})\", color=\"blue\")\n",
    "plt.title(\"Student's t-Distribution (df=10)\")\n",
    "plt.xlabel(\"x\")\n",
    "plt.ylabel(\"Probability Density\")\n",
    "plt.legend()\n",
    "plt.grid()\n",
    "plt.show()\n"
   ]
  },
  {
   "cell_type": "markdown",
   "metadata": {},
   "source": [
    "**10.**"
   ]
  },
  {
   "cell_type": "code",
   "execution_count": 7,
   "metadata": {},
   "outputs": [
    {
     "name": "stdout",
     "output_type": "stream",
     "text": [
      "T-statistic: -3.3372\n",
      "P-value: 0.0110\n",
      "Reject the null hypothesis: The population means are significantly different.\n"
     ]
    }
   ],
   "source": [
    "import scipy.stats as stats\n",
    "\n",
    "def two_sample_t_test(sample1, sample2, alpha=0.05):\n",
    "    # Perform the t-test\n",
    "    t_stat, p_value = stats.ttest_ind(sample1, sample2, equal_var=False)  # Welch's t-test\n",
    "\n",
    "    # Display the results\n",
    "    print(f\"T-statistic: {t_stat:.4f}\")\n",
    "    print(f\"P-value: {p_value:.4f}\")\n",
    "    \n",
    "    # Decision based on p-value\n",
    "    if p_value < alpha:\n",
    "        conclusion = \"Reject the null hypothesis: The population means are significantly different.\"\n",
    "    else:\n",
    "        conclusion = \"Fail to reject the null hypothesis: No significant difference in population means.\"\n",
    "    \n",
    "    return t_stat, p_value, conclusion\n",
    "\n",
    "# Example usage\n",
    "sample1 = [12, 15, 14, 10, 13]  # Random sample from population 1\n",
    "sample2 = [16, 18, 14, 20, 19]  # Random sample from population 2\n",
    "\n",
    "t_stat, p_value, conclusion = two_sample_t_test(sample1, sample2)\n",
    "print(conclusion)\n"
   ]
  },
  {
   "cell_type": "markdown",
   "metadata": {},
   "source": [
    "**11**"
   ]
  },
  {
   "cell_type": "markdown",
   "metadata": {},
   "source": [
    "### **Student’s t-Distribution**:\n",
    "The **Student’s t-distribution** is a probability distribution used to estimate population parameters when the sample size is small, and the population standard deviation is unknown.\n",
    "\n",
    "### **When to Use the t-Distribution**:\n",
    "1. **Small Sample Sizes**: Typically when \\( n < 30 \\).\n",
    "2. **Unknown Population Standard Deviation**: When the population standard deviation (\\(σ \\)) is not known.\n",
    "3. **Comparing Means**: Used in hypothesis tests like the t-test for single or two-sample means."
   ]
  },
  {
   "cell_type": "markdown",
   "metadata": {},
   "source": [
    "**12.**"
   ]
  },
  {
   "cell_type": "markdown",
   "metadata": {},
   "source": [
    "The t-statistic is a ratio that compares the difference between a sample mean and a population mean (or between two sample means) relative to the variability in the data. It is used in t-tests to test hypotheses about means.\n",
    "\n",
    "**Formula of T-statistics**\n",
    "t = X - μ / (S / root (n)) \n",
    "\n",
    "where , X(bar) - Sample mean\n",
    "\n",
    "μ - population mean\n",
    "\n",
    "S - Sample standard deviation\n",
    "\n",
    "n - sample sizes\n"
   ]
  },
  {
   "cell_type": "markdown",
   "metadata": {},
   "source": [
    "**13.**"
   ]
  },
  {
   "cell_type": "markdown",
   "metadata": {},
   "source": [
    "Given , n = 50 , X = 500 , std = 50 , C.I. = 0.95 so S.I. = 0.05\n",
    "\n",
    "Lower Confidence interval = x - z * std/root(n)\n",
    "\n",
    "here , z = 1.96 \n",
    "\n",
    "so , Lower Confidence interval = 500 - 1.96 * 50/root(50) = 486.14\n",
    "\n",
    "Upper Confidence interval = x + z * std/root(n)\n",
    "\n",
    "so , Upper Confidence interval = 500 + 1.96 * 50/root(50) = 513.85\n",
    "\n",
    "Final Conclusion is **Estimation of population mean revenue lies in the range if 486.14 to 513.85**."
   ]
  },
  {
   "cell_type": "markdown",
   "metadata": {},
   "source": [
    "**14.**"
   ]
  },
  {
   "cell_type": "markdown",
   "metadata": {},
   "source": [
    "Null hypothesis (H0) = The mean decrease in blood pressure is 10 mmhg (μ = 10).\n",
    "\n",
    "Alternate hypothesis (H1) = The mean decrease in blood pressure is not 10 mmhg (μ != 10).\n",
    "\n",
    "\n",
    "Given , n = 100 , std = 3 , Significance value = 0.05 , Sample mean (x) = 8 mmhg , μ - 10 mmhg\n",
    "\n",
    "t - test formula = x - μ / (s / root(n))\n",
    "\n",
    "t - test = 8 - 10 / (3 / root(100)) = -2 / (3/10) = -6.67\n",
    "\n",
    "\n",
    "Degree of freedom = n - 1 = 100 - 1 = 99\n",
    "\n",
    "the critical t-value is approx +- 1.984\n",
    "\n",
    "since t > critical value of t , we reject the null hypothesis\n",
    "\n",
    "**Conclusion**\n",
    "\n",
    "At a 0.05 significance level, there is sufficient evidence to conclude that the mean decrease in blood pressure is significantly different from 10 mmHg.\n",
    "\n",
    "\n"
   ]
  },
  {
   "cell_type": "markdown",
   "metadata": {},
   "source": [
    "**15.**"
   ]
  },
  {
   "cell_type": "markdown",
   "metadata": {},
   "source": [
    "Null hypothesis (H0)= product with a mean weight of 5 (μ = 5).\n",
    "\n",
    "Alternative hypothesis (H1)= product with a mean weight of less than 5 (μ != 5).\n",
    "\n",
    "given , μ = 5 , X = 4.8 , S = 0.5 , Significance value = 0.01 , n = 25\n",
    "\n",
    "T-test = X - μ / (S / root(n))\n",
    "\n",
    "= (4.8 - 5) / (0.5 / root(25))\n",
    "\n",
    "= -0.2 / 0.1\n",
    "\n",
    "= -2\n",
    "\n",
    "degree of freedom = n - 1\n",
    "                \n",
    "                = 25 - 1 = 24\n",
    "\n",
    "Determining the crtitcal value of t-test from t table , i.e. , - 2.492\n",
    "\n",
    "**Conclusion**\n",
    "\n",
    "Hence , critical t-test > t , we fail to reject the null hypothesis (H0) , i.e. , product has a mean weight of 5 "
   ]
  },
  {
   "cell_type": "markdown",
   "metadata": {},
   "source": [
    "**16.**"
   ]
  },
  {
   "cell_type": "markdown",
   "metadata": {},
   "source": [
    "Given,\n",
    "\n",
    "for group 1 , n1 = 30 , X1 = 80 , std1 = 10\n",
    "\n",
    "for group 2 , n2 = 40 , X2 = 75 , std2 = 8\n",
    "\n",
    "Significance value = 0.01\n",
    "\n",
    "Null hypothesis: μ1 = μ2 (the two groups have the same mean)\n",
    "\n",
    "Alternative hypothesis: μ1 ≠ μ2 (the two groups have different means)\n",
    "\n",
    "T-test = X1 - X2 / root (sqrt(S1)/n + sqrt(S2)/n)\n",
    "\n",
    "T-test = (80 - 75) / root((10^2)/30+(8^2)/40) \n",
    "\n",
    "T-test = 5 / root(4.93) = 2.25\n",
    "\n",
    "df = n - 1 = 30 - 1 = 29\n",
    "\n",
    "Critical t value is 2.462 (for 29 df and 0.01 significance level) \n",
    "\n",
    "**Conclusion**\n",
    "\n",
    "Since , the critical t > t , we failed to reject the null hypothesis. The two groups have the same mean."
   ]
  },
  {
   "cell_type": "markdown",
   "metadata": {},
   "source": [
    "**17.**"
   ]
  },
  {
   "cell_type": "markdown",
   "metadata": {},
   "source": [
    "Given , n = 50 , X = 4 , std = 1.5\n",
    "\n",
    "Using the formula of confidence interval , \n",
    "\n",
    "CI = X ± (Z * (std / sqrt(n)))\n",
    "\n",
    "**Upper** CI = X + (Z * (std / sqrt(n)))\n",
    "\n",
    "= 4 + (2.576 * (1.5 / sqrt(50)))\n",
    "\n",
    "= 4 + (2.576 * 0.2245)\n",
    "\n",
    "= 4 + 0.5795 = 4.579\n",
    "\n",
    "**Lower** CI = X - (Z * (std / sqrt(n)))\n",
    "\n",
    "= 4 - (2.576 * (1.5 / sqrt(50)))\n",
    "\n",
    "= 4 - (2.576 * 0.2245)\n",
    "\n",
    "= 4 - 0.5795 = 3.4205\n",
    "\n",
    "The 99% confidence interval for the population mean is (3.4205 , 4.579).\n",
    "\n"
   ]
  }
 ],
 "metadata": {
  "kernelspec": {
   "display_name": "Python 3",
   "language": "python",
   "name": "python3"
  },
  "language_info": {
   "codemirror_mode": {
    "name": "ipython",
    "version": 3
   },
   "file_extension": ".py",
   "mimetype": "text/x-python",
   "name": "python",
   "nbconvert_exporter": "python",
   "pygments_lexer": "ipython3",
   "version": "3.11.9"
  }
 },
 "nbformat": 4,
 "nbformat_minor": 2
}
