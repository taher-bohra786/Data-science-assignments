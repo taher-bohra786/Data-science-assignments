{
 "cells": [
  {
   "cell_type": "markdown",
   "id": "107261e8-f1c8-4fe0-bb26-39ba19b13636",
   "metadata": {},
   "source": [
    "1.\n",
    "Using the Exception class as the base class when creating custom exceptions in a programming language serves several important purposes. Custom exceptions are used to represent specific error conditions in your code that are not adequately covered by the standard exceptions provided by the language. Here's why you should use the Exception class as the base:\n",
    "\n",
    "i) Hierarchy and Categorization: The Exception class is typically the root of the exception hierarchy in most programming languages. By deriving your custom exception from this class, you create a clear hierarchy that helps categorize and organize exceptions. This makes it easier for developers to understand the relationships between different exceptions and handle them appropriately.\n",
    "\n",
    "ii) Consistency: By inheriting from the Exception class, you ensure that your custom exceptions adhere to the same conventions and behaviors as the built-in exceptions. This includes standard error handling practices such as try-catch blocks and exception chaining. Consistency in exception handling makes code maintenance and debugging more manageable.\n",
    "\n",
    "iii) Future Compatibility: If the language's exception handling mechanisms or practices change in the future, your custom exceptions are more likely to remain compatible and follow best practices if they are derived from the standard Exception class."
   ]
  },
  {
   "cell_type": "markdown",
   "id": "f0fcd9f7-1f8a-4d59-85eb-d91542c07c94",
   "metadata": {},
   "source": [
    "2."
   ]
  },
  {
   "cell_type": "code",
   "execution_count": null,
   "id": "8fcd9936-9068-40b1-85a1-03fb17e1d070",
   "metadata": {},
   "outputs": [],
   "source": [
    "def print_exception_hierarchy(exception_class, indent=0):\n",
    "    print(' ' * indent + exception_class.__name__)\n",
    "    for subclass in exception_class.__subclasses__():\n",
    "        print_exception_hierarchy(subclass, indent + 2)\n",
    "\n",
    "print(\"Python Exception Hierarchy:\")\n",
    "print_exception_hierarchy(BaseException)"
   ]
  },
  {
   "cell_type": "markdown",
   "id": "f3ed3d69-5f80-4b32-b225-b3fa173e6455",
   "metadata": {},
   "source": [
    "3."
   ]
  },
  {
   "cell_type": "markdown",
   "id": "06d1ec08-2b1b-47d9-908b-8d34b8c060c6",
   "metadata": {},
   "source": [
    "The `ArithmeticError` class is a base class for exceptions that occur during arithmetic operations. It serves as a superclass for more specific arithmetic-related exception classes in Python. Here are two examples of errors that are defined within the `ArithmeticError` class:"
   ]
  },
  {
   "cell_type": "markdown",
   "id": "008b095e-d731-40ac-b609-615320d9035c",
   "metadata": {},
   "source": [
    "i) ZeroDivisionError: This error is raised when you try to divide a number by zero."
   ]
  },
  {
   "cell_type": "code",
   "execution_count": 1,
   "id": "aa84e6fb-2346-4607-a5bc-8133d0b380eb",
   "metadata": {},
   "outputs": [
    {
     "name": "stdout",
     "output_type": "stream",
     "text": [
      "Error: division by zero\n"
     ]
    }
   ],
   "source": [
    "#Example:#\n",
    "try:\n",
    "    result = 10 / 0  # Division by zero\n",
    "except ZeroDivisionError as e:\n",
    "    print(f\"Error: {e}\")"
   ]
  },
  {
   "cell_type": "markdown",
   "id": "09f4c700-4195-462f-b2ef-e6f78d1bbb85",
   "metadata": {},
   "source": [
    "i).OverflowError: This error occurs when an arithmetic operation results in a value that is too large to be represented within the allowed range of the data type."
   ]
  },
  {
   "cell_type": "code",
   "execution_count": 3,
   "id": "c9f8b7c6-9f2b-4c56-a778-7e9877809279",
   "metadata": {},
   "outputs": [],
   "source": [
    "#Example#\n",
    "import sys\n",
    "try:\n",
    "    big_number = sys.maxsize\n",
    "    result = big_number * 2  # Overflow\n",
    "except OverflowError as e:\n",
    "    print(f\"Error: {e}\")"
   ]
  },
  {
   "cell_type": "markdown",
   "id": "d959c39e-4e96-45b6-9594-95ec567e5d76",
   "metadata": {},
   "source": [
    "4."
   ]
  },
  {
   "cell_type": "markdown",
   "id": "13b78358-b9ea-488e-83ac-da8dd3a4f195",
   "metadata": {
    "tags": []
   },
   "source": [
    "The LookupError class in Python is a base class for exceptions that occur when a lookup or indexing operation fails. It's a parent class for more specific error classes like KeyError and IndexError. These specific error classes are used to handle situations where you're trying to access an element in a collection (like a dictionary or a list), but the element doesn't exist at the specified key or index.\n",
    "Here are examples of both KeyError and IndexError:"
   ]
  },
  {
   "cell_type": "markdown",
   "id": "c20b68fc-d98a-42c7-8956-7302dc108cf6",
   "metadata": {},
   "source": [
    "keyerror example"
   ]
  },
  {
   "cell_type": "code",
   "execution_count": 1,
   "id": "f79334c1-9df0-4730-b673-a7cfd4ce8b03",
   "metadata": {},
   "outputs": [
    {
     "name": "stdout",
     "output_type": "stream",
     "text": [
      "KeyError: 'd'\n"
     ]
    }
   ],
   "source": [
    "my_dict = {'a': 1, 'b': 2, 'c': 3}\n",
    "try:\n",
    "    value = my_dict['d']  # 'd' key doesn't exist\n",
    "except KeyError as e:\n",
    "    print(f\"KeyError: {e}\")\n"
   ]
  },
  {
   "cell_type": "markdown",
   "id": "f16b860a-1c05-4a10-ba23-d0858b02828b",
   "metadata": {},
   "source": [
    "indexerror example"
   ]
  },
  {
   "cell_type": "code",
   "execution_count": 2,
   "id": "174ccbe1-d6be-4fe1-a1c7-9da16c1b2f63",
   "metadata": {},
   "outputs": [
    {
     "name": "stdout",
     "output_type": "stream",
     "text": [
      "IndexError: list index out of range\n"
     ]
    }
   ],
   "source": [
    "my_list = [10, 20, 30]\n",
    "try:\n",
    "    value = my_list[3]  # Index 3 is out of bounds (valid indices are 0, 1, 2)\n",
    "except IndexError as e:\n",
    "    print(f\"IndexError: {e}\")"
   ]
  },
  {
   "cell_type": "markdown",
   "id": "2a358e91-d91e-4e6a-8dfd-e2f50db4a0fa",
   "metadata": {},
   "source": [
    "5.\n",
    "`ImportError`: This exception occurs when you're trying to import a module in Python, but the import operation fails. This can happen for various reasons, such as if the module you're trying to import doesn't exist, is not installed, or there's an issue with the Python interpreter finding the module.\n",
    "For example, if you have a file named `my_module.py` and you try to import it using `import my_module`, but the file is not present in the same directory or in a location where Python searches for modules, you'll encounter an `ImportError`.\n",
    "\n",
    "`ModuleNotFoundError`: This is a more specific type of `ImportError`. It occurs when the module you're trying to import is not found in the available Python modules. This error message is more informative and clearly indicates that the module you're looking for could not be located.\n",
    "For example, if you try to import a module named `nonexistent_module`, you will encounter a `ModuleNotFoundError` because Python can't find a module with that name.\n",
    "In both cases, these errors usually arise from issues related to the location of the module, its installation status, or typos in the module name. It's important to make sure that the module you're trying to import exists, is properly installed (if it's a third-party module), and can be located by the Python interpreter."
   ]
  },
  {
   "cell_type": "markdown",
   "id": "01d04356-5d61-4ba8-96df-16047311e01c",
   "metadata": {},
   "source": [
    "6.\n",
    "Some best practices for exception handling"
   ]
  },
  {
   "cell_type": "code",
   "execution_count": 2,
   "id": "4db80b84-2ab0-4fbf-9835-a85c77c722a6",
   "metadata": {},
   "outputs": [
    {
     "name": "stdout",
     "output_type": "stream",
     "text": [
      "Zero can't be divided\n"
     ]
    }
   ],
   "source": [
    "#Never use exception instead use like this\n",
    "try:\n",
    "    a = 10 / 0\n",
    "    print(a)\n",
    "except ZeroDivisionError as e:\n",
    "    print(\"Zero can't be divided\")\n",
    "    "
   ]
  },
  {
   "cell_type": "code",
   "execution_count": 1,
   "id": "e527adeb-a92b-4b16-9dd3-3e391afed062",
   "metadata": {},
   "outputs": [
    {
     "name": "stdout",
     "output_type": "stream",
     "text": [
      "This index is not available, please input correct index\n"
     ]
    }
   ],
   "source": [
    "#always print good message\n",
    "try:\n",
    "    a = [1 , 2, 5, 6]\n",
    "    print(a[4])\n",
    "except IndexError as e:\n",
    "    print(\"This index is not available, please input correct index\") "
   ]
  },
  {
   "cell_type": "code",
   "execution_count": 2,
   "id": "bdb55394-0882-4517-9dbd-5d0df9ad672d",
   "metadata": {},
   "outputs": [
    {
     "name": "stdout",
     "output_type": "stream",
     "text": [
      "I am trying to handle the ZeroDivision Error division by zero \n"
     ]
    }
   ],
   "source": [
    "#always try to log your error\n",
    "import logging\n",
    "logging.basicConfig(filename = \"error.log\" , level = logging.ERROR)\n",
    "try:\n",
    "    a = 10 / 0\n",
    "    print(a)\n",
    "except ZeroDivisionError as e:\n",
    "    print(\"I am trying to handle the ZeroDivision Error {} \".format(e))\n"
   ]
  }
 ],
 "metadata": {
  "kernelspec": {
   "display_name": "Python 3 (ipykernel)",
   "language": "python",
   "name": "python3"
  },
  "language_info": {
   "codemirror_mode": {
    "name": "ipython",
    "version": 3
   },
   "file_extension": ".py",
   "mimetype": "text/x-python",
   "name": "python",
   "nbconvert_exporter": "python",
   "pygments_lexer": "ipython3",
   "version": "3.10.8"
  }
 },
 "nbformat": 4,
 "nbformat_minor": 5
}
