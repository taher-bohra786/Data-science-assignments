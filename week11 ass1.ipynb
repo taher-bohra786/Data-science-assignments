{
 "cells": [
  {
   "cell_type": "markdown",
   "metadata": {},
   "source": [
    "1."
   ]
  },
  {
   "cell_type": "markdown",
   "metadata": {},
   "source": [
    "The Probability Density Function (PDF) is a function that describes the likelihood of a random variable taking a particular value. For a continuous random variable, the PDF specifies the relative likelihood of the variable falling within a particular range of values. The area under the curve of the PDF over a specific interval gives the probability that the random variable falls within that interval."
   ]
  },
  {
   "cell_type": "markdown",
   "metadata": {},
   "source": [
    "2."
   ]
  },
  {
   "cell_type": "markdown",
   "metadata": {},
   "source": [
    "Probability distributions can be broadly classified into:\n",
    "\n",
    "Discrete Distributions: Defined for discrete random variables (e.g., Binomial, Poisson, Geometric).\n",
    "Continuous Distributions: Defined for continuous random variables (e.g., Normal, Exponential, Uniform).\n"
   ]
  },
  {
   "cell_type": "markdown",
   "metadata": {},
   "source": [
    "3."
   ]
  },
  {
   "cell_type": "code",
   "execution_count": null,
   "metadata": {},
   "outputs": [
    {
     "name": "stdout",
     "output_type": "stream",
     "text": [
      "PDF: 0.3989422804014327\n"
     ]
    }
   ],
   "source": [
    "import math\n",
    "def normal_pdf(x, mean, std_dev):\n",
    "    return (1 / (std_dev * math.sqrt(2 * math.pi))) * math.exp(-((x - mean) ** 2) / (2 * std_dev ** 2))\n",
    "result = normal_pdf(0, 0, 1)\n",
    "print(\"PDF:\", result)"
   ]
  },
  {
   "cell_type": "markdown",
   "metadata": {},
   "source": [
    "4."
   ]
  },
  {
   "cell_type": "markdown",
   "metadata": {},
   "source": [
    "Discrete distribution: Describes the number of successes in a fixed number of independent trials.\n",
    "1. Two possible outcomes: Success or failure.\n",
    "2. Fixed number of trials: n\n",
    "3. Probability of success: p, constant for all trials.\n",
    "4. Trials are independent.\n",
    "Examples:\n",
    "Tossing a coin 10 times and counting the number of heads.\n",
    "Quality control: Counting defective items in a batch."
   ]
  },
  {
   "cell_type": "markdown",
   "metadata": {},
   "source": [
    "5."
   ]
  },
  {
   "cell_type": "code",
   "execution_count": 4,
   "metadata": {},
   "outputs": [
    {
     "data": {
      "image/png": "[encoded data removed]",
      "text/plain": [
       "<Figure size 640x480 with 1 Axes>"
      ]
     },
     "metadata": {},
     "output_type": "display_data"
    }
   ],
   "source": [
    "import numpy as np\n",
    "import matplotlib.pyplot as plt\n",
    "n = 10  \n",
    "p = 0.4  \n",
    "sample = np.random.binomial(n, p, size=1000)\n",
    "plt.hist(sample, bins=range(0, n + 2), edgecolor='k', align='left')\n",
    "plt.title(\"Histogram of Binomial Distribution (n=10, p=0.4)\")\n",
    "plt.xlabel(\"Number of successes\")\n",
    "plt.ylabel(\"Frequency\")\n",
    "plt.show()\n"
   ]
  },
  {
   "cell_type": "markdown",
   "metadata": {},
   "source": [
    "6."
   ]
  },
  {
   "cell_type": "code",
   "execution_count": 5,
   "metadata": {},
   "outputs": [
    {
     "name": "stdout",
     "output_type": "stream",
     "text": [
      "CDF: 0.2650259152973617\n"
     ]
    }
   ],
   "source": [
    "import math\n",
    "def poisson_cdf(k, mean):\n",
    "    \"\"\"Calculate the CDF of a Poisson distribution.\"\"\"\n",
    "    return sum((mean ** i * math.exp(-mean) / math.factorial(i)) for i in range(k + 1))\n",
    "\n",
    "result = poisson_cdf(3, 5)\n",
    "print(\"CDF:\", result)\n"
   ]
  },
  {
   "cell_type": "markdown",
   "metadata": {},
   "source": [
    "7."
   ]
  },
  {
   "cell_type": "markdown",
   "metadata": {},
   "source": [
    "Binomial Distribution:\n",
    "\n",
    "It is used when there is a fixed number of trials, like flipping a coin 10 times.\n",
    "\n",
    "Each trial has two possible outcomes: success or failure.\n",
    "\n",
    "The probability of success is the same in every trial.\n",
    "\n",
    "Example: Counting how many heads you get in 10 coin tosses.\n",
    "\n",
    "Poisson Distribution:\n",
    "\n",
    "It is used for events that happen randomly over a fixed interval (time, area, etc.).\n",
    "\n",
    "There is no fixed number of trials; instead, it models the number of occurrences.\n",
    "\n",
    "It is commonly used for rare events.\n",
    "\n",
    "Example: Counting how many emails you receive in an hour."
   ]
  },
  {
   "cell_type": "markdown",
   "metadata": {},
   "source": [
    "8."
   ]
  },
  {
   "cell_type": "code",
   "execution_count": 6,
   "metadata": {},
   "outputs": [
    {
     "name": "stdout",
     "output_type": "stream",
     "text": [
      "Sample Mean: 5.029\n",
      "Sample Variance: 4.894159\n"
     ]
    }
   ],
   "source": [
    "sample = np.random.poisson(5, size=1000)\n",
    "sample_mean = np.mean(sample)\n",
    "sample_variance = np.var(sample)\n",
    "print(f\"Sample Mean: {sample_mean}\")\n",
    "print(f\"Sample Variance: {sample_variance}\")\n"
   ]
  },
  {
   "cell_type": "markdown",
   "metadata": {},
   "source": [
    "9."
   ]
  },
  {
   "cell_type": "markdown",
   "metadata": {},
   "source": [
    "Binomial Distribution: \n",
    "\n",
    "Mean:=n⋅p\n",
    "\n",
    "Variance: σ = n.p.q\n",
    "\n",
    "Poisson Distribution:\n",
    "\n",
    "Mean = λ * t\n",
    "\n",
    "Variance = equal to mean"
   ]
  },
  {
   "cell_type": "markdown",
   "metadata": {},
   "source": [
    "10."
   ]
  },
  {
   "cell_type": "markdown",
   "metadata": {},
   "source": [
    "In a normal distribution, the least frequent data points are in the tails, farthest from the mean. These occur as x deviates significantly from the mean (more than 3 standard deviations)."
   ]
  },
  {
   "cell_type": "markdown",
   "metadata": {},
   "source": []
  }
 ],
 "metadata": {
  "kernelspec": {
   "display_name": "Python 3",
   "language": "python",
   "name": "python3"
  },
  "language_info": {
   "codemirror_mode": {
    "name": "ipython",
    "version": 3
   },
   "file_extension": ".py",
   "mimetype": "text/x-python",
   "name": "python",
   "nbconvert_exporter": "python",
   "pygments_lexer": "ipython3",
   "version": "3.11.9"
  }
 },
 "nbformat": 4,
 "nbformat_minor": 2
}
