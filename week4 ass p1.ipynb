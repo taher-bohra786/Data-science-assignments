{
 "cells": [
  {
   "cell_type": "markdown",
   "id": "358d5ff1-e174-4f8e-a0dc-3d0a552ae6bc",
   "metadata": {},
   "source": [
    "(1)"
   ]
  },
  {
   "cell_type": "code",
   "execution_count": 7,
   "id": "8012ffd6-a363-4cd4-ab8c-be7da983b786",
   "metadata": {},
   "outputs": [],
   "source": [
    "class vehicle:\n",
    "    def __init__(self, name_of_vehicle , max_speed , average_of_vehicle):\n",
    "        self.name_of_vehicle = name_of_vehicle\n",
    "        self.max_speed = max_speed\n",
    "        self.average_of_vehicle = average_of_vehicle "
   ]
  },
  {
   "cell_type": "markdown",
   "id": "c7b86aba-f414-4ffc-afb4-9ea52bd719f8",
   "metadata": {},
   "source": [
    "(2)"
   ]
  },
  {
   "cell_type": "code",
   "execution_count": 8,
   "id": "ca1fb8e7-c53b-4228-b88b-7f3acfee2d40",
   "metadata": {},
   "outputs": [],
   "source": [
    "class car(vehicle):\n",
    "    def __init__(self, seating_capacity):\n",
    "        self.seating_capacity = seating_capacity\n",
    "        \n",
    "    def details_of_vehicle(self):\n",
    "        return self.name_of_vehcile , self.seating_capacity"
   ]
  },
  {
   "cell_type": "markdown",
   "id": "432a9748-e9ab-459e-8b45-b3442bd20584",
   "metadata": {},
   "source": [
    "(3) MULTIPLE INHERTIANCE -  When a class can be derived from more than one base class. "
   ]
  },
  {
   "cell_type": "code",
   "execution_count": 13,
   "id": "13822649-8598-44e9-afae-3dc4310b2899",
   "metadata": {},
   "outputs": [],
   "source": [
    "class first:\n",
    "    def class1(self):\n",
    "        return \"this is my 1st class\"\n",
    "    \n",
    "class second:\n",
    "    def class2(self):\n",
    "        return \"this is my 2nd class\"\n",
    "    \n",
    "class third(first , second):\n",
    "    def third(self):\n",
    "        pass"
   ]
  },
  {
   "cell_type": "code",
   "execution_count": 14,
   "id": "3f62ce5b-636e-4607-bb97-eb0c1c92239d",
   "metadata": {},
   "outputs": [],
   "source": [
    "class_ob = third()"
   ]
  },
  {
   "cell_type": "code",
   "execution_count": 15,
   "id": "f25ed3a8-c34d-47a1-bcee-b685724bb152",
   "metadata": {},
   "outputs": [
    {
     "data": {
      "text/plain": [
       "'this is my 2nd class'"
      ]
     },
     "execution_count": 15,
     "metadata": {},
     "output_type": "execute_result"
    }
   ],
   "source": [
    "class_ob.class2()"
   ]
  },
  {
   "cell_type": "code",
   "execution_count": 16,
   "id": "e33806b2-1b61-4ef6-bbd5-6db9fb5f06e7",
   "metadata": {},
   "outputs": [
    {
     "data": {
      "text/plain": [
       "'this is my 1st class'"
      ]
     },
     "execution_count": 16,
     "metadata": {},
     "output_type": "execute_result"
    }
   ],
   "source": [
    "class_ob.class1()"
   ]
  },
  {
   "cell_type": "markdown",
   "id": "7f7321cf-4e9c-47d2-9020-af78a30ed539",
   "metadata": {},
   "source": [
    "(4) Getter retrieves the value of a private attribute where as setter allows you to modify the value of the attribute"
   ]
  },
  {
   "cell_type": "code",
   "execution_count": 17,
   "id": "2517d6d4-6c3b-48d3-9288-3d64675268d9",
   "metadata": {},
   "outputs": [],
   "source": [
    "class course:\n",
    "    def __init__(self , course_name , course_price):\n",
    "        self.course_name = course_name\n",
    "        self.__course_price = course_price\n",
    "    \n",
    "    def get_course(self):\n",
    "        return self.__course_price    #This is known as getter\n",
    "    \n",
    "    def set_course_details(self , price):\n",
    "        if price <= 2000:\n",
    "            pass\n",
    "        else:\n",
    "            self.__course_price = price   #This is known as setter\n",
    "        "
   ]
  },
  {
   "cell_type": "markdown",
   "id": "71950a91-d02b-4771-a2d9-0362debc0c08",
   "metadata": {},
   "source": [
    "(5) Method overriding in python occurs when a subclass defines a method with the same name as a method in its superclass. This allows the subclass to provide a specialized implementation of the method while still maintaining the same method signature. The subclass effectively replaces the implmentation of the same-named method in the superclass."
   ]
  },
  {
   "cell_type": "code",
   "execution_count": 18,
   "id": "1d44cee7-8948-472a-a3b4-8639e1cbfc1e",
   "metadata": {},
   "outputs": [],
   "source": [
    "class lion:\n",
    "    def speak(self):\n",
    "        print(\"Lion speaks\")\n",
    "        \n",
    "class Deer(lion):\n",
    "    def speak(self):\n",
    "        print(\"deer speaks\")\n",
    "        \n",
    "class cat(Deer):\n",
    "    def speak(self):\n",
    "        print(\"Cat Meow\")"
   ]
  },
  {
   "cell_type": "code",
   "execution_count": 19,
   "id": "761558bf-7584-4147-ae2a-ce63a0ecd87b",
   "metadata": {},
   "outputs": [],
   "source": [
    "Lion = lion()"
   ]
  },
  {
   "cell_type": "code",
   "execution_count": 20,
   "id": "6f77fb1f-bc7f-41b9-b2fe-e9d257f4dc63",
   "metadata": {},
   "outputs": [
    {
     "name": "stdout",
     "output_type": "stream",
     "text": [
      "Lion speaks\n"
     ]
    }
   ],
   "source": [
    "Lion.speak()"
   ]
  },
  {
   "cell_type": "code",
   "execution_count": 21,
   "id": "341a8552-7a00-4592-9d1b-08906431cb9e",
   "metadata": {},
   "outputs": [],
   "source": [
    "Cat = cat()"
   ]
  },
  {
   "cell_type": "code",
   "execution_count": 23,
   "id": "64823ff0-ee5e-494c-bec3-d23074b238fe",
   "metadata": {},
   "outputs": [
    {
     "name": "stdout",
     "output_type": "stream",
     "text": [
      "Cat Meow\n"
     ]
    }
   ],
   "source": [
    "Cat.speak()"
   ]
  }
 ],
 "metadata": {
  "kernelspec": {
   "display_name": "Python 3 (ipykernel)",
   "language": "python",
   "name": "python3"
  },
  "language_info": {
   "codemirror_mode": {
    "name": "ipython",
    "version": 3
   },
   "file_extension": ".py",
   "mimetype": "text/x-python",
   "name": "python",
   "nbconvert_exporter": "python",
   "pygments_lexer": "ipython3",
   "version": "3.10.8"
  }
 },
 "nbformat": 4,
 "nbformat_minor": 5
}
