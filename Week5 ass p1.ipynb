{
 "cells": [
  {
   "cell_type": "markdown",
   "id": "45b16635-906a-42ed-a757-a909dccea65f",
   "metadata": {},
   "source": [
    "1.\n",
    "The main difference between exceptions and syntax errors is that exceptions occur at runtime when the program is being executed, whereas syntax errors are detected by the Python interpreter before the program is executed. Syntax errors are typically caused by incorrect syntax or structure in the code."
   ]
  },
  {
   "cell_type": "markdown",
   "id": "4260b48c-48d7-4fa4-b8e2-2e6ce4429f44",
   "metadata": {},
   "source": [
    "2.\n",
    "When an exception is not handled in a Python program, it leads to what's known as an \"unhandled exception.\" In this scenario, the program's normal flow is interrupted, and an error message is displayed, often accompanied by a traceback that shows the sequence of function calls that led to the exception. This can be confusing for users and may cause the program to terminate unexpectedly."
   ]
  },
  {
   "cell_type": "code",
   "execution_count": 4,
   "id": "710c636f-7d22-48e4-aabd-ab1e29614105",
   "metadata": {},
   "outputs": [
    {
     "name": "stdin",
     "output_type": "stream",
     "text": [
      "Enter a number:  0\n"
     ]
    },
    {
     "name": "stdout",
     "output_type": "stream",
     "text": [
      "Invalid input! Please enter a valid number.\n"
     ]
    }
   ],
   "source": [
    "#example\n",
    "try:\n",
    "    num = int(input(\"Enter a number: \"))\n",
    "    result = 10 / num\n",
    "    print(\"Result:\", result)\n",
    "except ZeroDivisionError :\n",
    "    print(\"Invalid input! Please enter a valid number.\")\n"
   ]
  },
  {
   "cell_type": "markdown",
   "id": "7721eb6a-9e40-4abe-8a8d-3c7224ba4132",
   "metadata": {},
   "source": [
    "3.\n",
    "In Python, the statements used to try, catch, and handle exceptions are \"try,\" \"except,\" and \"finally.\" The \"try\" block contains the code that might raise an exception. The \"except\" block defines how to handle specific exceptions, while the \"finally\" block contains code that will always run, regardless of whether an exception occurs or not.\n",
    "Here's an example:"
   ]
  },
  {
   "cell_type": "code",
   "execution_count": 6,
   "id": "1943bee4-616a-453d-adfc-6fda3619907c",
   "metadata": {},
   "outputs": [
    {
     "name": "stdin",
     "output_type": "stream",
     "text": [
      "Enter a number:  mdfve\n"
     ]
    },
    {
     "name": "stdout",
     "output_type": "stream",
     "text": [
      "Invalid input. Please enter a valid number.\n",
      "Execution complete.\n"
     ]
    }
   ],
   "source": [
    "try:\n",
    "    num = int(input(\"Enter a number: \"))\n",
    "    result = 10 / num\n",
    "except ZeroDivisionError:\n",
    "    print(\"Cannot divide by zero!\")\n",
    "except ValueError:\n",
    "    print(\"Invalid input. Please enter a valid number.\")\n",
    "else:\n",
    "    print(\"Result:\", result)\n",
    "finally:\n",
    "    print(\"Execution complete.\")\n"
   ]
  },
  {
   "cell_type": "markdown",
   "id": "ead54e63-8ffc-4b41-b5a5-c59b23805138",
   "metadata": {},
   "source": [
    "4.\n",
    "try block: This is where the code that might raise an exception is placed. In our case, the division operation is performed inside the try block.\n",
    "\n",
    "else block: If no exceptions are raised in the try block, the code in the else block will run. This is often used for code that should run when no exceptions occur. In our case, we're printing the division result if no exception occurred.\n",
    "\n",
    "finally block: This block is always executed, regardless of whether an exception occurred or not. In our example, we're printing a message to indicate the completion of the division operation.\n",
    "\n",
    "raise statement: This is used to raise a specific exception manually. It's often used to indicate that something unexpected has happened in your code."
   ]
  },
  {
   "cell_type": "code",
   "execution_count": 4,
   "id": "d0c300d8-1f31-4413-88cb-baed109ee4b7",
   "metadata": {},
   "outputs": [],
   "source": [
    "def divide(a, b):\n",
    "    try:\n",
    "        print(\"This is my Trial Block\")\n",
    "        if b < 0:\n",
    "            raise ValueError(\"Negative Numbers are not allowed\")\n",
    "        result = a / b\n",
    "    except ZeroDivisionError:\n",
    "        print(\"Error: Division by zero\")\n",
    "    else:\n",
    "        print(\"Division result:\", result)\n",
    "    finally:\n",
    "        print(\"Division operation finished\")"
   ]
  },
  {
   "cell_type": "code",
   "execution_count": 5,
   "id": "d83155e5-6943-499d-baee-24fe4e18743d",
   "metadata": {},
   "outputs": [
    {
     "name": "stdout",
     "output_type": "stream",
     "text": [
      "This is my Trial Block\n",
      "Division result: 5.0\n",
      "Division operation finished\n"
     ]
    }
   ],
   "source": [
    "# Example 1: No exception\n",
    "divide(10, 2)"
   ]
  },
  {
   "cell_type": "code",
   "execution_count": 6,
   "id": "0e292f63-a89d-4872-a0fc-fbb94c574373",
   "metadata": {},
   "outputs": [
    {
     "name": "stdout",
     "output_type": "stream",
     "text": [
      "This is my Trial Block\n",
      "Error: Division by zero\n",
      "Division operation finished\n"
     ]
    }
   ],
   "source": [
    "# Example 2: Division by zero exception\n",
    "divide(10, 0)"
   ]
  },
  {
   "cell_type": "code",
   "execution_count": 7,
   "id": "13320729-21ec-438d-a20b-6a6c6ca605cf",
   "metadata": {},
   "outputs": [
    {
     "name": "stdout",
     "output_type": "stream",
     "text": [
      "This is my Trial Block\n",
      "Division operation finished\n"
     ]
    },
    {
     "ename": "ValueError",
     "evalue": "Negative Numbers are not allowed",
     "output_type": "error",
     "traceback": [
      "\u001b[0;31m---------------------------------------------------------------------------\u001b[0m",
      "\u001b[0;31mValueError\u001b[0m                                Traceback (most recent call last)",
      "Cell \u001b[0;32mIn[7], line 2\u001b[0m\n\u001b[1;32m      1\u001b[0m \u001b[38;5;66;03m#Example 3: Inserting the neagtive number\u001b[39;00m\n\u001b[0;32m----> 2\u001b[0m \u001b[43mdivide\u001b[49m\u001b[43m(\u001b[49m\u001b[38;5;241;43m10\u001b[39;49m\u001b[43m,\u001b[49m\u001b[43m \u001b[49m\u001b[38;5;241;43m-\u001b[39;49m\u001b[38;5;241;43m2\u001b[39;49m\u001b[43m)\u001b[49m\n",
      "Cell \u001b[0;32mIn[4], line 5\u001b[0m, in \u001b[0;36mdivide\u001b[0;34m(a, b)\u001b[0m\n\u001b[1;32m      3\u001b[0m     \u001b[38;5;28mprint\u001b[39m(\u001b[38;5;124m\"\u001b[39m\u001b[38;5;124mThis is my Trial Block\u001b[39m\u001b[38;5;124m\"\u001b[39m)\n\u001b[1;32m      4\u001b[0m     \u001b[38;5;28;01mif\u001b[39;00m b \u001b[38;5;241m<\u001b[39m \u001b[38;5;241m0\u001b[39m:\n\u001b[0;32m----> 5\u001b[0m         \u001b[38;5;28;01mraise\u001b[39;00m \u001b[38;5;167;01mValueError\u001b[39;00m(\u001b[38;5;124m\"\u001b[39m\u001b[38;5;124mNegative Numbers are not allowed\u001b[39m\u001b[38;5;124m\"\u001b[39m)\n\u001b[1;32m      6\u001b[0m     result \u001b[38;5;241m=\u001b[39m a \u001b[38;5;241m/\u001b[39m b\n\u001b[1;32m      7\u001b[0m \u001b[38;5;28;01mexcept\u001b[39;00m \u001b[38;5;167;01mZeroDivisionError\u001b[39;00m:\n",
      "\u001b[0;31mValueError\u001b[0m: Negative Numbers are not allowed"
     ]
    }
   ],
   "source": [
    "#Example 3: Inserting the neagtive number\n",
    "divide(10, -2)"
   ]
  },
  {
   "cell_type": "markdown",
   "id": "f06bf036-7fab-4511-aa69-01ded8f4b985",
   "metadata": {},
   "source": [
    "5.\n",
    "In Python, custom exceptions are user-defined exceptions that you can create to handle specific error conditions in your code. While Python provides a variety of built-in exception types, creating custom exceptions allows you to give more context to the errors that occur in your code and make your error handling more informative and structured."
   ]
  },
  {
   "cell_type": "code",
   "execution_count": 49,
   "id": "c5a51a88-75c7-4bf9-ad29-75fc258949d9",
   "metadata": {},
   "outputs": [],
   "source": [
    "def nation(country):\n",
    "    if country.lower() == \"india\":\n",
    "        print(\"You are an INDIAN\")\n",
    "    else:\n",
    "        print(\"You are NOT an INDIAN\")"
   ]
  },
  {
   "cell_type": "code",
   "execution_count": 50,
   "id": "4246e102-f672-45d6-98c5-186bfb26a271",
   "metadata": {},
   "outputs": [
    {
     "name": "stdin",
     "output_type": "stream",
     "text": [
      "Enter your country name: india\n"
     ]
    },
    {
     "name": "stdout",
     "output_type": "stream",
     "text": [
      "You are an INDIAN\n"
     ]
    }
   ],
   "source": [
    "try:\n",
    "    country = input(\"Enter your country name:\")\n",
    "    nation(country)\n",
    "except KeyboardInterrupt:\n",
    "    print(\"Operation aborted by the user.\")"
   ]
  },
  {
   "cell_type": "code",
   "execution_count": 51,
   "id": "a497d1ee-970c-48da-a856-937837b725c6",
   "metadata": {},
   "outputs": [
    {
     "name": "stdin",
     "output_type": "stream",
     "text": [
      "Enter your country name: america\n"
     ]
    },
    {
     "name": "stdout",
     "output_type": "stream",
     "text": [
      "You are NOT an INDIAN\n"
     ]
    }
   ],
   "source": [
    "try:\n",
    "    country = input(\"Enter your country name:\")\n",
    "    nation(country)\n",
    "except KeyboardInterrupt:\n",
    "    print(\"Operation aborted by the user.\")"
   ]
  },
  {
   "cell_type": "markdown",
   "id": "1f20fee3-eb9d-45ce-8f26-d843c0b79828",
   "metadata": {},
   "source": [
    "6.\n",
    "Creting the exception handling class"
   ]
  },
  {
   "cell_type": "code",
   "execution_count": 52,
   "id": "507640ab-7595-4a35-929c-7ee6167fa2fe",
   "metadata": {},
   "outputs": [],
   "source": [
    "class WithdrawalError(Exception):\n",
    "    def __init__(self, balance, amount):\n",
    "        self.balance = balance\n",
    "        self.amount = amount\n",
    "        super().__init__(f\"Withdrawal of {amount} not allowed. Available balance: {balance}\")"
   ]
  },
  {
   "cell_type": "code",
   "execution_count": 53,
   "id": "a7a86f4d-b942-4e19-ae89-e9cd83de01e4",
   "metadata": {},
   "outputs": [],
   "source": [
    "def perform_withdrawal(balance, amount):\n",
    "    try:\n",
    "        if amount > balance:\n",
    "            raise WithdrawalError(balance, amount)\n",
    "        else:\n",
    "            print(\"Withdrawal successful\")\n",
    "            # Update balance logic here\n",
    "    except WithdrawalError as we:\n",
    "        print(we)"
   ]
  },
  {
   "cell_type": "code",
   "execution_count": 54,
   "id": "3181d6b8-92da-485b-9391-110a5d5dcbd1",
   "metadata": {},
   "outputs": [
    {
     "name": "stdout",
     "output_type": "stream",
     "text": [
      "Withdrawal successful\n"
     ]
    }
   ],
   "source": [
    "perform_withdrawal(1000, 500)"
   ]
  },
  {
   "cell_type": "code",
   "execution_count": 55,
   "id": "ac25eb11-d22b-42b8-9dd1-49327355eb54",
   "metadata": {},
   "outputs": [
    {
     "name": "stdout",
     "output_type": "stream",
     "text": [
      "Withdrawal of 500 not allowed. Available balance: 200\n"
     ]
    }
   ],
   "source": [
    "perform_withdrawal(200, 500)"
   ]
  }
 ],
 "metadata": {
  "kernelspec": {
   "display_name": "Python 3 (ipykernel)",
   "language": "python",
   "name": "python3"
  },
  "language_info": {
   "codemirror_mode": {
    "name": "ipython",
    "version": 3
   },
   "file_extension": ".py",
   "mimetype": "text/x-python",
   "name": "python",
   "nbconvert_exporter": "python",
   "pygments_lexer": "ipython3",
   "version": "3.10.8"
  }
 },
 "nbformat": 4,
 "nbformat_minor": 5
}
