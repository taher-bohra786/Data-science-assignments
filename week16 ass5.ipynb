{
 "cells": [
  {
   "cell_type": "markdown",
   "metadata": {},
   "source": [
    "### **Q1:**  \n",
    "The **best regression metric** for predicting house prices would be **Root Mean Squared Error (RMSE)** because it penalizes large errors more than Mean Absolute Error (MAE) and provides results in the same units as the target variable (house price).\n",
    "\n",
    "---\n",
    "\n",
    "### **Q2:**  \n",
    "If the goal is to **predict the actual price as accurately as possible**, **Mean Squared Error (MSE) or RMSE** would be more appropriate because they measure the absolute difference between predicted and actual values. **R-squared** explains variance but does not directly indicate prediction accuracy.\n",
    "\n",
    "---\n",
    "\n",
    "### **Q3:**  \n",
    "For a dataset with **many outliers**, **Mean Absolute Error (MAE)** is the most appropriate metric because it is less sensitive to extreme values compared to MSE or RMSE.\n",
    "\n",
    "---\n",
    "\n",
    "### **Q4:**  \n",
    "If **MSE and RMSE are very close**, RMSE should be used because it is in the same unit as the target variable (house price), making interpretation easier.\n",
    "\n",
    "---\n",
    "\n",
    "### **Q5:**  \n",
    "If the goal is to **measure how well the model explains variance**, **R-squared (R²)** is the best metric. It indicates the proportion of variance in the target variable that is explained by the model."
   ]
  }
 ],
 "metadata": {
  "language_info": {
   "name": "python"
  }
 },
 "nbformat": 4,
 "nbformat_minor": 2
}
