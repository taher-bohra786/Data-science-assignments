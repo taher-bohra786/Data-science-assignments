{
 "cells": [
  {
   "cell_type": "markdown",
   "metadata": {},
   "source": [
    "**Q1:** Anomaly detection identifies data points that significantly deviate from normal patterns to detect fraud, errors, or unusual events.  \n",
    "\n",
    "**Q2:** Challenges include high-dimensional data, concept drift, imbalanced datasets, lack of labeled data, and defining \"normal\" behavior.  \n",
    "\n",
    "**Q3:** Unsupervised anomaly detection finds anomalies without labeled data, while supervised requires labeled normal and anomalous examples for training.  \n",
    "\n",
    "**Q4:** Main categories include statistical methods, distance-based, density-based (e.g., LOF), clustering-based, and tree-based (e.g., Isolation Forest).  \n",
    "\n",
    "**Q5:** Assumptions include: (1) Anomalies are far from normal data, (2) Normal data points form dense clusters, and (3) Anomalies have fewer neighbors.  \n",
    "\n",
    "**Q6:** LOF (Local Outlier Factor) computes anomaly scores by comparing the local density of a point to its neighbors; a lower density than neighbors indicates an anomaly.  \n",
    "\n",
    "**Q7:** Key parameters of Isolation Forest:  \n",
    "- `n_estimators` (number of trees)  \n",
    "- `max_samples` (subsample size per tree)  \n",
    "- `contamination` (expected anomaly proportion)  \n",
    "- `max_features` (features per split)  \n",
    "\n",
    "**Q8:** Since K=10, but only 2 neighbors are of the same class, the point is likely an anomaly with a high anomaly score.  \n",
    "\n",
    "**Q9:** The anomaly score in Isolation Forest is inversely related to the path length. If the average path length is much longer than 5.0, the data point is likely an anomaly."
   ]
  }
 ],
 "metadata": {
  "language_info": {
   "name": "python"
  }
 },
 "nbformat": 4,
 "nbformat_minor": 2
}
