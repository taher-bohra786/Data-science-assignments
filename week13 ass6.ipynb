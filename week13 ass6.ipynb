{
 "cells": [
  {
   "cell_type": "markdown",
   "metadata": {},
   "source": [
    "1."
   ]
  },
  {
   "cell_type": "markdown",
   "metadata": {},
   "source": [
    "Ordinal Encoding: Assigns numerical values based on order (e.g., Small=1, Medium=2, Large=3). Used for ordered categories.\n",
    "\n",
    "Label Encoding: Assigns arbitrary numbers (e.g., Red=0, Green=1, Blue=2). Used for nominal (unordered) categories.\n",
    "\n",
    "Example: Use ordinal encoding for education levels (High School < Bachelor’s < Master’s < PhD), but label encoding for car brands (Toyota, Ford, Honda)."
   ]
  },
  {
   "cell_type": "markdown",
   "metadata": {},
   "source": [
    "2."
   ]
  },
  {
   "cell_type": "markdown",
   "metadata": {},
   "source": [
    "Target Guided Ordinal Encoding assigns categories based on their relationship with the target variable.\n",
    "\n",
    "Example: In predicting house prices, encode \"City\" based on average house price (e.g., City A = 1, City B = 2, City C = 3 if A has the lowest average price)."
   ]
  },
  {
   "cell_type": "markdown",
   "metadata": {},
   "source": [
    "3."
   ]
  },
  {
   "cell_type": "markdown",
   "metadata": {},
   "source": [
    "Covariance measures how two variables change together. A positive covariance means they increase together; a negative covariance means they move oppositely.\n",
    "\n",
    "\n",
    "Formula - cov(x,y) =( Xi - X ) (Yi - Y) /  n - 1"
   ]
  },
  {
   "cell_type": "markdown",
   "metadata": {},
   "source": [
    "4.\n"
   ]
  },
  {
   "cell_type": "code",
   "execution_count": 5,
   "metadata": {},
   "outputs": [
    {
     "name": "stdout",
     "output_type": "stream",
     "text": [
      "{'Color': array([2, 1, 0]), 'Size': array([2, 1, 0]), 'Material': array([2, 0, 1])}\n"
     ]
    }
   ],
   "source": [
    "from sklearn.preprocessing import LabelEncoder\n",
    "\n",
    "data = {'Color': ['red', 'green', 'blue'], 'Size': ['small', 'medium', 'large'], 'Material': ['wood', 'metal', 'plastic']}\n",
    "\n",
    "encoded_data = {}\n",
    "\n",
    "for column in data:\n",
    "    encoder = LabelEncoder()  # Create a new encoder for each column\n",
    "    encoded_data[column] = encoder.fit_transform(data[column])  \n",
    "\n",
    "print(encoded_data)"
   ]
  },
  {
   "cell_type": "markdown",
   "metadata": {},
   "source": [
    "Output Explanation: Converts categorical variables into numbers (e.g., Red → 2, Green → 1, Blue → 0)."
   ]
  },
  {
   "cell_type": "markdown",
   "metadata": {},
   "source": [
    "5."
   ]
  },
  {
   "cell_type": "markdown",
   "metadata": {},
   "source": [
    "Covariance matrix shows relationships between Age, Income, and Education Level.\n",
    "\n",
    "If Age & Income have positive covariance, older people tend to earn more.\n",
    "\n",
    "If Education & Income have strong positive covariance, higher education leads to higher income."
   ]
  },
  {
   "cell_type": "markdown",
   "metadata": {},
   "source": [
    "6."
   ]
  },
  {
   "cell_type": "markdown",
   "metadata": {},
   "source": [
    "Gender: Label encoding (Male=0, Female=1).\n",
    "\n",
    "Education Level: Ordinal encoding (High School=1, Bachelor's=2, Master's=3, PhD=4).\n",
    "\n",
    "Employment Status: One-hot encoding (Unemployed, Part-Time, Full-Time)."
   ]
  },
  {
   "cell_type": "markdown",
   "metadata": {},
   "source": [
    "7."
   ]
  },
  {
   "cell_type": "markdown",
   "metadata": {},
   "source": [
    "Calculate covariance for Temperature & Humidity (continuous variables).\n",
    "\n",
    "Convert \"Weather Condition\" & \"Wind Direction\" using label encoding before computing covariance.\n",
    "\n",
    "Interpretation: If Temperature & Humidity have positive covariance, higher temperatures correspond to higher humidity. If Temperature & Wind Direction have near-zero covariance, they are independent."
   ]
  }
 ],
 "metadata": {
  "kernelspec": {
   "display_name": "Python 3",
   "language": "python",
   "name": "python3"
  },
  "language_info": {
   "codemirror_mode": {
    "name": "ipython",
    "version": 3
   },
   "file_extension": ".py",
   "mimetype": "text/x-python",
   "name": "python",
   "nbconvert_exporter": "python",
   "pygments_lexer": "ipython3",
   "version": "3.11.9"
  }
 },
 "nbformat": 4,
 "nbformat_minor": 2
}
