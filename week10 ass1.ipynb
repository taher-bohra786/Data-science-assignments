{
 "cells": [
  {
   "cell_type": "markdown",
   "metadata": {},
   "source": [
    "1."
   ]
  },
  {
   "cell_type": "markdown",
   "metadata": {},
   "source": [
    "Statistics is the branch of mathematics that involves collecting, analyzing, interpreting, and presenting data. It helps in making informed decisions based on data patterns and trends.\n",
    "\n"
   ]
  },
  {
   "cell_type": "markdown",
   "metadata": {},
   "source": [
    "2."
   ]
  },
  {
   "cell_type": "markdown",
   "metadata": {},
   "source": [
    "There are two main types of statistics:\n",
    "\n",
    "Descriptive Statistics: Summarizes and describes the main features of a dataset.\n",
    "\n",
    "Example: Calculating the average test score of a class to summarize student performance.\n",
    "\n",
    "Inferential Statistics: Makes predictions or inferences about a population based on a sample of data.\n",
    "\n",
    "Example: Using a sample of voters to predict the outcome of an election.\n"
   ]
  },
  {
   "cell_type": "markdown",
   "metadata": {},
   "source": [
    "3."
   ]
  },
  {
   "cell_type": "markdown",
   "metadata": {},
   "source": [
    "There are 2 types of data\n",
    "\n",
    "Quantitative Data: Numerical data that represents counts or measurements.\n",
    "\n",
    "Example: The height of individuals in centimeters (e.g., 175.4 cm, 182 cm).\n",
    "\n",
    "Qualitative Data: Categorical data that describes characteristics or attributes.\n",
    "\n",
    "Example: Types of fruit (e.g., apple, banana, orange).\n"
   ]
  },
  {
   "cell_type": "markdown",
   "metadata": {},
   "source": [
    "4."
   ]
  },
  {
   "cell_type": "markdown",
   "metadata": {},
   "source": [
    "(i) Grading in exam: A+, A, B+, B, C+, C, D, E → **Qualitative (Ordinal)**\n",
    "\n",
    "(ii) Colour of mangoes: yellow, green, orange, red → **Qualitative (Nominal)**\n",
    "\n",
    "(iii) Height data of a class: [178.9, 179, 179.5, 176, 177.2, 178.3, 175.8,...] → **Quantitative**\n",
    "\n",
    "(iv) Number of mangoes exported by a farm: [500, 600, 478, 672, ...] → **Quantitative**\n",
    "\n"
   ]
  },
  {
   "cell_type": "markdown",
   "metadata": {},
   "source": [
    "5."
   ]
  },
  {
   "cell_type": "markdown",
   "metadata": {},
   "source": [
    "Nominal: Categorical data without any natural order.\n",
    "\n",
    "Example: Types of animals (dog, cat, rabbit).\n",
    "\n",
    "Ordinal: Categorical data with a clear, ranked order.\n",
    "\n",
    "Example: Customer satisfaction (satisfied, neutral, dissatisfied).\n",
    "\n",
    "Interval: Numerical data where the difference between values is meaningful, but there is no true zero.\n",
    "\n",
    "Example: Temperature in Celsius (0°C is not the absence of temperature).\n",
    "\n",
    "Ratio: Numerical data with a meaningful zero point, where both differences and ratios are meaningful.\n",
    "\n",
    "Example: Height in meters (0 meters means no height)."
   ]
  },
  {
   "cell_type": "markdown",
   "metadata": {},
   "source": [
    "6."
   ]
  },
  {
   "cell_type": "markdown",
   "metadata": {},
   "source": [
    "Understanding the level of measurement is crucial because it determines the types of statistical analyses that can be applied. For example, the mean cannot be calculated for nominal data, but it can be for ratio data. If you try to calculate an average for categorical data like \"colors of cars,\" the result will be meaningless.\n",
    "\n"
   ]
  },
  {
   "cell_type": "markdown",
   "metadata": {},
   "source": [
    "7."
   ]
  },
  {
   "cell_type": "markdown",
   "metadata": {},
   "source": [
    "Nominal Data: Categories have no intrinsic order.\n",
    "\n",
    "Example: Types of cars (SUV, sedan, coupe).\n",
    "\n",
    "Ordinal Data: Categories have a meaningful order or ranking.\n",
    "\n",
    "Example: Education level (high school, bachelor’s, master’s, PhD)."
   ]
  },
  {
   "cell_type": "markdown",
   "metadata": {},
   "source": [
    "8."
   ]
  },
  {
   "cell_type": "markdown",
   "metadata": {},
   "source": [
    "A box plot (box-and-whisker plot) is commonly used to display the range, including the interquartile range, median, and possible outliers."
   ]
  },
  {
   "cell_type": "markdown",
   "metadata": {},
   "source": [
    "9."
   ]
  },
  {
   "cell_type": "markdown",
   "metadata": {},
   "source": [
    "Descriptive Statistics: Summarizes or describes the characteristics of a dataset.\n",
    "\n",
    "Example: Calculating the average age of students in a class to describe the central age tendency.\n",
    "\n",
    "Inferential Statistics: Uses a sample to make inferences or predictions about a population.\n",
    "\n",
    "Example: Surveying 100 students to estimate the overall satisfaction rate of all university students.\n"
   ]
  },
  {
   "cell_type": "markdown",
   "metadata": {},
   "source": [
    "10."
   ]
  },
  {
   "cell_type": "markdown",
   "metadata": {},
   "source": [
    "Measures of Central Tendency:\n",
    "\n",
    "Mean: The average value of a dataset.\n",
    "\n",
    "Use: Describes the central value in normally distributed data.\n",
    "\n",
    "Median: The middle value in a dataset when ordered.\n",
    "\n",
    "Use: Best for skewed data or when outliers are present.\n",
    "\n",
    "Mode: The most frequent value in a dataset.\n",
    "\n",
    "Use: Useful in categorical data to identify the most common category.\n",
    "\n",
    "Measures of Variability:\n",
    "\n",
    "Range: The difference between the maximum and minimum values.\n",
    "\n",
    "Use: Provides the simplest measure of spread.\n",
    "\n",
    "Variance: The average of the squared differences from the mean.\n",
    "\n",
    "Use: Describes how much the data points vary from the mean.\n",
    "\n",
    "Standard Deviation: The square root of the variance.\n",
    "\n",
    "Use: Provides a measure of spread in the same units as the data.\n",
    "\n",
    "\n",
    "\n",
    "\n",
    "\n"
   ]
  },
  {
   "cell_type": "markdown",
   "metadata": {},
   "source": []
  }
 ],
 "metadata": {
  "language_info": {
   "name": "python"
  }
 },
 "nbformat": 4,
 "nbformat_minor": 2
}
