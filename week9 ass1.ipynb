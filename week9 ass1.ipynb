{
 "cells": [
  {
   "cell_type": "code",
   "execution_count": 8,
   "id": "b215f12d-a056-4132-a3ab-5b3e5397c305",
   "metadata": {},
   "outputs": [
    {
     "data": {
      "text/plain": [
       "array([1, 2, 3, 4, 5])"
      ]
     },
     "execution_count": 8,
     "metadata": {},
     "output_type": "execute_result"
    }
   ],
   "source": [
    "import numpy as np\n",
    "list_ = [ 1 , 2 , 3 , 4 , 5 ]\n",
    "array_list = np.array(object = list_)\n",
    "list_\n",
    "array_list"
   ]
  },
  {
   "cell_type": "markdown",
   "id": "53477091-89ad-4591-b490-9b1538607665",
   "metadata": {},
   "source": [
    "1."
   ]
  },
  {
   "cell_type": "markdown",
   "id": "581af35f-925c-40ed-bec1-be8b1ba26f6a",
   "metadata": {},
   "source": [
    "A list is a built-in data structure that can store a collection of items. It can hold elements of different types and can dynamically change size, whereas array list refers to arrays provided by libraries like numpy or array from the array module."
   ]
  },
  {
   "cell_type": "code",
   "execution_count": 6,
   "id": "9cb59fc0-4ea2-4534-9501-3a09254e1ae6",
   "metadata": {},
   "outputs": [
    {
     "name": "stdout",
     "output_type": "stream",
     "text": [
      "Data type of list_: <class 'list'>\n",
      "Data type of array_list: <class 'numpy.ndarray'>\n"
     ]
    }
   ],
   "source": [
    "print(\"Data type of list_:\", type(list_))\n",
    "print(\"Data type of array_list:\", type(array_list))"
   ]
  },
  {
   "cell_type": "markdown",
   "id": "59e2915d-000b-47c8-a400-2d23093086a2",
   "metadata": {},
   "source": [
    "2."
   ]
  },
  {
   "cell_type": "code",
   "execution_count": 9,
   "id": "67efe531-0c08-4daf-b9c1-8d6cca19f81a",
   "metadata": {},
   "outputs": [
    {
     "name": "stdout",
     "output_type": "stream",
     "text": [
      "Data types of elements in list_:\n",
      "Element: 1, Data type: <class 'int'>\n",
      "Element: 2.5, Data type: <class 'float'>\n",
      "Element: three, Data type: <class 'str'>\n",
      "Element: True, Data type: <class 'bool'>\n",
      "\n",
      "Data types of elements in array_list:\n",
      "Element: 1, Data type: <class 'numpy.str_'>\n",
      "Element: 2.5, Data type: <class 'numpy.str_'>\n",
      "Element: three, Data type: <class 'numpy.str_'>\n",
      "Element: True, Data type: <class 'numpy.str_'>\n"
     ]
    }
   ],
   "source": [
    "import numpy as np\n",
    "list_ = [1, 2.5, 'three', True]\n",
    "array_list = np.array([1, 2.5, 'three', True])\n",
    "print(\"Data types of elements in list_:\")\n",
    "for element in list_:\n",
    "    print(f'Element: {element}, Data type: {type(element)}')\n",
    "print(\"\\nData types of elements in array_list:\")\n",
    "for element in array_list:\n",
    "    print(f'Element: {element}, Data type: {type(element)}')\n"
   ]
  },
  {
   "cell_type": "markdown",
   "id": "3952b68a-a9d5-4489-bed6-0eabfbb0e072",
   "metadata": {},
   "source": [
    "3."
   ]
  },
  {
   "cell_type": "code",
   "execution_count": 11,
   "id": "8f5d47bd-70b9-482d-8702-fbce76118617",
   "metadata": {},
   "outputs": [
    {
     "name": "stdout",
     "output_type": "stream",
     "text": [
      "Data types of elements in list_:\n",
      "Element: 1, Data type: <class 'str'>\n",
      "Element: 2, Data type: <class 'str'>\n",
      "Element: 3, Data type: <class 'str'>\n",
      "Element: 4, Data type: <class 'str'>\n",
      "Element: 5, Data type: <class 'str'>\n",
      "\n",
      "Data types of elements in array_list (string type):\n",
      "Element: 1, Data type: <class 'numpy.str_'>\n",
      "Element: 2, Data type: <class 'numpy.str_'>\n",
      "Element: 3, Data type: <class 'numpy.str_'>\n",
      "Element: 4, Data type: <class 'numpy.str_'>\n",
      "Element: 5, Data type: <class 'numpy.str_'>\n",
      "\n",
      "Data types of elements in array_list (integer type):\n",
      "Element: 1, Data type: <class 'numpy.int64'>\n",
      "Element: 2, Data type: <class 'numpy.int64'>\n",
      "Element: 3, Data type: <class 'numpy.int64'>\n",
      "Element: 4, Data type: <class 'numpy.int64'>\n",
      "Element: 5, Data type: <class 'numpy.int64'>\n"
     ]
    }
   ],
   "source": [
    "import numpy as np\n",
    "list_ = ['1', '2', '3', '4', '5']\n",
    "array_list_str = np.array(list_)\n",
    "array_list_int = np.array(list_, dtype=int)\n",
    "print(\"Data types of elements in list_:\")\n",
    "for element in list_:\n",
    "    print(f'Element: {element}, Data type: {type(element)}')\n",
    "print(\"\\nData types of elements in array_list (string type):\")\n",
    "for element in array_list_str:\n",
    "    print(f'Element: {element}, Data type: {type(element)}')\n",
    "print(\"\\nData types of elements in array_list (integer type):\")\n",
    "for element in array_list_int:\n",
    "    print(f'Element: {element}, Data type: {type(element)}')"
   ]
  },
  {
   "cell_type": "markdown",
   "id": "242ca1bd-9b6c-48c6-89ad-6bd2ba103b94",
   "metadata": {},
   "source": [
    "4."
   ]
  },
  {
   "cell_type": "code",
   "execution_count": 14,
   "id": "d66251de-4e90-4e9f-b3c1-cb2ba2c7edd9",
   "metadata": {},
   "outputs": [
    {
     "name": "stdout",
     "output_type": "stream",
     "text": [
      "[[1 2 3]\n",
      " [4 5 6]]\n",
      "Shape of num_array: (2, 3)\n",
      "Size of num_array: 6\n"
     ]
    }
   ],
   "source": [
    "num_list = [[1, 2, 3], [4, 5, 6]]\n",
    "num_array = np.array(num_list)\n",
    "print(num_array)\n",
    "print(\"Shape of num_array:\", num_array.shape)\n",
    "print(\"Size of num_array:\", num_array.size)\n"
   ]
  },
  {
   "cell_type": "markdown",
   "id": "5181e471-8d90-49be-98f0-53d55e6dc7b1",
   "metadata": {},
   "source": [
    "5."
   ]
  },
  {
   "cell_type": "code",
   "execution_count": 17,
   "id": "b8b0bd1b-af60-42fc-976a-4e792fe47a44",
   "metadata": {},
   "outputs": [
    {
     "data": {
      "text/plain": [
       "array([[0., 0., 0.],\n",
       "       [0., 0., 0.],\n",
       "       [0., 0., 0.]])"
      ]
     },
     "execution_count": 17,
     "metadata": {},
     "output_type": "execute_result"
    }
   ],
   "source": [
    "np.zeros((3,3))        #Creating the zero matrix of 3*3"
   ]
  },
  {
   "cell_type": "markdown",
   "id": "8919984e-df0c-41d4-a110-13f4785c7063",
   "metadata": {},
   "source": [
    "6."
   ]
  },
  {
   "cell_type": "code",
   "execution_count": null,
   "id": "3c9a50c6-3e36-4c4e-b260-f5f5662685c4",
   "metadata": {},
   "outputs": [],
   "source": [
    "np.eye"
   ]
  }
 ],
 "metadata": {
  "kernelspec": {
   "display_name": "Python 3 (ipykernel)",
   "language": "python",
   "name": "python3"
  },
  "language_info": {
   "codemirror_mode": {
    "name": "ipython",
    "version": 3
   },
   "file_extension": ".py",
   "mimetype": "text/x-python",
   "name": "python",
   "nbconvert_exporter": "python",
   "pygments_lexer": "ipython3",
   "version": "3.10.8"
  }
 },
 "nbformat": 4,
 "nbformat_minor": 5
}
