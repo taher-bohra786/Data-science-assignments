{
 "cells": [
  {
   "cell_type": "markdown",
   "metadata": {},
   "source": [
    "**Q1:** Load the dataset using Pandas and check for missing values with `df.isnull().sum()`. Use `df.describe()` to get summary statistics. Visualize distributions using histograms and boxplots to detect skewness or outliers. A correlation heatmap can help identify relationships between features (e.g., high glucose levels likely correlate with diabetes).  \n",
    "\n",
    "**Q2:** Handle missing values by imputing with the median or mean, or by removing them if necessary. Identify outliers using Z-scores or boxplots and decide whether to remove or cap them. Since all features are numerical, no categorical encoding is needed. Scaling features like glucose and BMI may improve model performance.  \n",
    "\n",
    "**Q3:** Split the dataset into training (80%) and testing (20%) using `train_test_split(df, test_size=0.2, random_state=42)`. Using a fixed random seed ensures reproducibility, so results remain consistent across runs.  \n",
    "\n",
    "**Q4:** Train a decision tree using `DecisionTreeClassifier` from scikit-learn. Use `GridSearchCV` or `RandomizedSearchCV` to tune hyperparameters like `max_depth`, `min_samples_split`, and `criterion` (Gini or entropy). Cross-validation helps avoid overfitting by ensuring the model generalizes well to unseen data.  \n",
    "\n",
    "**Q5:** Evaluate the model using accuracy, precision, recall, and F1-score. A confusion matrix helps visualize correct and incorrect predictions, while an ROC curve shows the trade-off between sensitivity and specificity. Precision is important if false positives should be minimized (e.g., misdiagnosing a healthy person), while recall is key if false negatives are critical (e.g., missing a diabetic patient).  \n",
    "\n",
    "**Q6:** Interpret the decision tree by analyzing feature importance and split thresholds. Features like glucose, BMI, and age are likely to be the most influential. Check how the tree segments the data and identify patterns (e.g., \"If glucose > 150, then high chance of diabetes\"). Use medical knowledge to validate these insights.  \n",
    "\n",
    "**Q7:** Test the model’s robustness by applying it to slightly modified or unseen data. Conduct sensitivity analysis by tweaking feature values slightly to see if predictions remain stable. Scenario testing helps evaluate how the model performs under different conditions (e.g., testing on younger vs. older patients). This ensures reliability before deploying the model in real-world healthcare applications."
   ]
  }
 ],
 "metadata": {
  "language_info": {
   "name": "python"
  }
 },
 "nbformat": 4,
 "nbformat_minor": 2
}
