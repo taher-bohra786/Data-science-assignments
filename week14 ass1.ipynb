{
 "cells": [
  {
   "cell_type": "markdown",
   "metadata": {},
   "source": [
    "1."
   ]
  },
  {
   "cell_type": "markdown",
   "metadata": {},
   "source": [
    "The Wine Quality Dataset contains physicochemical attributes like fixed acidity, volatile acidity, citric acid, residual sugar, chlorides, free sulfur dioxide, total sulfur dioxide, density, pH, sulphates, and alcohol, along with a quality score (0–10).\n",
    "\n",
    "Key Features & Importance:\n",
    "\n",
    "Alcohol: Strongest positive correlation with quality.\n",
    "\n",
    "Volatile Acidity: High levels negatively impact quality.\n",
    "\n",
    "Sulphates: Enhances wine preservation and taste.\n",
    "\n",
    "Citric Acid: Adds freshness to wine.\n",
    "\n",
    "Total Sulfur Dioxide: Preserves wine but excessive amounts degrade quality.\n"
   ]
  },
  {
   "cell_type": "markdown",
   "metadata": {},
   "source": [
    "2."
   ]
  },
  {
   "cell_type": "markdown",
   "metadata": {},
   "source": [
    "Handling Missing Data:\n",
    "\n",
    "Mean/Median Imputation: Simple but may distort data distribution.\n",
    "\n",
    "Mode Imputation: Good for categorical data but ineffective for continuous variables.\n",
    "\n",
    "KNN Imputation: Uses similar data points but computationally expensive.\n",
    "\n",
    "Dropping Missing Values: Works if missing data is minimal but reduces dataset size.\n"
   ]
  },
  {
   "cell_type": "markdown",
   "metadata": {},
   "source": [
    "3."
   ]
  },
  {
   "cell_type": "markdown",
   "metadata": {},
   "source": [
    "Key Factors Affecting Student Performance:\n",
    "\n",
    "Study Hours, Attendance, Socioeconomic Status, Parental Education, Sleep Patterns, Mental Health\n",
    "\n",
    "Statistical Techniques:\n",
    "\n",
    "Correlation Analysis: Identifies relationships between variables.\n",
    "\n",
    "ANOVA/T-tests: Compares performance across different groups.\n",
    "\n",
    "Regression Analysis: Predicts exam scores based on independent variables.\n"
   ]
  },
  {
   "cell_type": "markdown",
   "metadata": {},
   "source": [
    "4."
   ]
  },
  {
   "cell_type": "markdown",
   "metadata": {},
   "source": [
    "Feature Engineering for Student Performance Data:\n",
    "\n",
    "Feature Selection: Drop redundant features (e.g., ID).\n",
    "\n",
    "Transformation: Convert categorical data (e.g., gender, parental education) into numerical form using one-hot encoding.\n",
    "\n",
    "Scaling: Normalize numerical variables for consistency.\n",
    "\n",
    "Interaction Features: Create new features like study hours × parental education level.\n"
   ]
  },
  {
   "cell_type": "markdown",
   "metadata": {},
   "source": [
    "5.\n"
   ]
  },
  {
   "cell_type": "markdown",
   "metadata": {},
   "source": [
    "EDA on Wine Quality Dataset:\n",
    "\n",
    "Distribution Analysis:\n",
    "\n",
    "Non-Normal Features: Volatile Acidity, Residual Sugar, Sulphates, Chlorides.\n",
    "\n",
    "Transformations for Normality:\n",
    "\n",
    "Log Transform: Residual Sugar, Sulphates.\n",
    "\n",
    "Box-Cox Transform: Chlorides.\n",
    "\n",
    "Standardization: All numeric features."
   ]
  },
  {
   "cell_type": "markdown",
   "metadata": {},
   "source": [
    "6."
   ]
  },
  {
   "cell_type": "markdown",
   "metadata": {},
   "source": [
    "PCA on Wine Quality Dataset:\n",
    "\n",
    "Explained Variance Analysis:\n",
    "\n",
    "Minimum PCs for 90% variance: Usually 5–7 principal components.\n",
    "\n",
    "Steps: Standardize → Compute Covariance Matrix → Eigen Decomposition → Select Top PCs."
   ]
  },
  {
   "cell_type": "markdown",
   "metadata": {},
   "source": []
  }
 ],
 "metadata": {
  "language_info": {
   "name": "python"
  }
 },
 "nbformat": 4,
 "nbformat_minor": 2
}
