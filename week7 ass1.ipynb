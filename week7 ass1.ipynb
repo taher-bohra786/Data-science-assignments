{
 "cells": [
  {
   "cell_type": "markdown",
   "id": "5fab008e-943c-4d19-ba40-b1b1ee75907c",
   "metadata": {},
   "source": [
    "1."
   ]
  },
  {
   "cell_type": "markdown",
   "id": "f36c250b-6966-47b8-a8d9-a3bd972d2c70",
   "metadata": {},
   "source": [
    "Web scraping, also known as web data extraction, is the process of automatically extracting information from websites. This process involves fetching web pages and extracting specific data from them."
   ]
  },
  {
   "cell_type": "markdown",
   "id": "991a6ffb-1048-4593-a42d-23f980a9e70f",
   "metadata": {},
   "source": [
    "Web scraping is used for several reasons, some of the reasons are "
   ]
  },
  {
   "cell_type": "markdown",
   "id": "4d93d4bf-e321-45d2-a3da-cdc1774bf36a",
   "metadata": {},
   "source": [
    "i) Extract Specific Information: Users can target and extract specific pieces of information from web pages, such as prices, product details, and contact information."
   ]
  },
  {
   "cell_type": "markdown",
   "id": "4c672842-654b-4a96-83be-ff2b29fc20e4",
   "metadata": {},
   "source": [
    "ii) Monitor Changes: Web scraping can be used to monitor changes on websites, such as price fluctuations, stock availability, and updates to web content."
   ]
  },
  {
   "cell_type": "markdown",
   "id": "a381bd5e-7280-4624-89b0-bc5469c4eac4",
   "metadata": {},
   "source": [
    "iii) Integrate Data: The extracted data can be integrated into databases, applications, or used for further analysis, providing valuable insights for businesses and researchers."
   ]
  },
  {
   "cell_type": "markdown",
   "id": "6562da02-d798-46e2-99f6-adc8ddcebd47",
   "metadata": {},
   "source": [
    "Areas Where Web Scraping is Used ->"
   ]
  },
  {
   "cell_type": "markdown",
   "id": "4f22f990-5397-40fe-a113-85c310518d70",
   "metadata": {},
   "source": [
    "E-commerce and Retail , Market research  Real state."
   ]
  },
  {
   "cell_type": "markdown",
   "id": "bb737274-501d-4a04-9963-972740cc16e2",
   "metadata": {},
   "source": [
    "2."
   ]
  },
  {
   "cell_type": "markdown",
   "id": "8a3f6d32-5033-4df9-a505-e904fac1e232",
   "metadata": {},
   "source": [
    "Methods used for web scrapping are "
   ]
  },
  {
   "cell_type": "markdown",
   "id": "02810f9b-62e8-473a-b65f-0aad6e915986",
   "metadata": {},
   "source": [
    "Manual copy pasting ,\n",
    "html parsing ,\n",
    "DOM parsing .\n"
   ]
  },
  {
   "cell_type": "markdown",
   "id": "d3bd40d5-fedd-4734-b257-b4b0a4f88e56",
   "metadata": {},
   "source": [
    "3."
   ]
  },
  {
   "cell_type": "markdown",
   "id": "d6ed5d8a-253d-431b-956e-bba6a57d0ad5",
   "metadata": {},
   "source": [
    "Beautiful Soup is a popular Python library used for web scraping purposes to pull data out of HTML and XML files. It creates parse trees from page source codes that can be used to extract data easily."
   ]
  },
  {
   "cell_type": "markdown",
   "id": "f098be1e-7bda-4439-a200-7dae0d626d60",
   "metadata": {},
   "source": [
    "The uses of Beautiful Soup is -"
   ]
  },
  {
   "cell_type": "markdown",
   "id": "4bd93f26-32a1-49f8-b294-f59ffd84cf8f",
   "metadata": {},
   "source": [
    "parsing html and xml documents "
   ]
  },
  {
   "cell_type": "markdown",
   "id": "36cbd570-e510-4e2a-a029-e6b142eefa4a",
   "metadata": {},
   "source": [
    "Integration with other libraries"
   ]
  },
  {
   "cell_type": "markdown",
   "id": "b0374dab-e08b-40d2-bb6a-dac6f30b3c8c",
   "metadata": {},
   "source": [
    "Handling of imperfect html"
   ]
  },
  {
   "cell_type": "markdown",
   "id": "0a6e669b-a832-4ca3-9db5-11d1226e81a1",
   "metadata": {},
   "source": [
    "4."
   ]
  },
  {
   "cell_type": "markdown",
   "id": "5db79f83-508b-4797-860b-8fa7ebcbf342",
   "metadata": {},
   "source": [
    "Reasons of using flask in web scrapping project are -"
   ]
  },
  {
   "cell_type": "markdown",
   "id": "7fd668ee-9e45-4b1a-965d-161882bf3bd2",
   "metadata": {},
   "source": [
    "Creating a web interface "
   ]
  },
  {
   "cell_type": "markdown",
   "id": "af18ef00-3489-4fbc-92e2-5e51278663f5",
   "metadata": {},
   "source": [
    "API development "
   ]
  },
  {
   "cell_type": "markdown",
   "id": "6781e6a4-db2b-4f77-b569-11d7ee037838",
   "metadata": {},
   "source": [
    "visualization of data"
   ]
  },
  {
   "cell_type": "markdown",
   "id": "e3aa9cca-aec9-4754-b5a8-f2e6e7296448",
   "metadata": {},
   "source": [
    "Handling user input"
   ]
  },
  {
   "cell_type": "markdown",
   "id": "0c663e40-002e-4396-b5a4-a171d73ad195",
   "metadata": {},
   "source": [
    "5."
   ]
  },
  {
   "cell_type": "markdown",
   "id": "47904c14-7002-4ec5-8334-6c1dc7b931f2",
   "metadata": {},
   "source": [
    "Names of AWS services"
   ]
  },
  {
   "cell_type": "markdown",
   "id": "9efcd3a0-a5e1-4103-a6b3-fdfbbc368edf",
   "metadata": {},
   "source": [
    " i) Amazon EC2 (Elastic Compute Cloud): Provides scalable virtual servers for running the web scraping scripts and the Flask web application. EC2 instances can be configured to handle varying workloads, and auto-scaling can be used to adjust capacity as needed."
   ]
  },
  {
   "cell_type": "markdown",
   "id": "8971f863-9c95-4a93-98aa-d0e68ae14ad5",
   "metadata": {},
   "source": [
    "ii) Amazon S3 (Simple Storage Service): Used for storing the scraped data, logs, and any static files needed by the Flask application. S3 offers durable and scalable storage."
   ]
  },
  {
   "cell_type": "markdown",
   "id": "d3ceb27b-0c5d-4172-a3ac-8e8871e3f6ea",
   "metadata": {},
   "source": [
    "iii) AWS lambda : Enables running code without provisioning or managing servers. Lambda can be used to execute scraping tasks in response to events or on a schedule."
   ]
  },
  {
   "cell_type": "markdown",
   "id": "350fc164-c659-4636-aa52-fd430373d405",
   "metadata": {},
   "source": [
    "iv) Amazon API Gateway : Facilitates the creation, deployment, and management of APIs. It can be used to expose the web scraping functionality as RESTful APIs."
   ]
  },
  {
   "cell_type": "markdown",
   "id": "28d52c3c-4b72-487b-bd35-218cf328738f",
   "metadata": {},
   "source": [
    "v) AWS Cloudwatch : Provides monitoring and logging for AWS resources and applications. CloudWatch can be used to track the performance of the EC2 instances, Lambda functions, and other resources."
   ]
  },
  {
   "cell_type": "code",
   "execution_count": null,
   "id": "5baa67d5-98e0-4784-9fdc-5b0626da7435",
   "metadata": {},
   "outputs": [],
   "source": []
  }
 ],
 "metadata": {
  "kernelspec": {
   "display_name": "Python 3 (ipykernel)",
   "language": "python",
   "name": "python3"
  },
  "language_info": {
   "codemirror_mode": {
    "name": "ipython",
    "version": 3
   },
   "file_extension": ".py",
   "mimetype": "text/x-python",
   "name": "python",
   "nbconvert_exporter": "python",
   "pygments_lexer": "ipython3",
   "version": "3.10.8"
  }
 },
 "nbformat": 4,
 "nbformat_minor": 5
}
