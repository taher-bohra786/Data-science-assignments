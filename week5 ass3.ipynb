{
 "cells": [
  {
   "cell_type": "markdown",
   "id": "264eb7f7-6e6f-48fe-b44c-249ed4ab1d59",
   "metadata": {},
   "source": [
    "1."
   ]
  },
  {
   "cell_type": "markdown",
   "id": "bb628e26-d679-4c21-82b4-58ba8055099b",
   "metadata": {},
   "source": [
    "Multithreading in Python refers to the concurrent execution of multiple threads within a single process. A thread is a lightweight sub-process that shares the same memory space as the main process, allowing it to run tasks concurrently.\n",
    "Multithreading is used to improve the overall efficiency of a program by allowing it to perform multiple tasks concurrently. This is particularly beneficial for applications that spend a lot of time waiting for I/O operations to complete, as threads can switch between tasks while waiting for I/O, thus making better use of available resources.\n",
    "\n",
    "In Python, the `threading` module is used to handle threads. It provides a high-level interface for creating, managing, and synchronizing threads. This module abstracts the lower-level details of thread management and provides methods for creating new threads, synchronizing their execution, and handling thread-specific data."
   ]
  },
  {
   "cell_type": "markdown",
   "id": "27a2196e-2f01-48db-8a2c-a2bf5008378e",
   "metadata": {},
   "source": [
    "2."
   ]
  },
  {
   "cell_type": "markdown",
   "id": "af85aa9e-e8b1-4407-92a5-945db973c3a1",
   "metadata": {},
   "source": [
    "The threading module in Python is used for creating, managing, and synchronizing threads within a single process. It provides a higher-level interface for working with threads compared to the lower-level thread module. Here's how some of the functions you mentioned are used:"
   ]
  },
  {
   "cell_type": "markdown",
   "id": "705c71f1-486d-4b8d-beec-dd27982edd6d",
   "metadata": {},
   "source": [
    "activeCount():-\n",
    "The activeCount() function returns the number of Thread objects currently alive. A Thread object represents a single thread of execution. This function is useful to track how many threads are currently running or active in your program. It can help you monitor the concurrency of your application.\n",
    "\n",
    "Example:"
   ]
  },
  {
   "cell_type": "code",
   "execution_count": 5,
   "id": "994b665c-042d-4a8f-b666-70e6fefa47ac",
   "metadata": {},
   "outputs": [
    {
     "name": "stdout",
     "output_type": "stream",
     "text": [
      "Thread is running\n",
      "Thread is running\n",
      "Active threads: 8\n"
     ]
    },
    {
     "name": "stderr",
     "output_type": "stream",
     "text": [
      "/tmp/ipykernel_1237/3003067612.py:12: DeprecationWarning: activeCount() is deprecated, use active_count() instead\n",
      "  print(\"Active threads:\", threading.activeCount())\n"
     ]
    }
   ],
   "source": [
    "import threading\n",
    "\n",
    "def my_thread_function():\n",
    "    print(\"Thread is running\")\n",
    "\n",
    "thread1 = threading.Thread(target=my_thread_function)\n",
    "thread2 = threading.Thread(target=my_thread_function)\n",
    "\n",
    "thread1.start()\n",
    "thread2.start()\n",
    "\n",
    "print(\"Active threads:\", threading.activeCount())\n"
   ]
  },
  {
   "cell_type": "markdown",
   "id": "b31d14f3-3248-4207-a29a-8e273c1e4202",
   "metadata": {},
   "source": [
    "currentThread():\n",
    "The currentThread() function returns the Thread object representing the current thread of execution. You can use this function to get information about the currently executing thread, such as its name or other attributes.\n",
    "\n",
    "Example:"
   ]
  },
  {
   "cell_type": "code",
   "execution_count": 3,
   "id": "1e529571-b24f-4289-bfa1-4d9d9957af20",
   "metadata": {},
   "outputs": [
    {
     "name": "stdout",
     "output_type": "stream",
     "text": [
      "Current thread name: Thread-7 (my_thread_function)\n"
     ]
    },
    {
     "name": "stderr",
     "output_type": "stream",
     "text": [
      "/tmp/ipykernel_84/3667275073.py:4: DeprecationWarning: currentThread() is deprecated, use current_thread() instead\n",
      "  current_thread = threading.currentThread()\n"
     ]
    }
   ],
   "source": [
    "import threading\n",
    "\n",
    "def my_thread_function():\n",
    "    current_thread = threading.currentThread()\n",
    "    print(\"Current thread name:\", current_thread.name)\n",
    "\n",
    "thread = threading.Thread(target=my_thread_function)\n",
    "thread.start()\n"
   ]
  },
  {
   "cell_type": "markdown",
   "id": "55fe4946-fd62-4709-814f-41f19f7a2b1d",
   "metadata": {},
   "source": [
    "enumerate():\n",
    "The enumerate() function returns a list of all currently alive Thread objects. Each Thread object represents an active thread of execution. This function is useful when you want to iterate through all the threads that are currently running.\n",
    "\n",
    "Example:"
   ]
  },
  {
   "cell_type": "code",
   "execution_count": 1,
   "id": "e006c409-859f-429a-a9ee-60f3bd52b172",
   "metadata": {},
   "outputs": [
    {
     "name": "stdout",
     "output_type": "stream",
     "text": [
      "All threads:\n",
      "MainThread\n",
      "IOPub\n",
      "Heartbeat\n",
      "Thread-3 (_watch_pipe_fd)\n",
      "Thread-4 (_watch_pipe_fd)\n",
      "Control\n",
      "IPythonHistorySavingThread\n",
      "Thread-2\n"
     ]
    }
   ],
   "source": [
    "import threading\n",
    "\n",
    "def my_thread_function():\n",
    "    pass\n",
    "\n",
    "thread1 = threading.Thread(target=my_thread_function)\n",
    "thread2 = threading.Thread(target=my_thread_function)\n",
    "\n",
    "thread1.start()\n",
    "thread2.start()\n",
    "\n",
    "all_threads = threading.enumerate()\n",
    "print(\"All threads:\")\n",
    "for thread in all_threads:\n",
    "    print(thread.name)\n"
   ]
  },
  {
   "cell_type": "markdown",
   "id": "4c4fd4ee-4981-4863-b916-8da2d054b193",
   "metadata": {},
   "source": [
    "3."
   ]
  },
  {
   "cell_type": "markdown",
   "id": "39d5e2cd-ca7a-4948-8b71-a05261b82fce",
   "metadata": {},
   "source": [
    "run():\n",
    "The run() method is the entry point for the thread's activity. It is called when you start the thread using the start() method. You should override this method in a subclass of the Thread class to define the behavior of the thread. The code within the run() method defines the task that the thread will execute when it's started.\n",
    "\n",
    "Example:"
   ]
  },
  {
   "cell_type": "code",
   "execution_count": 4,
   "id": "90eccd10-78a4-4ae6-98eb-dfa78ac747ae",
   "metadata": {},
   "outputs": [
    {
     "name": "stdout",
     "output_type": "stream",
     "text": [
      "Thread is running\n"
     ]
    }
   ],
   "source": [
    "import threading\n",
    "\n",
    "class MyThread(threading.Thread):\n",
    "    def run(self):\n",
    "        print(\"Thread is running\")\n",
    "\n",
    "thread = MyThread()\n",
    "thread.start()"
   ]
  },
  {
   "cell_type": "markdown",
   "id": "a2c8c14f-c62c-4bd0-b3e6-38cbcd3c0d43",
   "metadata": {},
   "source": [
    "start():\n",
    "The start() method is used to start the execution of a thread by invoking its run() method. When you call start(), the thread is added to the list of active threads, and the run() method is executed concurrently in a separate thread. Calling start() multiple times on the same thread object will raise an error.\n",
    "\n",
    "Example:"
   ]
  },
  {
   "cell_type": "code",
   "execution_count": 5,
   "id": "17ffb6ca-c4b2-47d1-921c-85b04d473ead",
   "metadata": {},
   "outputs": [
    {
     "name": "stdout",
     "output_type": "stream",
     "text": [
      "Thread is running\n"
     ]
    }
   ],
   "source": [
    "import threading\n",
    "\n",
    "def my_thread_function():\n",
    "    print(\"Thread is running\")\n",
    "\n",
    "thread = threading.Thread(target=my_thread_function)\n",
    "thread.start()"
   ]
  },
  {
   "cell_type": "markdown",
   "id": "6f1b805a-ec47-47bd-bed2-a9c71d0c74a8",
   "metadata": {},
   "source": [
    "join():\n",
    "The join() method is used to wait for a thread to complete its execution. When you call join() on a thread, the calling thread (usually the main thread) waits until the target thread finishes its execution. This is useful when you want to ensure that certain operations are completed before moving on to the next part of your program.\n",
    "\n",
    "Example:"
   ]
  },
  {
   "cell_type": "code",
   "execution_count": 6,
   "id": "a137f54b-fad1-45bc-820b-3d66e356009a",
   "metadata": {},
   "outputs": [
    {
     "name": "stdout",
     "output_type": "stream",
     "text": [
      "Thread is running\n",
      "Thread has finished\n"
     ]
    }
   ],
   "source": [
    "import threading\n",
    "\n",
    "def my_thread_function():\n",
    "    print(\"Thread is running\")\n",
    "\n",
    "thread = threading.Thread(target=my_thread_function)\n",
    "thread.start()\n",
    "\n",
    "thread.join()  # Wait for the thread to finish\n",
    "print(\"Thread has finished\")"
   ]
  },
  {
   "cell_type": "markdown",
   "id": "eb653994-7a43-47b1-b63d-84d2feb34f46",
   "metadata": {},
   "source": [
    "isAlive():\n",
    "The is_alive() method is used to check whether a thread is currently active and executing. It returns True if the thread is still running, and False otherwise. This can be useful to check the status of a thread before deciding to wait for it using the join() method.\n",
    "\n",
    "Example:"
   ]
  },
  {
   "cell_type": "code",
   "execution_count": 6,
   "id": "a5a069e2-92f1-471e-b6f4-2380bad4e170",
   "metadata": {},
   "outputs": [
    {
     "name": "stdout",
     "output_type": "stream",
     "text": [
      "Waiting for thread to finish...\n",
      "Waiting for thread to finish...\n",
      "Thread is running\n",
      "Thread has finished\n"
     ]
    }
   ],
   "source": [
    "import threading\n",
    "import time\n",
    "\n",
    "def my_thread_function():\n",
    "    time.sleep(2)\n",
    "    print(\"Thread is running\")\n",
    "\n",
    "thread = threading.Thread(target=my_thread_function)\n",
    "thread.start()\n",
    "\n",
    "while thread.is_alive():\n",
    "    print(\"Waiting for thread to finish...\")\n",
    "    time.sleep(1)\n",
    "print(\"Thread has finished\")"
   ]
  },
  {
   "cell_type": "markdown",
   "id": "bccd8ad5-6325-4e86-ab93-7642e7313507",
   "metadata": {},
   "source": [
    "4."
   ]
  },
  {
   "cell_type": "code",
   "execution_count": 8,
   "id": "99c48396-a35d-4bcc-9e22-5a7718a016ec",
   "metadata": {},
   "outputs": [
    {
     "name": "stdout",
     "output_type": "stream",
     "text": [
      "Square of 1: 1\n",
      "Square of 2: 4\n",
      "Square of 3: 9\n",
      "Square of 4: 16\n",
      "Square of 5: 25\n",
      "Cube of 1: 1\n",
      "Cube of 2: 8\n",
      "Cube of 3: 27\n",
      "Cube of 4: 64\n",
      "Cube of 5: 125\n",
      "Both threads have finished\n"
     ]
    }
   ],
   "source": [
    "import threading\n",
    "\n",
    "def print_squares(numbers):\n",
    "    for num in numbers:\n",
    "        print(f\"Square of {num}: {num ** 2}\")\n",
    "\n",
    "def print_cubes(numbers):\n",
    "    for num in numbers:\n",
    "        print(f\"Cube of {num}: {num ** 3}\")\n",
    "\n",
    "numbers = [1, 2, 3, 4, 5]\n",
    "\n",
    "# Create thread objects\n",
    "thread1 = threading.Thread(target=print_squares, args=(numbers,))\n",
    "thread2 = threading.Thread(target=print_cubes, args=(numbers,))\n",
    "\n",
    "# Start the threads\n",
    "thread1.start()\n",
    "thread2.start()\n",
    "\n",
    "# Wait for both threads to finish\n",
    "thread1.join()\n",
    "thread2.join()\n",
    "\n",
    "print(\"Both threads have finished\")"
   ]
  },
  {
   "cell_type": "markdown",
   "id": "f38f09ed-a09b-405d-8c04-9c54554ed953",
   "metadata": {},
   "source": [
    "5."
   ]
  },
  {
   "cell_type": "markdown",
   "id": "550c002e-54fa-4109-ae53-c52afc5062c6",
   "metadata": {},
   "source": [
    "**Advantages of Multithreading:**\n",
    "\n",
    "1. **Concurrency:** Multithreading enables multiple tasks to be executed concurrently, which can lead to improved performance and better utilization of resources, especially in situations where tasks spend a lot of time waiting for I/O operations.\n",
    "\n",
    "2. **Responsiveness:** Multithreading can make applications more responsive to user interactions. For example, in graphical user interfaces, the main thread can handle user input, while background threads handle time-consuming operations.\n",
    "\n",
    "3. **Efficient Resource Sharing:** Threads within the same process share the same memory space, allowing for efficient data sharing and communication between threads. This can lead to reduced memory usage compared to processes.\n",
    "\n",
    "4. **Task Parallelism:** Multithreading is suitable for parallelizing tasks that can be split into smaller independent units of work, such as rendering frames in graphics applications or processing multiple requests in a web server.\n",
    "\n",
    "5. **Simplicity:** Threads are lightweight and can be easier to create and manage compared to processes. They provide a simpler way to achieve concurrent execution in situations where process isolation is not necessary.\n",
    "\n",
    "**Disadvantages of Multithreading:**\n",
    "\n",
    "1. **Complexity:** Multithreading introduces complexity due to issues such as race conditions, deadlocks, and synchronization problems. Debugging and reasoning about multithreaded code can be challenging.\n",
    "\n",
    "2. **Race Conditions:** Race conditions occur when multiple threads access shared data simultaneously and modify it in an unpredictable manner, leading to incorrect behavior. Proper synchronization mechanisms are required to avoid race conditions.\n",
    "\n",
    "3. **Deadlocks:** Deadlocks occur when two or more threads are unable to proceed because each is waiting for a resource held by another. This can lead to a complete program freeze.\n",
    "\n",
    "4. **Synchronization Overhead:** Synchronizing access to shared resources can introduce overhead, as threads might need to wait for locks. This can potentially reduce the performance benefits gained from multithreading.\n",
    "\n",
    "5. **Global Interpreter Lock (GIL):** In certain implementations of Python, like CPython, the Global Interpreter Lock (GIL) restricts true parallel execution of threads within a single process, limiting the benefits of multithreading for CPU-bound tasks."
   ]
  },
  {
   "cell_type": "markdown",
   "id": "db0cf655-0808-4ca2-abfc-c5b96c46379c",
   "metadata": {},
   "source": [
    "6."
   ]
  },
  {
   "cell_type": "markdown",
   "id": "345aa1a7-9588-4d5a-b15b-9943273a8e54",
   "metadata": {},
   "source": [
    "**Deadlocks:**\n",
    "\n",
    "A deadlock is a situation in concurrent programming where two or more threads or processes are unable to proceed because each is waiting for a resource held by another. In other words, it's a state in which multiple threads are blocked and unable to make progress, resulting in a program that appears frozen or stuck. Deadlocks typically occur in systems with multiple threads, processes, or tasks that compete for resources.\n",
    "\n",
    "Deadlocks are characterized by four necessary conditions, known as the \"deadlock conditions\":\n",
    "\n",
    "1. **Mutual Exclusion:** Each resource can be held by only one thread at a time.\n",
    "2. **Hold and Wait:** A thread holding a resource is waiting to acquire another resource held by another thread.\n",
    "3. **No Preemption:** Resources cannot be forcibly taken away from a thread; they can only be released voluntarily.\n",
    "4. **Circular Wait:** There exists a circular chain of two or more threads, where each thread is waiting for a resource held by the next thread in the chain.\n",
    "\n",
    "To avoid deadlocks, it's necessary to ensure that at least one of these conditions is never met. This can involve techniques like proper resource allocation ordering, using timeouts for acquiring resources, and employing deadlock detection and recovery algorithms.\n",
    "\n",
    "**Race Conditions:**\n",
    "\n",
    "A race condition is a scenario in concurrent programming where the final outcome of a program depends on the timing or order of execution of threads. It occurs when two or more threads access shared resources concurrently, and at least one of them modifies the resource. If the threads are not properly synchronized, the behavior of the program becomes unpredictable and incorrect.\n",
    "\n",
    "Race conditions can lead to unexpected results, data corruption, or program crashes. They occur due to the interleaved execution of threads, where the exact sequence of execution determines the final state of the program.\n",
    "\n",
    "Consider a simple example: two threads trying to increment a shared variable. If not properly synchronized, they might read and modify the variable concurrently, causing unpredictable increments or overwriting each other's changes.\n",
    "\n",
    "To prevent race conditions, proper synchronization mechanisms such as locks, semaphores, or mutexes are employed to ensure that only one thread accesses the shared resource at a time. By enforcing mutual exclusion, race conditions can be avoided, and the behavior of the program becomes deterministic and consistent."
   ]
  }
 ],
 "metadata": {
  "kernelspec": {
   "display_name": "Python 3 (ipykernel)",
   "language": "python",
   "name": "python3"
  },
  "language_info": {
   "codemirror_mode": {
    "name": "ipython",
    "version": 3
   },
   "file_extension": ".py",
   "mimetype": "text/x-python",
   "name": "python",
   "nbconvert_exporter": "python",
   "pygments_lexer": "ipython3",
   "version": "3.10.8"
  }
 },
 "nbformat": 4,
 "nbformat_minor": 5
}
