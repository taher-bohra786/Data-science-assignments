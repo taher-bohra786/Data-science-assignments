1. To commend code in python we use # 
There are mainly two types of comments 
i) Single line comment - In this , we use # for single line comment. 
ii) Multiple line comment -  For the multiple line comments, we use ''' or """

2. Variables are user defined which is used to store the different types of values such as integer , string , list , dictionary or set . 
To declare the values in the variable we use assignment operator '=' 
for example =>       a = [1,2,'Taher' , 'pwskills']

3. There are built in function to cnvert the data type like int() , float() , str() , dict().
for example =>   
a=[1,2,3,'five','seven']
b=str(a)
print(b)

4. to execute python script , there are certain steps 
i) Install python 
ii) Write a python code in the notepad and SAVE the file by .py 
iii) Open the command line
iv) Navigate the directory
v) Now you ca run the python script using the 'python' command

5. My_list = [1,2,3,4,5]
sub_lsit = My_list[1:3]
print(sub_list)

output: [2:3]

6. In mathematics, complex numbers are represented as a+bi where a and b are real numbers and i are imaginary unit. 
In python, we represent as a+bj where j is a imaginary unit. 

7. Simple we have to declare as, age =25

8. Price = 9.99
The data type pf price is float , i.e, floating number. 

9. name = "Taher Ali Bohra"
print(name)

10. my_string = "Hello, World!"
print(my_string[7:12])

11. is_student = True
This will remain True if you are an student. 
