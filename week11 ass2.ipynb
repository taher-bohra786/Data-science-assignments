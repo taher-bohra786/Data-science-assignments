{
 "cells": [
  {
   "cell_type": "markdown",
   "metadata": {},
   "source": [
    "**1.**\n"
   ]
  },
  {
   "cell_type": "markdown",
   "metadata": {},
   "source": [
    "## Probability Mass Function (PMF) and Probability Density Function (PDF)\n",
    "\n",
    "- **PMF**: Used for discrete random variables, it gives the probability of each possible value.\n",
    "  Example: Rolling a die..\n",
    "\n",
    "- **PDF**: Used for continuous random variables, it gives the probability density at each value. The area under the curve over an interval gives the probability.\n",
    "  Example: Height distribution\n"
   ]
  },
  {
   "cell_type": "markdown",
   "metadata": {},
   "source": [
    "**2.**"
   ]
  },
  {
   "cell_type": "markdown",
   "metadata": {},
   "source": [
    "The Cumulative Density Function (CDF) gives the probability that a random variable X takes on a value less than or equal to a specific value x. It represents the accumulation of probabilities up to x.\n",
    "\n",
    "Why CDF is Used?\n",
    "\n",
    "1. To calculate probabilities for ranges of values.\n",
    "\n",
    "2. To understand the distribution of data up to a certain point.\n",
    "\n",
    "3. To compare distributions or model cumulative probabilities."
   ]
  },
  {
   "cell_type": "code",
   "execution_count": null,
   "metadata": {},
   "outputs": [],
   "source": [
    "import numpy as np\n",
    "import matplotlib.pyplot as plt\n",
    "from scipy.stats import norm\n",
    "\n",
    "# Generate x values\n",
    "x = np.linspace(-4, 4, 1000)\n",
    "\n",
    "# Calculate CDF for standard normal distribution\n",
    "cdf = norm.cdf(x, loc=0, scale=1)\n",
    "\n",
    "# Plot the CDF\n",
    "plt.plot(x, cdf, label=\"Standard Normal CDF\", color=\"green\")\n",
    "plt.title(\"Cumulative Density Function (CDF)\")\n",
    "plt.xlabel(\"x\")\n",
    "plt.ylabel(\"P(X ≤ x)\")\n",
    "plt.grid()\n",
    "plt.legend()\n",
    "plt.show()"
   ]
  },
  {
   "cell_type": "markdown",
   "metadata": {},
   "source": [
    "**3.**"
   ]
  },
  {
   "cell_type": "markdown",
   "metadata": {},
   "source": [
    "### **Examples of Normal Distribution Usage**:\n",
    "1. **Heights of People**: Heights in a population typically follow a normal distribution.  \n",
    "2. **Test Scores**: Standardized exam scores like SAT or IQ tests.  \n",
    "3. **Measurement Errors**: Errors in scientific experiments often follow a normal distribution.  \n",
    "4. **Stock Market Returns**: Daily returns of stocks or indices.  \n",
    "\n",
    "### **Parameters and Shape**:\n",
    "1. **Mean (\\(μ\\))**: Determines the center of the distribution.  \n",
    "2. **Standard Deviation (\\(σ\\))**: Controls the spread:\n",
    "   - Larger \\(σ\\): Wider and flatter curve.\n",
    "   - Smaller \\(σ\\): Narrower and taller curve.  \n",
    "\n",
    "The normal distribution is symmetrical around \\(μ\\)."
   ]
  },
  {
   "cell_type": "markdown",
   "metadata": {},
   "source": [
    "**4.**"
   ]
  },
  {
   "cell_type": "markdown",
   "metadata": {},
   "source": [
    "### **Importance of Normal Distribution**:\n",
    "1. **Common Occurrence**: Many natural and social phenomena follow a normal distribution (e.g., heights, test scores).  \n",
    "2. **Foundation for Statistical Methods**: Forms the basis for many statistical analyses, such as hypothesis testing and confidence intervals.  \n",
    "3. **Predictability**: Allows probabilities to be calculated for ranges of data using its standard properties.  \n",
    "4. **Central Limit Theorem**: The mean of a large number of independent random variables tends to follow a normal distribution, regardless of the original distribution.\n",
    "\n",
    "---\n",
    "\n",
    "### **Real-Life Examples**:\n",
    "1. **Heights of Individuals**: Human heights in a population are normally distributed.  \n",
    "2. **IQ Scores**: Intelligence scores are typically modeled as a normal distribution with a mean of 100 and standard deviation of 15.  \n",
    "3. **Measurement Errors**: Errors in scientific experiments often follow a normal distribution.  \n",
    "4. **Stock Returns**: Daily or monthly stock market returns approximate a normal distribution.  \n",
    "5. **Blood Pressure**: Distribution of systolic blood pressure in a healthy population."
   ]
  },
  {
   "cell_type": "markdown",
   "metadata": {},
   "source": [
    "**5.**"
   ]
  },
  {
   "cell_type": "markdown",
   "metadata": {},
   "source": [
    "### **Bernoulli Distribution**:\n",
    "The **Bernoulli distribution** represents the probability distribution of a single trial with two possible outcomes: success (\\(1\\)) or failure (\\(0\\)).\n",
    "\n",
    "- **Parameter**: \\(p\\), the probability of success (where \\(0 ≤ p ≤ 1\\)).  \n",
    "- **Mean**: \\(p\\).  \n",
    "- **Variance**: \\(p(1-p)\\).\n",
    "\n",
    "---\n",
    "\n",
    "### **Example**:\n",
    "Flipping a coin:\n",
    "- Success (\\(1\\)): Heads, with \\(p = 0.5\\).  \n",
    "- Failure (\\(0\\)): Tails, with \\(1-p = 0.5\\).\n",
    "\n",
    "---\n",
    "\n",
    "### **Difference Between Bernoulli and Binomial Distributions**:\n",
    "1. **Bernoulli Distribution**:  \n",
    "   - Deals with a single trial.  \n",
    "   - Example: Flipping a coin once.  \n",
    "\n",
    "2. **Binomial Distribution**:  \n",
    "   - Deals with multiple independent trials (\\(n\\)) of a Bernoulli process.  \n",
    "   - Example: Flipping a coin 10 times and counting the number of heads.  \n",
    "   - Parameters: \\(n\\) (number of trials) and \\(p\\) (probability of success).  "
   ]
  },
  {
   "cell_type": "markdown",
   "metadata": {},
   "source": [
    "**6.**"
   ]
  },
  {
   "cell_type": "markdown",
   "metadata": {},
   "source": [
    "### Problem Statement\n",
    "Given:\n",
    "- Mean (μ) = 50  \n",
    "- Standard Deviation (\\(σ\\)) = 10  \n",
    "- Observation: \\(X > 60\\)\n",
    "\n",
    "We need to calculate \\(P(X > 60)\\) assuming a normal distribution.\n",
    "\n",
    "### Steps:\n",
    "1. **Standardize the Observation**:  \n",
    "   Use the formula:  \n",
    "   \\[\n",
    "   Z = \\frac{X - μ}{σ}\n",
    "   \\]  \n",
    "   Substituting \\(X = 60, μ = 50, σ = 10\\):  \n",
    "   \\[\n",
    "   Z = \\frac{60 - 50}{10} = 1\n",
    "   \\]\n",
    "\n",
    "2. **Find \\(P(Z > 1)\\)**:  \n",
    "   Using the standard normal distribution:  \n",
    "   \\[\n",
    "   P(Z > 1) = 1 - P(Z ≤ 1)\n",
    "   \\]  \n",
    "   From the Z-table or calculator:  \n",
    "   \\[\n",
    "   P(Z ≤  1) = 0.8413\n",
    "   \\]  \n",
    "   Therefore:  \n",
    "   \\[\n",
    "   P(Z > 1) = 1 - 0.8413 = 0.1587\n",
    "   \\]\n",
    "\n",
    "3. **Final Answer**:  \n",
    "   The probability \\(P(X > 60)\\) is approximately **0.1587** (15.87%).\n"
   ]
  },
  {
   "cell_type": "code",
   "execution_count": null,
   "metadata": {},
   "outputs": [],
   "source": [
    "from scipy.stats import norm\n",
    "\n",
    "# Given data\n",
    "mean = 50\n",
    "std_dev = 10\n",
    "x = 60\n",
    "\n",
    "# Calculate Z-score\n",
    "z_score = (x - mean) / std_dev\n",
    "\n",
    "# Calculate P(X > 60)\n",
    "probability = 1 - norm.cdf(z_score)\n",
    "\n",
    "print(f\"The probability that X > 60 is approximately {probability:.4f}\")\n"
   ]
  },
  {
   "cell_type": "markdown",
   "metadata": {},
   "source": [
    "**7.**"
   ]
  },
  {
   "cell_type": "markdown",
   "metadata": {},
   "source": [
    "### **Uniform Distribution**:\n",
    "A **uniform distribution** is a probability distribution where all outcomes are equally likely.\n",
    "\n",
    "- **Continuous Uniform Distribution**: The probability density function (PDF) is constant between two values \\(a\\) and \\(b\\), and the probability of any value within this range is the same.\n",
    "  - **Formula**: \\( f(x) = \\frac{1}{b - a} \\) for \\( a ≤  x ≤  b \\)\n",
    "  - **Example**: The height of a person selected randomly from a group with heights between 150 cm and 200 cm.\n",
    "\n",
    "- **Discrete Uniform Distribution**: Each outcome in a set of discrete values is equally likely.\n",
    "  - **Example**: Rolling a fair die, where each number (1–6) has a probability of \\(\\frac{1}{6}\\).\n",
    "\n"
   ]
  },
  {
   "cell_type": "markdown",
   "metadata": {},
   "source": [
    "**8.**"
   ]
  },
  {
   "cell_type": "markdown",
   "metadata": {},
   "source": [
    "### **Z-Score**:\n",
    "The **z-score** (also called the **standard score**) indicates how many standard deviations a particular data point is from the mean of a dataset. It is calculated using the formula:\n",
    "\n",
    "\\[\n",
    "z = \\frac{X - μ}{σ}\n",
    "\\]\n",
    "\n",
    "Where:  \n",
    "- \\(X) is the data point.  \n",
    "- \\(μ) is the mean of the dataset.  \n",
    "- \\(σ) is the standard deviation of the dataset.\n",
    "\n",
    "### **Importance of Z-Score**:\n",
    "1. **Standardization**: Converts data from different distributions into a standard scale, allowing comparison between datasets with different units.\n",
    "2. **Identify Outliers**: A z-score greater than 3 or less than -3 typically indicates that the data point is an outlier.\n",
    "3. **Probability Calculation**: Used in normal distributions to find probabilities and determine how likely a certain value is to occur.\n",
    "4. **Normalization**: Helps in transforming data so that it follows a standard normal distribution (\\(N(0, 1)\\)).\n",
    "\n"
   ]
  },
  {
   "cell_type": "markdown",
   "metadata": {},
   "source": [
    "**9.**"
   ]
  },
  {
   "cell_type": "markdown",
   "metadata": {},
   "source": [
    "### **Central Limit Theorem (CLT)**:\n",
    "The **Central Limit Theorem** states that the distribution of the sample mean will approach a **normal distribution** as the sample size increases, regardless of the shape of the population distribution, provided the samples are independent and identically distributed (i.i.d.). This holds true even for populations that are not normally distributed.\n",
    "\n",
    "- **Key Points**:\n",
    "  - For a large enough sample size \\(n\\), the sampling distribution of the sample mean will be approximately normal.\n",
    "  - The mean of the sampling distribution will be equal to the population mean \\(μ\\).\n",
    "  - The standard deviation of the sampling distribution (called the **standard error**) is \\(\\frac{σ}{\\sqrt{n}}\\), where \\(σ\\) is the population standard deviation.\n",
    "\n",
    "### **Significance of CLT**:\n",
    "1. **Approximation to Normality**: CLT allows us to apply normal distribution techniques (e.g., z-scores, confidence intervals) even if the underlying data is not normally distributed.\n",
    "2. **Basis for Statistical Inference**: Many statistical methods, such as hypothesis testing and confidence intervals, rely on the assumption that sample means are normally distributed.\n",
    "3. **Improved Accuracy with Larger Sample Sizes**: As the sample size increases, the sample mean becomes a more accurate estimate of the population mean.\n",
    "\n"
   ]
  },
  {
   "cell_type": "markdown",
   "metadata": {},
   "source": [
    "**10.**"
   ]
  },
  {
   "cell_type": "markdown",
   "metadata": {},
   "source": [
    "### **Assumptions of the Central Limit Theorem**:\n",
    "1. **Independence**: The samples must be independent of each other.\n",
    "2. **Identical Distribution**: The samples should be drawn from the same population or have the same distribution.\n",
    "3. **Sample Size**: The sample size should be sufficiently large (typically \\(n ≥ 30\\)) for the sample mean to approximate a normal distribution.\n",
    "4. **Finite Variance**: The population should have finite variance."
   ]
  }
 ],
 "metadata": {
  "kernelspec": {
   "display_name": "Python 3",
   "language": "python",
   "name": "python3"
  },
  "language_info": {
   "codemirror_mode": {
    "name": "ipython",
    "version": 3
   },
   "file_extension": ".py",
   "mimetype": "text/x-python",
   "name": "python",
   "nbconvert_exporter": "python",
   "pygments_lexer": "ipython3",
   "version": "3.11.9"
  }
 },
 "nbformat": 4,
 "nbformat_minor": 2
}
