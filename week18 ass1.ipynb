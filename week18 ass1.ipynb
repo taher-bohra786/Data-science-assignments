{
 "cells": [
  {
   "cell_type": "markdown",
   "metadata": {},
   "source": [
    " \n",
    "**Q1.**  \n",
    "A supervised learning algorithm that classifies or predicts based on the **K nearest neighbors** using distance metrics.  \n",
    "\n",
    "**Q2.**  \n",
    "Use **cross-validation**; small K leads to overfitting, large K to underfitting. A good rule of thumb is **K ≈ sqrt(N)**.  \n",
    "\n",
    "**Q3.**  \n",
    "- **Classifier**: Predicts categorical labels using majority voting.  \n",
    "- **Regressor**: Predicts continuous values using the average of neighbors.  \n",
    "\n",
    "**Q4.**  \n",
    "- **Classification**: Accuracy, Precision, Recall, F1-score.  \n",
    "- **Regression**: MSE, MAE, R² Score.  \n",
    "\n",
    "**Q5.**  \n",
    "In high-dimensional data, distances become less meaningful, making KNN less effective. Use **PCA or feature selection** to reduce dimensions.  \n",
    "\n",
    "**Q6.**  \n",
    "Use **mean/median imputation, KNN-based imputation, or remove rows/features with missing values**.  \n",
    "\n",
    "**Q7.**  \n",
    "- **KNN classifier** is better for categorical problems like spam detection.  \n",
    "- **KNN regressor** is better for continuous problems like house price prediction but is sensitive to outliers.  \n",
    "\n",
    "**Q8.**  \n",
    "- **Strengths**: Simple, non-parametric, works well with small datasets.  \n",
    "- **Weaknesses**: Slow for large datasets, sensitive to irrelevant features, affected by high dimensions. **Solution**: Use KD-Trees, scaling, and dimensionality reduction.  \n",
    "\n",
    "**Q9.**  \n",
    "- **Euclidean**: Measures straight-line distance, best for continuous data.  \n",
    "- **Manhattan**: Measures grid-based distance, better for high-dimensional data.  \n",
    "\n",
    "**Q10.**  \n",
    "Prevents features with larger scales from dominating distance calculations. Use **Min-Max Scaling or Standardization**.  \n"
   ]
  }
 ],
 "metadata": {
  "language_info": {
   "name": "python"
  }
 },
 "nbformat": 4,
 "nbformat_minor": 2
}
