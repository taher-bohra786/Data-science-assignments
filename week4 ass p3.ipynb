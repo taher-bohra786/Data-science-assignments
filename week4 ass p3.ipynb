{
 "cells": [
  {
   "cell_type": "markdown",
   "id": "16521d42-adb7-41e9-b39b-8a4c1ab4d3a3",
   "metadata": {},
   "source": [
    "(1) Abstraction is one of the fundamental concepts in Object-Oriented Programming (OOP). It involves hiding complex implementation details and showing only the necessary features of an object. This allows you to focus on what an object does rather than how it does it. Abstraction helps in creating a clear separation between the interface (what the object does) and the implementation (how it does it)."
   ]
  },
  {
   "cell_type": "code",
   "execution_count": 1,
   "id": "c57977a8-1d3a-4d0b-9c02-a2837cc57f6e",
   "metadata": {},
   "outputs": [],
   "source": [
    "import abc"
   ]
  },
  {
   "cell_type": "code",
   "execution_count": 2,
   "id": "4bfc8932-ff03-4776-bdde-641f2e72ac41",
   "metadata": {},
   "outputs": [],
   "source": [
    "class pune:\n",
    "    @abc.abstractmethod\n",
    "    def pune_place1(self):\n",
    "        pass\n",
    "    \n",
    "    @abc.abstractmethod\n",
    "    def pune_place2(self):\n",
    "        pass\n",
    "    \n",
    "    @abc.abstractmethod\n",
    "    def pune_place3(self):\n",
    "        pass"
   ]
  },
  {
   "cell_type": "code",
   "execution_count": 3,
   "id": "4cefe394-a2e6-430b-9491-4e19f22d9a1c",
   "metadata": {},
   "outputs": [],
   "source": [
    "class under_pune(pune):\n",
    "    def pune_place1(self):\n",
    "        return \"Kausar Bagh\"\n",
    "    \n",
    "    def pune_place2(self):\n",
    "        return \"Katraj\""
   ]
  },
  {
   "cell_type": "code",
   "execution_count": 4,
   "id": "ed19a590-a906-469b-8707-7e423b45f65a",
   "metadata": {},
   "outputs": [],
   "source": [
    "pw = under_pune()"
   ]
  },
  {
   "cell_type": "code",
   "execution_count": 5,
   "id": "f69d59a7-42bc-4d42-bf7e-f3925dca7522",
   "metadata": {},
   "outputs": [
    {
     "data": {
      "text/plain": [
       "'Katraj'"
      ]
     },
     "execution_count": 5,
     "metadata": {},
     "output_type": "execute_result"
    }
   ],
   "source": [
    "pw.pune_place2()"
   ]
  },
  {
   "cell_type": "code",
   "execution_count": 6,
   "id": "49f4066d-c726-4f08-8124-4d274c93e251",
   "metadata": {},
   "outputs": [
    {
     "data": {
      "text/plain": [
       "'Kausar Bagh'"
      ]
     },
     "execution_count": 6,
     "metadata": {},
     "output_type": "execute_result"
    }
   ],
   "source": [
    "pw.pune_place1()"
   ]
  },
  {
   "cell_type": "markdown",
   "id": "cd0684a6-c66d-4842-860b-7817283a3ad4",
   "metadata": {},
   "source": [
    "(2)Abstraction is the process of hiding complex implementation details and showing only the relevant and necessary features of an object to the outside world where as Encapsulation refers to the bundling of data (attributes) and methods (functions) that operate on that data into a single unit called a class."
   ]
  },
  {
   "cell_type": "code",
   "execution_count": 7,
   "id": "0192d713-f674-4919-8448-050193ca824e",
   "metadata": {},
   "outputs": [
    {
     "name": "stdout",
     "output_type": "stream",
     "text": [
      "Engine started\n",
      "Camry\n"
     ]
    }
   ],
   "source": [
    "class Car:\n",
    "    def __init__(self, make, model):\n",
    "        self.make = make    # Public attribute\n",
    "        self.__model = model  # Private attribute\n",
    "    \n",
    "    def start_engine(self):\n",
    "        print(\"Engine started\")\n",
    "    \n",
    "    def __unlock_doors(self):\n",
    "        print(\"Doors unlocked\")\n",
    "\n",
    "print(my_car._Car__model) \n"
   ]
  },
  {
   "cell_type": "code",
   "execution_count": 10,
   "id": "c5453734-f519-40a4-9fc5-4fa17fc0ebaf",
   "metadata": {},
   "outputs": [
    {
     "name": "stdout",
     "output_type": "stream",
     "text": [
      "Engine started\n"
     ]
    }
   ],
   "source": [
    "my_car.start_engine()"
   ]
  },
  {
   "cell_type": "code",
   "execution_count": 11,
   "id": "daa8f57b-5aad-4889-bb88-4942e3ac3492",
   "metadata": {},
   "outputs": [],
   "source": [
    "my_car = Car(\"Toyota\", \"Camry\")"
   ]
  },
  {
   "cell_type": "code",
   "execution_count": 12,
   "id": "b94c135f-abd7-4233-99f7-8a62bd1fb4c2",
   "metadata": {},
   "outputs": [
    {
     "name": "stdout",
     "output_type": "stream",
     "text": [
      "Camry\n"
     ]
    }
   ],
   "source": [
    "print(my_car._Car__model)"
   ]
  },
  {
   "cell_type": "markdown",
   "id": "3e80c043-fc07-4680-9626-c845e5ba5401",
   "metadata": {},
   "source": [
    "(3) The abc module in Python stands for \"Abstract Base Classes.\" It provides mechanisms for creating abstract classes and defining abstract methods"
   ]
  },
  {
   "cell_type": "markdown",
   "id": "57daf54c-730d-4205-bc75-b0f99b05fd33",
   "metadata": {},
   "source": [
    "It is used for :=\n",
    "i) Defining Abstract Base Classes:\n",
    "   You can use the abc.ABC class as a base class to create your own abstract base classes. By inheriting from abc.ABC, you indicate that        your class is intended to be an abstract base class.\n",
    "\n",
    "ii) Defining Abstract Methods:\n",
    "    You can use the @abstractmethod decorator to mark methods as abstract methods within an abstract base class. Subclasses are then             required   to implement these methods."
   ]
  },
  {
   "cell_type": "markdown",
   "id": "32e66ec0-0127-4121-8f56-8367cafe5fe8",
   "metadata": {},
   "source": [
    "(4)We can achieve Data Abstraction through Encapsulation , Public, Private, and Protected Attributes , Getter and Setter Methods "
   ]
  },
  {
   "cell_type": "markdown",
   "id": "5759b568-36b1-43c6-9294-4a8decd0d2b1",
   "metadata": {},
   "source": [
    "(5) No, you cannot create an instance of an abstract class directly in Python. Abstract classes are meant to serve as blueprints for other classes and provide a common interface for their subclasses. They define abstract methods that must be implemented by their subclasses. Since abstract classes may have incomplete or missing implementations, they cannot be instantiated.\n",
    "\n",
    "In Python, abstract classes are created using the abc module. By inheriting from the ABC class provided by this module and using the @abstractmethod decorator, you can define abstract methods within the abstract class. These methods must be overridden in concrete subclasses."
   ]
  }
 ],
 "metadata": {
  "kernelspec": {
   "display_name": "Python 3 (ipykernel)",
   "language": "python",
   "name": "python3"
  },
  "language_info": {
   "codemirror_mode": {
    "name": "ipython",
    "version": 3
   },
   "file_extension": ".py",
   "mimetype": "text/x-python",
   "name": "python",
   "nbconvert_exporter": "python",
   "pygments_lexer": "ipython3",
   "version": "3.10.8"
  }
 },
 "nbformat": 4,
 "nbformat_minor": 5
}
