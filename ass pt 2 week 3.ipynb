{
 "cells": [
  {
   "cell_type": "markdown",
   "id": "27516ecc-1a02-4d85-9560-e8e2985fae9a",
   "metadata": {},
   "source": [
    "1)sorting = [('Sachin Tendulkar', 34357), ('Ricky Ponting', 27483), ('Jack Kallis', 25534), ('Virat Kohli', 24936)]\n",
    "  a  = sorted(sorting , key = lambda x: x[1])\n",
    "  for i in a:\n",
    "      print(i)\n",
    "      \n",
    " output => ('Virat Kohli', 24936)\n",
    "           ('Jack Kallis', 25534)\n",
    "           ('Ricky Ponting', 27483)\n",
    "           ('Sachin Tendulkar', 34357)\n",
    "      \n",
    "2)f = [1,2,3,4,5,6,7,8,9,10]\n",
    "  t = iter(f)\n",
    "  list(map(lambda x : x**2 , f)\n",
    "  \n",
    "  output=> [1, 4, 9, 16, 25, 36, 49, 64, 81, 100]\n",
    "  \n",
    "3)l5 = [1,2,3,4,5,6,7,8,9,10]\n",
    "  t2 = iter(l5)\n",
    "  list(map(lambda x : str(x) , l5))\n",
    "  \n",
    "  output=> ['1', '2', '3', '4', '5', '6', '7', '8', '9', '10']\n",
    "  \n",
    "4)l6=[]\n",
    "  for i in range(1,26):\n",
    "       l6.append(i)\n",
    "  print(l6) \n",
    "  \n",
    "  from functools import reduce\n",
    "  reduce(lambda x,y : x*y , l6)\n",
    "  \n",
    "  output=> 15511210043330985984000000\n",
    "  \n",
    "5)l9 = [2, 3, 6, 9, 27, 60, 90, 120, 55, 46]\n",
    "  list(filter(lambda x: x%2==0 and x%3==0 , l9))\n",
    "    \n",
    "  output => [6,60,90,120]\n",
    "    \n",
    "6)l10=['python', 'php', 'aba', 'radar', 'level']\n",
    "  list(filter(lambda x: x[::] == x[::-1] , l10))\n",
    "  \n",
    "  output => ['php', 'aba', 'radar', 'level']\n",
    "  "
   ]
  }
 ],
 "metadata": {
  "kernelspec": {
   "display_name": "Python 3 (ipykernel)",
   "language": "python",
   "name": "python3"
  },
  "language_info": {
   "codemirror_mode": {
    "name": "ipython",
    "version": 3
   },
   "file_extension": ".py",
   "mimetype": "text/x-python",
   "name": "python",
   "nbconvert_exporter": "python",
   "pygments_lexer": "ipython3",
   "version": "3.10.8"
  }
 },
 "nbformat": 4,
 "nbformat_minor": 5
}
