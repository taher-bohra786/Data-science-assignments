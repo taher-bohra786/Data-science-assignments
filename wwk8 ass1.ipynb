{
 "cells": [
  {
   "cell_type": "markdown",
   "id": "5f3658c2-e5a0-4edb-b93f-2b6d98965c56",
   "metadata": {},
   "source": [
    "1."
   ]
  },
  {
   "cell_type": "code",
   "execution_count": 1,
   "id": "010ebd96-6746-4e77-bdf4-28d627a3a14e",
   "metadata": {},
   "outputs": [],
   "source": [
    "import pandas as pd"
   ]
  },
  {
   "cell_type": "code",
   "execution_count": 6,
   "id": "e80d1a5c-c14a-4b6f-9cef-c06613400872",
   "metadata": {},
   "outputs": [],
   "source": [
    "s = pd.Series([4,8,15,16,23] , index = [1,2,3,4,5])"
   ]
  },
  {
   "cell_type": "code",
   "execution_count": 7,
   "id": "3390e30d-55a5-4fae-895f-60b71c907f5d",
   "metadata": {},
   "outputs": [
    {
     "data": {
      "text/plain": [
       "1     4\n",
       "2     8\n",
       "3    15\n",
       "4    16\n",
       "5    23\n",
       "dtype: int64"
      ]
     },
     "execution_count": 7,
     "metadata": {},
     "output_type": "execute_result"
    }
   ],
   "source": [
    "s"
   ]
  },
  {
   "cell_type": "markdown",
   "id": "bc739d85-8edf-4ac6-a0e7-1cd82e8884f3",
   "metadata": {},
   "source": [
    "2"
   ]
  },
  {
   "cell_type": "code",
   "execution_count": 8,
   "id": "639e234e-073f-4843-b618-b69bf615ecee",
   "metadata": {},
   "outputs": [],
   "source": [
    "list_elem = ['Taher' , 'Pw' , 4,34, 453]"
   ]
  },
  {
   "cell_type": "code",
   "execution_count": 9,
   "id": "907edfee-e709-4c18-afa2-4cc55a73f118",
   "metadata": {},
   "outputs": [],
   "source": [
    "s1 = pd.Series(list_elem)"
   ]
  },
  {
   "cell_type": "code",
   "execution_count": 10,
   "id": "938b856a-b807-4a86-8397-20a9c5c19dc6",
   "metadata": {},
   "outputs": [
    {
     "data": {
      "text/plain": [
       "0    Taher\n",
       "1       Pw\n",
       "2        4\n",
       "3       34\n",
       "4      453\n",
       "dtype: object"
      ]
     },
     "execution_count": 10,
     "metadata": {},
     "output_type": "execute_result"
    }
   ],
   "source": [
    "s1"
   ]
  },
  {
   "cell_type": "markdown",
   "id": "c82ca7b4-5b3c-4c04-917c-d8788a4fe5b3",
   "metadata": {},
   "source": [
    "3"
   ]
  },
  {
   "cell_type": "code",
   "execution_count": 16,
   "id": "26ccfd8a-6685-4bf5-94cc-571105827b54",
   "metadata": {},
   "outputs": [],
   "source": [
    "data = {\n",
    "    'Name' : [\"Alice\" , \"Bob\" , \"Claire\"] , \n",
    "        'Age' : [25 ,20, 27], \n",
    "        'Gender' : [\"female\" , \"male\" , \"female\"]}"
   ]
  },
  {
   "cell_type": "code",
   "execution_count": 20,
   "id": "454936e1-088d-4ce7-8b7d-6e062b3cadff",
   "metadata": {},
   "outputs": [],
   "source": [
    "s2 = pd.DataFrame(data)"
   ]
  },
  {
   "cell_type": "code",
   "execution_count": 21,
   "id": "bda8d136-38e8-4668-b6ee-47a1e72b5d4b",
   "metadata": {},
   "outputs": [
    {
     "data": {
      "text/html": [
       "<div>\n",
       "<style scoped>\n",
       "    .dataframe tbody tr th:only-of-type {\n",
       "        vertical-align: middle;\n",
       "    }\n",
       "\n",
       "    .dataframe tbody tr th {\n",
       "        vertical-align: top;\n",
       "    }\n",
       "\n",
       "    .dataframe thead th {\n",
       "        text-align: right;\n",
       "    }\n",
       "</style>\n",
       "<table border=\"1\" class=\"dataframe\">\n",
       "  <thead>\n",
       "    <tr style=\"text-align: right;\">\n",
       "      <th></th>\n",
       "      <th>Name</th>\n",
       "      <th>Age</th>\n",
       "      <th>Gender</th>\n",
       "    </tr>\n",
       "  </thead>\n",
       "  <tbody>\n",
       "    <tr>\n",
       "      <th>0</th>\n",
       "      <td>Alice</td>\n",
       "      <td>25</td>\n",
       "      <td>female</td>\n",
       "    </tr>\n",
       "    <tr>\n",
       "      <th>1</th>\n",
       "      <td>Bob</td>\n",
       "      <td>20</td>\n",
       "      <td>male</td>\n",
       "    </tr>\n",
       "    <tr>\n",
       "      <th>2</th>\n",
       "      <td>Claire</td>\n",
       "      <td>27</td>\n",
       "      <td>female</td>\n",
       "    </tr>\n",
       "  </tbody>\n",
       "</table>\n",
       "</div>"
      ],
      "text/plain": [
       "     Name  Age  Gender\n",
       "0   Alice   25  female\n",
       "1     Bob   20    male\n",
       "2  Claire   27  female"
      ]
     },
     "execution_count": 21,
     "metadata": {},
     "output_type": "execute_result"
    }
   ],
   "source": [
    "s2"
   ]
  },
  {
   "cell_type": "markdown",
   "id": "03e42fb9-4a68-4de6-a946-cedba85ee32b",
   "metadata": {},
   "source": [
    "4"
   ]
  },
  {
   "cell_type": "markdown",
   "id": "32b61c47-25ac-4684-9e31-4ebdf123c1fb",
   "metadata": {},
   "source": [
    "A DataFrame in pandas is a 2-dimensional, size-mutable, and potentially heterogeneous tabular data structure with labeled axes (rows and columns), whereas a Series is a 1-dimensional array with labels (like a single column of a DataFrame)."
   ]
  },
  {
   "cell_type": "markdown",
   "id": "b32141a8-6e18-4cef-8916-61f0479950c5",
   "metadata": {},
   "source": [
    "Example of Dataframe"
   ]
  },
  {
   "cell_type": "code",
   "execution_count": 24,
   "id": "25a9b29d-cbc8-4ecc-b3fc-260cb2ed2a23",
   "metadata": {},
   "outputs": [],
   "source": [
    "data = {\n",
    "    'Name' : [\"Taher\" , \"Ali\" , \"Zainab\"] , \n",
    "        'Age' : [25 ,20, 27], \n",
    "        'Gender' : [\"Male\" , \"Male\" , \"Female\"]\n",
    "}"
   ]
  },
  {
   "cell_type": "code",
   "execution_count": 25,
   "id": "7b89a6d9-5deb-47de-a7bf-f8c5a7d1b290",
   "metadata": {},
   "outputs": [],
   "source": [
    "s3 = pd.DataFrame(data)"
   ]
  },
  {
   "cell_type": "code",
   "execution_count": 26,
   "id": "134dace0-319b-42c4-a8e8-0ff3a0d095ad",
   "metadata": {},
   "outputs": [
    {
     "data": {
      "text/html": [
       "<div>\n",
       "<style scoped>\n",
       "    .dataframe tbody tr th:only-of-type {\n",
       "        vertical-align: middle;\n",
       "    }\n",
       "\n",
       "    .dataframe tbody tr th {\n",
       "        vertical-align: top;\n",
       "    }\n",
       "\n",
       "    .dataframe thead th {\n",
       "        text-align: right;\n",
       "    }\n",
       "</style>\n",
       "<table border=\"1\" class=\"dataframe\">\n",
       "  <thead>\n",
       "    <tr style=\"text-align: right;\">\n",
       "      <th></th>\n",
       "      <th>Name</th>\n",
       "      <th>Age</th>\n",
       "      <th>Gender</th>\n",
       "    </tr>\n",
       "  </thead>\n",
       "  <tbody>\n",
       "    <tr>\n",
       "      <th>0</th>\n",
       "      <td>Taher</td>\n",
       "      <td>25</td>\n",
       "      <td>Male</td>\n",
       "    </tr>\n",
       "    <tr>\n",
       "      <th>1</th>\n",
       "      <td>Ali</td>\n",
       "      <td>20</td>\n",
       "      <td>Male</td>\n",
       "    </tr>\n",
       "    <tr>\n",
       "      <th>2</th>\n",
       "      <td>Zainab</td>\n",
       "      <td>27</td>\n",
       "      <td>Female</td>\n",
       "    </tr>\n",
       "  </tbody>\n",
       "</table>\n",
       "</div>"
      ],
      "text/plain": [
       "     Name  Age  Gender\n",
       "0   Taher   25    Male\n",
       "1     Ali   20    Male\n",
       "2  Zainab   27  Female"
      ]
     },
     "execution_count": 26,
     "metadata": {},
     "output_type": "execute_result"
    }
   ],
   "source": [
    "s3"
   ]
  },
  {
   "cell_type": "markdown",
   "id": "638fc4bc-e480-447a-988b-e45db48ebd0b",
   "metadata": {},
   "source": [
    "Example of Series"
   ]
  },
  {
   "cell_type": "code",
   "execution_count": 27,
   "id": "7eb5f2dc-39e9-4e85-9313-ae06385eb285",
   "metadata": {},
   "outputs": [],
   "source": [
    "data = {\n",
    "    'Name' : [\"Taher\" , \"Ali\" , \"Zainab\"] , \n",
    "        'Age' : [25 ,20, 27], \n",
    "        'Gender' : [\"Male\" , \"Male\" , \"Female\"]\n",
    "}"
   ]
  },
  {
   "cell_type": "code",
   "execution_count": 28,
   "id": "ffc23dd6-2618-4e38-a5d2-d206041b42bb",
   "metadata": {},
   "outputs": [],
   "source": [
    "s4 = pd.Series(data)"
   ]
  },
  {
   "cell_type": "code",
   "execution_count": 29,
   "id": "0029866a-6227-4c81-b95a-5955da290023",
   "metadata": {},
   "outputs": [
    {
     "data": {
      "text/plain": [
       "Name      [Taher, Ali, Zainab]\n",
       "Age               [25, 20, 27]\n",
       "Gender    [Male, Male, Female]\n",
       "dtype: object"
      ]
     },
     "execution_count": 29,
     "metadata": {},
     "output_type": "execute_result"
    }
   ],
   "source": [
    "s4"
   ]
  },
  {
   "cell_type": "markdown",
   "id": "cad8fd3a-29e8-4235-89b1-1e5211feedb1",
   "metadata": {},
   "source": [
    "5"
   ]
  },
  {
   "cell_type": "markdown",
   "id": "48630377-4939-48f5-b344-2c6aa2ceed80",
   "metadata": {},
   "source": [
    "Some common functions to manupulate data in Pandas DataFrame are head , info , describe , tail , merge"
   ]
  },
  {
   "cell_type": "markdown",
   "id": "17ad4f00-3350-4f18-b31c-4c6264d16101",
   "metadata": {},
   "source": [
    "Example of using tail function, This function fetch the last 5 records of the data"
   ]
  },
  {
   "cell_type": "code",
   "execution_count": 32,
   "id": "04a14595-f8ba-4df2-86ba-2c74caccfc26",
   "metadata": {},
   "outputs": [],
   "source": [
    "s5 = pd.Series([15,223,335,434,54,62,76,56])"
   ]
  },
  {
   "cell_type": "code",
   "execution_count": 33,
   "id": "f89f1428-dda0-4e01-94ba-2e5c2eccc0b5",
   "metadata": {},
   "outputs": [
    {
     "data": {
      "text/plain": [
       "3    434\n",
       "4     54\n",
       "5     62\n",
       "6     76\n",
       "7     56\n",
       "dtype: int64"
      ]
     },
     "execution_count": 33,
     "metadata": {},
     "output_type": "execute_result"
    }
   ],
   "source": [
    "s5.tail()"
   ]
  },
  {
   "cell_type": "markdown",
   "id": "0cf2b9f3-7d3f-452d-b563-ced69a250c0b",
   "metadata": {},
   "source": [
    "6"
   ]
  },
  {
   "cell_type": "markdown",
   "id": "708a0c3c-9c99-4498-ac49-99f477c44067",
   "metadata": {},
   "source": [
    "Series and DataFrames are mutable "
   ]
  },
  {
   "cell_type": "markdown",
   "id": "aed9d89f-82d1-424f-be8f-bcb4bf72ccb8",
   "metadata": {},
   "source": [
    "7"
   ]
  },
  {
   "cell_type": "code",
   "execution_count": null,
   "id": "735690c6-f561-4f68-957f-528b6bb5bb6d",
   "metadata": {},
   "outputs": [],
   "source": []
  }
 ],
 "metadata": {
  "kernelspec": {
   "display_name": "Python 3 (ipykernel)",
   "language": "python",
   "name": "python3"
  },
  "language_info": {
   "codemirror_mode": {
    "name": "ipython",
    "version": 3
   },
   "file_extension": ".py",
   "mimetype": "text/x-python",
   "name": "python",
   "nbconvert_exporter": "python",
   "pygments_lexer": "ipython3",
   "version": "3.10.8"
  }
 },
 "nbformat": 4,
 "nbformat_minor": 5
}
