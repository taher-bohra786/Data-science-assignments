{
 "cells": [
  {
   "cell_type": "markdown",
   "metadata": {},
   "source": [
    "**Q1:** Feature selection improves anomaly detection by reducing noise, improving model efficiency, and enhancing the distinction between normal and anomalous data.  \n",
    "\n",
    "**Q2:** Common metrics:  \n",
    "- **Precision & Recall** (measure false positives/negatives)  \n",
    "- **F1-Score** (harmonic mean of precision & recall)  \n",
    "- **AUC-ROC** (evaluates true positive vs. false positive rates)  \n",
    "\n",
    "**Q3:** DBSCAN (Density-Based Spatial Clustering of Applications with Noise) clusters data by grouping points with high density while treating sparse regions as anomalies.  \n",
    "\n",
    "**Q4:** A smaller epsilon detects more fine-grained clusters, while a larger ε merges clusters and reduces anomaly detection sensitivity.  \n",
    "\n",
    "**Q5:**  \n",
    "- **Core points**: Dense region points with enough neighbors.  \n",
    "- **Border points**: Near core points but with fewer neighbors.  \n",
    "- **Noise points**: Outliers, not part of any cluster (potential anomalies).  \n",
    "\n",
    "**Q6:** DBSCAN detects anomalies as noise points that don’t belong to any cluster. Key parameters:  \n",
    "- **(epsilon)**: Defines neighborhood radius.  \n",
    "- **min_samples**: Minimum points needed to form a dense cluster.  \n",
    "\n",
    "**Q7:** `make_circles` in `scikit-learn` generates synthetic 2D circular datasets for testing clustering and anomaly detection models.  \n",
    "\n",
    "**Q8:**  \n",
    "- **Local outliers**: Deviate from nearby points but may fit globally.  \n",
    "- **Global outliers**: Deviate significantly from the entire dataset.  \n",
    "\n",
    "**Q9:** LOF detects local outliers by comparing a point’s local density to its neighbors; a much lower density suggests an anomaly.  \n",
    "\n",
    "**Q10:** Isolation Forest detects global outliers by isolating them in fewer splits due to their sparse presence in the dataset.  \n",
    "\n",
    "**Q11:**  \n",
    "- **Local Outlier Detection:** Used in fraud detection, network intrusion, and manufacturing defect detection (where local anomalies are critical).  \n",
    "- **Global Outlier Detection:** Used in financial fraud detection, earthquake detection, and sensor failure monitoring (where anomalies deviate globally)."
   ]
  }
 ],
 "metadata": {
  "language_info": {
   "name": "python"
  }
 },
 "nbformat": 4,
 "nbformat_minor": 2
}
