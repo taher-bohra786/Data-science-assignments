{
 "cells": [
  {
   "cell_type": "markdown",
   "metadata": {},
   "source": [
    "1."
   ]
  },
  {
   "cell_type": "markdown",
   "metadata": {},
   "source": [
    "Data encoding converts categorical data into numerical form for machine learning models. It ensures algorithms can process the data effectively."
   ]
  },
  {
   "cell_type": "markdown",
   "metadata": {},
   "source": [
    "2."
   ]
  },
  {
   "cell_type": "markdown",
   "metadata": {},
   "source": [
    "Nominal encoding assigns unique numerical values to categorical variables. Example: Encoding car brands as {Toyota: 1, Honda: 2, Ford: 3} in an automobile sales dataset."
   ]
  },
  {
   "cell_type": "markdown",
   "metadata": {},
   "source": [
    "3."
   ]
  },
  {
   "cell_type": "markdown",
   "metadata": {},
   "source": [
    "Nominal encoding is preferred when there is no inherent order among categories, and the number of unique values is small. Example: Encoding blood groups {A: 1, B: 2, AB: 3, O: 4} in a medical dataset."
   ]
  },
  {
   "cell_type": "markdown",
   "metadata": {},
   "source": [
    "4."
   ]
  },
  {
   "cell_type": "markdown",
   "metadata": {},
   "source": [
    "One-hot encoding is a good choice for 5 unique values, as it avoids unintended ordinal relationships and ensures better machine learning performance.\n"
   ]
  },
  {
   "cell_type": "markdown",
   "metadata": {},
   "source": [
    "5."
   ]
  },
  {
   "cell_type": "markdown",
   "metadata": {},
   "source": [
    "Nominal encoding creates 2 new columns (one for each categorical column). The number of new columns depends on the number of unique categories per column."
   ]
  },
  {
   "cell_type": "markdown",
   "metadata": {},
   "source": [
    "6."
   ]
  },
  {
   "cell_type": "markdown",
   "metadata": {},
   "source": [
    "One-hot encoding is suitable since species, habitat, and diet are categorical with no specific order, preventing numerical biases."
   ]
  },
  {
   "cell_type": "markdown",
   "metadata": {},
   "source": [
    "7."
   ]
  },
  {
   "cell_type": "markdown",
   "metadata": {},
   "source": [
    "1. Encode gender using label encoding (Male=0, Female=1).\n",
    "\n",
    "2. Encode contract type using one-hot encoding (Month-to-month, One year, Two years).\n",
    "\n",
    "3. Keep age, monthly charges, and tenure as they are (numerical features)."
   ]
  }
 ],
 "metadata": {
  "language_info": {
   "name": "python"
  }
 },
 "nbformat": 4,
 "nbformat_minor": 2
}
