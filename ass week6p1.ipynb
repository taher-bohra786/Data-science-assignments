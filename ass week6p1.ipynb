{
 "cells": [
  {
   "cell_type": "markdown",
   "id": "e8cfb7d4-b92e-4a6a-ae5a-4f25535ee045",
   "metadata": {},
   "source": [
    "1.\n",
    "A database is a structured collection of data organized in a way that a computer program can quickly select, manage, and update specific pieces of data. Databases can be relational (SQL) or non-relational (NoSQL).\n",
    "\n",
    "SQL (Structured Query Language) Databases:\n",
    "SQL databases are relational databases that use structured query language for defining and manipulating data.\n",
    "They have a predefined schema, which means the structure of the data (table names, column names, data types, relationships) must be defined before inserting data.\n",
    "Examples include MySQL, PostgreSQL, and SQLite.\n",
    "\n",
    "NoSQL Databases:\n",
    "NoSQL databases are non-relational databases that provide flexibility in handling unstructured and semi-structured data.\n",
    "They do not require a fixed schema, allowing you to insert data without first defining its structure.\n",
    "NoSQL databases are generally more scalable and better suited for handling large sets of distributed data.\n",
    "Examples include MongoDB, Cassandra, and Redis."
   ]
  },
  {
   "cell_type": "markdown",
   "id": "5e552a4d-304e-4739-a08a-4064d0f5b58f",
   "metadata": {},
   "source": [
    "2.\n",
    "DDL (Data Definition Language):\n",
    "DDL is a subset of SQL used for defining and managing the structure of a database. Common DDL commands include:\n",
    "\n",
    "CREATE: Used to create database objects like tables.\n",
    "CREATE TABLE Students (\n",
    "   StudentID INT PRIMARY KEY,\n",
    "   Name VARCHAR(100),\n",
    "   Age INT\n",
    ");\n",
    "\n",
    "DROP: Used to delete database objects like tables.\n",
    "DROP TABLE Students;\n",
    "\n",
    "ALTER: Used to modify the structure of a table.\n",
    "ALTER TABLE Students\n",
    "ADD COLUMN Grade CHAR(1);\n",
    "\n",
    "TRUNCATE: Used to remove all records from a table, but retains the structure for future use.\n",
    "TRUNCATE TABLE Students;"
   ]
  },
  {
   "cell_type": "markdown",
   "id": "a5b35e3a-4e49-4c58-8c79-aed9153ff4ec",
   "metadata": {},
   "source": [
    "3.\n",
    "DML (Data Manipulation Language):\n",
    "DML deals with data manipulation operations. Common DML commands include:\n",
    "\n",
    "INSERT: Used to insert data into a table.\n",
    "INSERT INTO Students (StudentID, Name, Age)\n",
    "VALUES (1, 'John Doe', 20);\n",
    "\n",
    "UPDATE: Used to modify existing records in a table.\n",
    "UPDATE Students\n",
    "SET Age = 21\n",
    "WHERE StudentID = 1;\n",
    "\n",
    "DELETE: Used to delete records from a table.\n",
    "DELETE FROM Students\n",
    "WHERE StudentID = 1;"
   ]
  },
  {
   "cell_type": "markdown",
   "id": "0d5c02e5-13a0-487a-a2d5-b5ca436fe44e",
   "metadata": {},
   "source": [
    "4.\n",
    "DQL (Data Query Language):\n",
    "DQL is used to query the database for information. The most common DQL command is SELECT:\n",
    "\n",
    "SELECT * FROM Students WHERE Age > 20;\n",
    "This query retrieves all columns (*) from the Students table where the age is greater than 20."
   ]
  },
  {
   "cell_type": "markdown",
   "id": "1577517a-62ae-4e0c-9511-4692e4cfe7db",
   "metadata": {
    "tags": []
   },
   "source": [
    "5.\n",
    "Primary Key:\n",
    "A primary key is a unique identifier for a record in a table.\n",
    "It must contain unique values and cannot contain NULL.\n",
    "Example:\n",
    "CREATE TABLE Employees (\n",
    "  EmployeeID INT PRIMARY KEY,\n",
    "  Name VARCHAR(100),\n",
    "  DepartmentID INT\n",
    ");\n",
    "\n",
    "Foreign Key:\n",
    "A foreign key is a column or a set of columns that refers to the primary key of another table.\n",
    "It establishes a link between the data in two tables.\n",
    "Example:\n",
    "CREATE TABLE Departments (\n",
    "  DepartmentID INT PRIMARY KEY,\n",
    "  DepartmentName VARCHAR(100)\n",
    ");\n",
    "\n",
    "ALTER TABLE Employees\n",
    "ADD FOREIGN KEY (DepartmentID) REFERENCES Departments(DepartmentID);"
   ]
  },
  {
   "cell_type": "markdown",
   "id": "a2742d6e-ba3a-4e1d-a71d-763cbf35d715",
   "metadata": {},
   "source": [
    "6.\n",
    "import mysql.connector\n",
    "mydb = mysql.connector.connect(\n",
    "  host=\"localhost\",\n",
    "  user=\"abc\",\n",
    "  password=\"password\"\n",
    ")\n",
    "mycursor = mydb.cursor()\n",
    "mycursor.execute(\"create database if not exists test2\")\n",
    "mydb.close()\n",
    "\n",
    "\n",
    "cursor(): The cursor() method creates a cursor object that is used to execute SQL queries and fetch results.\n",
    "\n",
    "execute(): The execute() method is used to execute a SQL command. In the example, it's a SELECT query. After executing, you can fetch the result using methods like fetchall()"
   ]
  },
  {
   "cell_type": "markdown",
   "id": "33b300ca-d1c5-4f16-af5a-9a5cb2d04cf9",
   "metadata": {},
   "source": [
    "7.\n",
    "FROM: Specifies the tables from which to retrieve data.\n",
    "WHERE: Filters the rows based on a specified condition.\n",
    "GROUP BY: Groups rows that have the same values into summary rows.\n",
    "HAVING: Filters groups based on a specified condition.\n",
    "SELECT: Retrieves the desired columns from the tables.\n",
    "ORDER BY: Sorts the result set based on specified columns.\n",
    "LIMIT/OFFSET: Specifies the number of rows to retrieve and the number of rows to skip."
   ]
  }
 ],
 "metadata": {
  "kernelspec": {
   "display_name": "Python 3 (ipykernel)",
   "language": "python",
   "name": "python3"
  },
  "language_info": {
   "codemirror_mode": {
    "name": "ipython",
    "version": 3
   },
   "file_extension": ".py",
   "mimetype": "text/x-python",
   "name": "python",
   "nbconvert_exporter": "python",
   "pygments_lexer": "ipython3",
   "version": "3.10.8"
  }
 },
 "nbformat": 4,
 "nbformat_minor": 5
}
