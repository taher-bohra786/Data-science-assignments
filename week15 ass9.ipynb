{
 "cells": [
  {
   "cell_type": "markdown",
   "metadata": {},
   "source": [
    "**Q1.**  \n",
    "- **Precision**: TP / (TP + FP) → Measures how many predicted positives are actually correct.  \n",
    "- **Recall**: TP / (TP + FN) → Measures how many actual positives are correctly predicted.  \n",
    "\n",
    "**Q2.**  \n",
    "- **F1 Score** = 2 × (Precision × Recall) / (Precision + Recall)  \n",
    "- It balances precision and recall, useful when there’s an imbalance between FP and FN.  \n",
    "\n",
    "**Q3.**  \n",
    "- **ROC (Receiver Operating Characteristic)**: A curve showing TPR vs. FPR at different thresholds.  \n",
    "- **AUC (Area Under Curve)**: Measures overall model performance (closer to 1 is better).  \n",
    "\n",
    "**Q4.**  \n",
    "- **Accuracy**: When classes are balanced.  \n",
    "- **Precision/Recall/F1-score**: When class imbalance exists.  \n",
    "- **ROC-AUC**: For ranking-based evaluation.  \n",
    "\n",
    "**Q5.**  \n",
    "- **One-vs-Rest (OvR)**: Trains a separate binary model for each class.  \n",
    "- **Softmax Regression**: Extends logistic regression by computing probabilities for multiple classes.  \n",
    "\n",
    "**Q6.**  \n",
    "1. Data collection & preprocessing  \n",
    "2. Feature engineering  \n",
    "3. Model selection & training  \n",
    "4. Hyperparameter tuning  \n",
    "5. Evaluation  \n",
    "6. Deployment  \n",
    "7. Monitoring & maintenance  \n",
    "\n",
    "**Q7.**  \n",
    "Model deployment makes ML models available for real-world use, enabling businesses to make predictions in production environments.  \n",
    "\n",
    "**Q8.**  \n",
    "Multi-cloud platforms (AWS, GCP, Azure) allow flexible, scalable, and resilient model deployment across different cloud providers.  \n",
    "\n",
    "**Q9.**  \n",
    "- **Benefits**: High availability, reduced vendor lock-in, scalability.  \n",
    "- **Challenges**: Increased complexity, interoperability issues, higher costs.  "
   ]
  }
 ],
 "metadata": {
  "language_info": {
   "name": "python"
  }
 },
 "nbformat": 4,
 "nbformat_minor": 2
}
