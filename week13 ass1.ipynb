{
 "cells": [
  {
   "cell_type": "markdown",
   "metadata": {},
   "source": [
    "**1.**"
   ]
  },
  {
   "cell_type": "markdown",
   "metadata": {},
   "source": [
    "Artificial Intelligence (AI): AI involves creating systems that can perform tasks requiring human intelligence, such as decision-making and problem-solving. Example: A chatbot that answers customer queries.\n",
    "\n",
    "Machine Learning (ML): ML is a subset of AI where machines learn from data to make predictions or decisions without explicit programming. Example: Email filters that classify spam.\n",
    "\n",
    "Deep Learning (DL): DL is a subset of ML that uses layered neural networks to model complex data patterns. Example: Voice assistants like Siri understanding speech.\n",
    "\n"
   ]
  },
  {
   "cell_type": "markdown",
   "metadata": {},
   "source": [
    "**2.**"
   ]
  },
  {
   "cell_type": "markdown",
   "metadata": {},
   "source": [
    "Supervised learning is a machine learning approach where models are trained on labeled data to make predictions. Examples:\n",
    "\n",
    "Linear regression\n",
    "Decision trees\n",
    "Support vector machines"
   ]
  },
  {
   "cell_type": "markdown",
   "metadata": {},
   "source": [
    "**3.**"
   ]
  },
  {
   "cell_type": "markdown",
   "metadata": {},
   "source": [
    "Unsupervised learning involves training models on unlabeled data to identify patterns or groupings. Examples:\n",
    "\n",
    "K-means clustering\n",
    "Principal component analysis (PCA)\n",
    "Hierarchical clustering\n"
   ]
  },
  {
   "cell_type": "markdown",
   "metadata": {},
   "source": [
    "**4.**"
   ]
  },
  {
   "cell_type": "markdown",
   "metadata": {},
   "source": [
    "Artificial Intelligence (AI): The broad field of creating intelligent machines.\n",
    "\n",
    "Machine Learning (ML): A subset of AI focusing on systems that learn from data.\n",
    "\n",
    "Deep Learning (DL): A subset of ML using deep neural networks for complex tasks.\n",
    "\n",
    "Data Science (DS): An interdisciplinary field that uses scientific methods to extract insights from data, often employing AI and ML techniques."
   ]
  },
  {
   "cell_type": "markdown",
   "metadata": {},
   "source": [
    "**5.**"
   ]
  },
  {
   "cell_type": "markdown",
   "metadata": {},
   "source": [
    "Supervised Learning: Trains on labeled data to make predictions.\n",
    "\n",
    "Unsupervised Learning: Finds patterns in unlabeled data.\n",
    "\n",
    "Semi-Supervised Learning: Uses both labeled and unlabeled data, beneficial when labeling is costly.\n"
   ]
  },
  {
   "cell_type": "markdown",
   "metadata": {},
   "source": [
    "**6.**"
   ]
  },
  {
   "cell_type": "markdown",
   "metadata": {},
   "source": [
    "Training Set: Data used to train the model.\n",
    "\n",
    "Validation Set: Data used to tune model parameters.\n",
    "\n",
    "Test Set: Data used to assess model performance.\n",
    "\n",
    "Splitting data ensures the model generalizes well to new, unseen data.\n",
    "\n"
   ]
  },
  {
   "cell_type": "markdown",
   "metadata": {},
   "source": [
    "**7.**"
   ]
  },
  {
   "cell_type": "markdown",
   "metadata": {},
   "source": [
    "Unsupervised learning algorithms can identify patterns in data; deviations from these patterns can be flagged as anomalies.\n",
    "\n"
   ]
  },
  {
   "cell_type": "markdown",
   "metadata": {},
   "source": [
    "**8.**"
   ]
  },
  {
   "cell_type": "markdown",
   "metadata": {},
   "source": [
    "Supervised Learning Algorithms:\n",
    "\n",
    "Linear Regression\n",
    "\n",
    "Decision Trees\n",
    "\n",
    "Support Vector Machines\n",
    "\n",
    "Unsupervised Learning Algorithms:\n",
    "\n",
    "K-Means Clustering\n",
    "\n",
    "Principal Component Analysis (PCA)\n",
    "\n",
    "Hierarchical Clustering"
   ]
  },
  {
   "cell_type": "markdown",
   "metadata": {},
   "source": []
  }
 ],
 "metadata": {
  "language_info": {
   "name": "python"
  }
 },
 "nbformat": 4,
 "nbformat_minor": 2
}
