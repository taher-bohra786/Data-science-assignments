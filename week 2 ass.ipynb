{
 "cells": [
  {
   "cell_type": "raw",
   "id": "3d260f0c-2755-4d1f-ad49-953d394205a2",
   "metadata": {},
   "source": [
    "1. To commend code in python we use # \n",
    "There are mainly two types of comments \n",
    "i) Single line comment - In this , we use # for single line comment. \n",
    "ii) Multiple line comment -  For the multiple line comments, we use ''' or \"\"\"\n",
    "\n",
    "2. Variables are user defined which is used to store the different types of values such as integer , string , list , dictionary or set . \n",
    "To declare the values in the variable we use assignment operator '=' \n",
    "for example =>       a = [1,2,'Taher' , 'pwskills']\n",
    "\n",
    "3. There are built in function to cnvert the data type like int() , float() , str() , dict().\n",
    "for example =>   \n",
    "a=[1,2,3,'five','seven']\n",
    "b=str(a)\n",
    "print(b)\n",
    "\n",
    "4. to execute python script , there are certain steps \n",
    "i) Install python \n",
    "ii) Write a python code in the notepad and SAVE the file by .py \n",
    "iii) Open the command line\n",
    "iv) Navigate the directory\n",
    "v) Now you ca run the python script using the 'python' command\n",
    "\n",
    "5. My_list = [1,2,3,4,5]\n",
    "sub_lsit = My_list[1:3]\n",
    "print(sub_list)\n",
    "\n",
    "output: [2:3]\n",
    "\n",
    "6. In mathematics, complex numbers are represented as a+bi where a and b are real numbers and i are imaginary unit. \n",
    "In python, we represent as a+bj where j is a imaginary unit. \n",
    "\n",
    "7. Simple we have to declare as, age =25\n",
    "\n",
    "8. Price = 9.99\n",
    "The data type pf price is float , i.e, floating number. \n",
    "\n",
    "9. name = \"Taher Ali Bohra\"\n",
    "print(name)\n",
    "\n",
    "10. my_string = \"Hello, World!\"\n",
    "print(my_string[7:12])\n",
    "\n",
    "11. is_student = True\n",
    "This will remain True if you are an student. "
   ]
  }
 ],
 "metadata": {
  "kernelspec": {
   "display_name": "Python 3 (ipykernel)",
   "language": "python",
   "name": "python3"
  },
  "language_info": {
   "codemirror_mode": {
    "name": "ipython",
    "version": 3
   },
   "file_extension": ".py",
   "mimetype": "text/x-python",
   "name": "python",
   "nbconvert_exporter": "python",
   "pygments_lexer": "ipython3",
   "version": "3.10.8"
  }
 },
 "nbformat": 4,
 "nbformat_minor": 5
}
