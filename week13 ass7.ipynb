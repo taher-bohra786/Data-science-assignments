{
 "cells": [
  {
   "cell_type": "markdown",
   "metadata": {},
   "source": [
    "1."
   ]
  },
  {
   "cell_type": "code",
   "execution_count": 1,
   "metadata": {},
   "outputs": [
    {
     "name": "stdout",
     "output_type": "stream",
     "text": [
      "Pearson Correlation Coefficient: 1.00\n"
     ]
    }
   ],
   "source": [
    "import numpy as np\n",
    "from scipy.stats import pearsonr\n",
    "\n",
    "# Sample data (study hours & exam scores)\n",
    "study_hours = np.array([2, 3, 4, 5, 6, 7, 8, 9, 10, 12])\n",
    "exam_scores = np.array([50, 55, 60, 65, 70, 75, 80, 85, 90, 95])\n",
    "\n",
    "# Calculate Pearson correlation\n",
    "corr, _ = pearsonr(study_hours, exam_scores)\n",
    "print(f\"Pearson Correlation Coefficient: {corr:.2f}\")\n"
   ]
  },
  {
   "cell_type": "markdown",
   "metadata": {},
   "source": [
    "2."
   ]
  },
  {
   "cell_type": "code",
   "execution_count": 2,
   "metadata": {},
   "outputs": [
    {
     "name": "stdout",
     "output_type": "stream",
     "text": [
      "Spearman Rank Correlation Coefficient: 0.98\n"
     ]
    }
   ],
   "source": [
    "from scipy.stats import spearmanr\n",
    "\n",
    "# Sample data (sleep hours & job satisfaction score out of 10)\n",
    "sleep_hours = np.array([4, 5, 6, 6, 7, 8, 8, 9, 10, 10])\n",
    "job_satisfaction = np.array([3, 4, 5, 6, 6, 7, 8, 8, 9, 10])\n",
    "\n",
    "# Calculate Spearman correlation\n",
    "spearman_corr, _ = spearmanr(sleep_hours, job_satisfaction)\n",
    "print(f\"Spearman Rank Correlation Coefficient: {spearman_corr:.2f}\")\n"
   ]
  },
  {
   "cell_type": "markdown",
   "metadata": {},
   "source": [
    "3."
   ]
  },
  {
   "cell_type": "code",
   "execution_count": 3,
   "metadata": {},
   "outputs": [
    {
     "name": "stdout",
     "output_type": "stream",
     "text": [
      "Pearson Correlation (Exercise vs BMI): -0.28\n",
      "Spearman Correlation (Exercise vs BMI): -0.28\n"
     ]
    }
   ],
   "source": [
    "# Sample data (exercise hours & BMI for 50 participants)\n",
    "np.random.seed(42)\n",
    "exercise_hours = np.random.randint(0, 10, 50)\n",
    "bmi = np.random.uniform(18, 35, 50)\n",
    "\n",
    "# Pearson correlation\n",
    "pearson_corr, _ = pearsonr(exercise_hours, bmi)\n",
    "print(f\"Pearson Correlation (Exercise vs BMI): {pearson_corr:.2f}\")\n",
    "\n",
    "# Spearman correlation\n",
    "spearman_corr, _ = spearmanr(exercise_hours, bmi)\n",
    "print(f\"Spearman Correlation (Exercise vs BMI): {spearman_corr:.2f}\")\n"
   ]
  },
  {
   "cell_type": "markdown",
   "metadata": {},
   "source": [
    "4."
   ]
  },
  {
   "cell_type": "code",
   "execution_count": 4,
   "metadata": {},
   "outputs": [
    {
     "name": "stdout",
     "output_type": "stream",
     "text": [
      "Pearson Correlation (TV vs Physical Activity): -0.07\n"
     ]
    }
   ],
   "source": [
    "# Sample data (TV hours & physical activity for 50 participants)\n",
    "tv_hours = np.random.randint(1, 8, 50)  # Hours of TV per day\n",
    "physical_activity = np.random.randint(0, 5, 50)  # Activity level (0-5 scale)\n",
    "\n",
    "# Pearson correlation\n",
    "tv_corr, _ = pearsonr(tv_hours, physical_activity)\n",
    "print(f\"Pearson Correlation (TV vs Physical Activity): {tv_corr:.2f}\")\n"
   ]
  },
  {
   "cell_type": "markdown",
   "metadata": {},
   "source": [
    "6."
   ]
  },
  {
   "cell_type": "code",
   "execution_count": 5,
   "metadata": {},
   "outputs": [
    {
     "name": "stdout",
     "output_type": "stream",
     "text": [
      "Pearson Correlation Coefficient: -0.03\n"
     ]
    }
   ],
   "source": [
    "import numpy as np\n",
    "from scipy.stats import pearsonr\n",
    "\n",
    "# Sample data (Number of sales calls per day and sales made per week)\n",
    "np.random.seed(42)  # For reproducibility\n",
    "sales_calls_per_day = np.random.randint(10, 50, 30)  # Random data: 10 to 50 calls/day\n",
    "sales_per_week = np.random.randint(5, 20, 30)  # Random data: 5 to 20 sales/week\n",
    "\n",
    "# Calculate Pearson correlation\n",
    "corr, _ = pearsonr(sales_calls_per_day, sales_per_week)\n",
    "print(f\"Pearson Correlation Coefficient: {corr:.2f}\")\n"
   ]
  },
  {
   "cell_type": "code",
   "execution_count": null,
   "metadata": {},
   "outputs": [],
   "source": []
  }
 ],
 "metadata": {
  "kernelspec": {
   "display_name": "Python 3",
   "language": "python",
   "name": "python3"
  },
  "language_info": {
   "codemirror_mode": {
    "name": "ipython",
    "version": 3
   },
   "file_extension": ".py",
   "mimetype": "text/x-python",
   "name": "python",
   "nbconvert_exporter": "python",
   "pygments_lexer": "ipython3",
   "version": "3.11.9"
  }
 },
 "nbformat": 4,
 "nbformat_minor": 2
}
